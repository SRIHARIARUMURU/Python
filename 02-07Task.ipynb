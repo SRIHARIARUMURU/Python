{
 "cells": [
  {
   "cell_type": "code",
   "execution_count": null,
   "id": "7567e8f9",
   "metadata": {},
   "outputs": [
    {
     "name": "stdout",
     "output_type": "stream",
     "text": [
      "{'age': 25, 'city': 'New york'}\n"
     ]
    }
   ],
   "source": [
    "# 1. Delete a list of keys from a dictionary\n",
    "sample_dict = {\"name\": \"Kelly\",\"age\": 25, \"salary\": 8000, \"city\": \"New york\"}\n",
    "# Keys to remove\n",
    "keys = [\"name\", \"salary\"]\n",
    "for i in keys:\n",
    "    sample_dict.pop(i)\n",
    "print(sample_dict)"
   ]
  },
  {
   "cell_type": "code",
   "execution_count": 23,
   "id": "27ed7d99",
   "metadata": {},
   "outputs": [
    {
     "name": "stdout",
     "output_type": "stream",
     "text": [
      "{'p': 1, 'r': 2, 'o': 1, 'g': 2, 'a': 1, 'm': 2, 'i': 1, 'n': 1}\n"
     ]
    }
   ],
   "source": [
    "# 2. Count the frequency of each character in a given string using a dictionary.\n",
    "s=\"programming\"\n",
    "d={}\n",
    "for i in s:\n",
    "    # d[i]=s.count(i)\n",
    "    d[i]=d.get(i,0)+1\n",
    "print(d)"
   ]
  },
  {
   "cell_type": "code",
   "execution_count": 25,
   "id": "4d9c4819",
   "metadata": {},
   "outputs": [
    {
     "name": "stdout",
     "output_type": "stream",
     "text": [
      "{'Kelly': 'name', 25: 'age', 8000: 'salary', 'New york': 'city'}\n"
     ]
    }
   ],
   "source": [
    "# 3. Swap keys and values in a dictionary.\n",
    "sample_dict = {\"name\": \"Kelly\",\"age\": 25, \"salary\": 8000, \"city\": \"New york\"}\n",
    "d={}\n",
    "for i,j in sample_dict.items():\n",
    "    d[j]=i\n",
    "print(d)"
   ]
  },
  {
   "cell_type": "code",
   "execution_count": 108,
   "id": "b6e27ad7",
   "metadata": {},
   "outputs": [
    {
     "name": "stdout",
     "output_type": "stream",
     "text": [
      "6\n"
     ]
    }
   ],
   "source": [
    "# 4. Write a program to sum all the values in a dictionary.\n",
    "d={'a':1,'b':2,'c':3}\n",
    "# print(sum(d.values()))\n",
    "        # or\n",
    "sum=0\n",
    "for i in d.values():\n",
    "    sum+=i\n",
    "print(sum)"
   ]
  },
  {
   "cell_type": "code",
   "execution_count": 62,
   "id": "ddfc2ada",
   "metadata": {},
   "outputs": [
    {
     "name": "stdout",
     "output_type": "stream",
     "text": [
      "{1: {'name': 'srihari', 'roll': 503, 'marks': 75}, 2: {'name': 'shashank', 'roll': 527, 'marks': 70}, 3: {'name': 'pavan', 'roll': 564, 'marks': 60}}\n"
     ]
    }
   ],
   "source": [
    "# 5. Create a nested dictionary for student details (name, roll, marks).\n",
    "d={\n",
    "    1:{'name':\"srihari\",'roll':503,'marks':75},\n",
    "    2:{'name':\"shashank\",'roll':527,'marks':70},\n",
    "    3:{'name':\"pavan\",'roll':564,'marks':60}\n",
    "}\n",
    "print(d)"
   ]
  },
  {
   "cell_type": "code",
   "execution_count": null,
   "id": "90801e45",
   "metadata": {},
   "outputs": [
    {
     "name": "stdout",
     "output_type": "stream",
     "text": [
      "[('name', 'Kelly'), ('age', 25), ('salary', 8000), ('city', 'New york')]\n"
     ]
    }
   ],
   "source": [
    "# 6. Convert a dictionary to a list of tuples.\n",
    "sample_dict = {\"name\": \"Kelly\",\"age\": 25, \"salary\": 8000, \"city\": \"New york\"}\n",
    "l=[]\n",
    "for i in sample_dict.items():\n",
    "    l.append(i)    \n",
    "print(l)\n",
    "            # or\n",
    "# print([i for i in sample_dict.items()])"
   ]
  },
  {
   "cell_type": "code",
   "execution_count": 68,
   "id": "050b2bd3",
   "metadata": {},
   "outputs": [
    {
     "name": "stdout",
     "output_type": "stream",
     "text": [
      "{'name': 5, 'age': 2, 'salary': 4, 'city': 8}\n"
     ]
    }
   ],
   "source": [
    "# 7. Write a program to store names as keys and their lengths as values.\n",
    "sample_dict = {\"name\": \"Kelly\",\"age\": 25, \"salary\": 8000, \"city\": \"New york\"}\n",
    "d={}\n",
    "for i,j in sample_dict.items():\n",
    "    d[i]=len(str(j))\n",
    "print(d)\n",
    "            # or\n",
    "# print({i:len(str(j)) for i,j in sample_dict.items()})"
   ]
  },
  {
   "cell_type": "code",
   "execution_count": 47,
   "id": "d5ae6aa4",
   "metadata": {},
   "outputs": [
    {
     "name": "stdout",
     "output_type": "stream",
     "text": [
      "{1: 'odd', 2: 'even', 3: 'odd', 4: 'even', 5: 'odd'}\n"
     ]
    }
   ],
   "source": [
    "# 8. Create a dictionary for numbers 1 to 5, where the value is \"even\" if the number is even, and\n",
    "# \"odd\" if the number is odd\n",
    "# Expected Output:\n",
    "# {1: 'odd', 2: 'even', 3: 'odd', 4: 'even', 5: 'odd'}\n",
    "d={}\n",
    "for i in range(1,6):\n",
    "    if i%2==0:\n",
    "        d[i]=\"even\"\n",
    "    else:\n",
    "        d[i]=\"odd\"\n",
    "print(d)\n",
    "            # or\n",
    "# print({i:\"even\" if i%2==0 else \"odd\" for i in range(1,6)})"
   ]
  }
 ],
 "metadata": {
  "kernelspec": {
   "display_name": "base",
   "language": "python",
   "name": "python3"
  },
  "language_info": {
   "codemirror_mode": {
    "name": "ipython",
    "version": 3
   },
   "file_extension": ".py",
   "mimetype": "text/x-python",
   "name": "python",
   "nbconvert_exporter": "python",
   "pygments_lexer": "ipython3",
   "version": "3.11.5"
  }
 },
 "nbformat": 4,
 "nbformat_minor": 5
}
