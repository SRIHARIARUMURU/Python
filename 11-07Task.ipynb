{
 "cells": [
  {
   "cell_type": "code",
   "execution_count": null,
   "id": "0d69b50c",
   "metadata": {},
   "outputs": [],
   "source": [
    "# 1.\tHow do you define a class in Python?\n",
    "\"In python we define a class by using 'class'keywordfollowed by clas_name and collon(:) \"\n",
    "class srihari:\n",
    "    # block of code"
   ]
  },
  {
   "cell_type": "code",
   "execution_count": 1,
   "id": "511620ac",
   "metadata": {},
   "outputs": [
    {
     "name": "stdout",
     "output_type": "stream",
     "text": [
      "10\n"
     ]
    }
   ],
   "source": [
    "# 2.\tHow do you create an object in Python?\n",
    "\"\"\" Creae an object we have to assign the class_name followed by parentheses to an object(identifer)  \"\"\"\n",
    "class srihari:\n",
    "    a=10\n",
    "obj=srihari()\n",
    "print(obj.a)"
   ]
  },
  {
   "cell_type": "code",
   "execution_count": null,
   "id": "54ee8e1a",
   "metadata": {},
   "outputs": [
    {
     "name": "stdout",
     "output_type": "stream",
     "text": [
      "This is a constructor\n"
     ]
    }
   ],
   "source": [
    "# 3.\tWhat is the purpose of the _init_() method?\n",
    "\"\"\"The _init_() method is a default method or constructor in python it is used to construct/prepare the objects for use, it calls or invokes  automatically when the time of object creation, it needs a mandatory parameter ex:self\"\"\"\n",
    "class srihari:\n",
    "    def __init__(self):\n",
    "        print(\"This is a constructor\")\n",
    "obj=srihari()\n"
   ]
  },
  {
   "cell_type": "code",
   "execution_count": 9,
   "id": "1db20ff4",
   "metadata": {},
   "outputs": [
    {
     "name": "stdout",
     "output_type": "stream",
     "text": [
      "srihari\n"
     ]
    },
    {
     "data": {
      "text/plain": [
       "'srihari'"
      ]
     },
     "execution_count": 9,
     "metadata": {},
     "output_type": "execute_result"
    }
   ],
   "source": [
    "# 4.\tWhat is the use of self keyword in class methods?\n",
    "\"\"\"self keyword is a first parameter in the class method , it refers to the current object and used to access variables and methods\"\"\"\n",
    "class A:\n",
    "    def ex(self,name):\n",
    "        self.name=name\n",
    "        print(name)\n",
    "a=A()\n",
    "a.ex(\"srihari\")\n",
    "a.name"
   ]
  },
  {
   "cell_type": "code",
   "execution_count": 4,
   "id": "bcf1a938",
   "metadata": {},
   "outputs": [
    {
     "name": "stdout",
     "output_type": "stream",
     "text": [
      "It is a function\n",
      "It is a method\n"
     ]
    }
   ],
   "source": [
    "# 5.\tWhat is the difference between a method and a function in Python?\n",
    "\"\"\" A function is block of code that can be reusable by calling it by function name \n",
    "    A method is a function inside the class with self parameter it can be called by using object_name.method_name\"\"\"\n",
    "def a():\n",
    "    print(\"It is a function\")\n",
    "class A:\n",
    "    def b(self):\n",
    "        print(\"It is a method\")\n",
    "x=A()\n",
    "a()\n",
    "x.b()"
   ]
  },
  {
   "cell_type": "code",
   "execution_count": null,
   "id": "40064a43",
   "metadata": {},
   "outputs": [],
   "source": [
    "# 6.\tWhat is Object-Oriented Programming?\n",
    "\"Object-Oriented-Programming(OOPS) is one of the paradim(approach) in programming to solve the problems using objects,object is a real world entity that occupy some memory \"\n",
    "\"\"\"\n",
    "The main pillers of OOPS are\n",
    "* Encapsulation : wrapping data(variables) and methods into a single unit(class) \n",
    "* Polymorphism  : many forms\n",
    "* Abstraction   : Hiding unwanted data from the users\n",
    "* Inheritance   : Inherit the parent class data in child class\n",
    "\"\"\""
   ]
  },
  {
   "cell_type": "code",
   "execution_count": 39,
   "id": "15742a44",
   "metadata": {},
   "outputs": [
    {
     "name": "stdout",
     "output_type": "stream",
     "text": [
      "630\n"
     ]
    }
   ],
   "source": [
    "# 7.\tHow to Define a Class Method\n",
    "\"\"\"class method is a type of a method in python that start with a decorator @classmethod it is helps us to access the class variables, it must require a parameterex:cls\"\"\"\n",
    "class srihari:\n",
    "    num=503\n",
    "    @classmethod\n",
    "    def cls_method(cls):\n",
    "        cls.num=630\n",
    "obj=srihari()\n",
    "obj.cls_method()\n",
    "print(obj.num)"
   ]
  }
 ],
 "metadata": {
  "kernelspec": {
   "display_name": "base",
   "language": "python",
   "name": "python3"
  },
  "language_info": {
   "codemirror_mode": {
    "name": "ipython",
    "version": 3
   },
   "file_extension": ".py",
   "mimetype": "text/x-python",
   "name": "python",
   "nbconvert_exporter": "python",
   "pygments_lexer": "ipython3",
   "version": "3.11.5"
  }
 },
 "nbformat": 4,
 "nbformat_minor": 5
}
