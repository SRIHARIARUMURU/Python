{
 "cells": [
  {
   "cell_type": "code",
   "execution_count": 16,
   "id": "184ccff7",
   "metadata": {},
   "outputs": [
    {
     "name": "stdout",
     "output_type": "stream",
     "text": [
      "aabbbcc\n",
      "a2b3c2\n"
     ]
    }
   ],
   "source": [
    "# 1. Compress a string using character counts.\n",
    "# Input: \"aabbbcc\" → Output: \"a2b3c2\"\n",
    "s=input()\n",
    "print(s)\n",
    "res=''\n",
    "for i in s:\n",
    "    if i not in res:\n",
    "        a=s.count(i)\n",
    "        res+=i+str(a)\n",
    "print(res)"
   ]
  },
  {
   "cell_type": "code",
   "execution_count": 106,
   "id": "d96ebe70",
   "metadata": {},
   "outputs": [
    {
     "name": "stdout",
     "output_type": "stream",
     "text": [
      "python is fun\n",
      "Python Is Fun \n"
     ]
    }
   ],
   "source": [
    "# 2. Convert a string to title case without using .title().\n",
    "# Input: \"python is fun\" → Output: \"Python Is Fun\"\n",
    "# s=input()\n",
    "s=input()\n",
    "print(s)\n",
    "s1=s.split()\n",
    "res=\"\"\n",
    "for i in s1:\n",
    "    res+=i.capitalize()+\" \"\n",
    "a=\"\".join(res)\n",
    "print(res)\n"
   ]
  },
  {
   "cell_type": "code",
   "execution_count": 105,
   "id": "fc6ee10d",
   "metadata": {},
   "outputs": [
    {
     "name": "stdout",
     "output_type": "stream",
     "text": [
      "act cat\n",
      "yes\n"
     ]
    }
   ],
   "source": [
    "# 3. Check whether two strings are anagrams of each other.\n",
    "s1,s2=map(str,input().split())\n",
    "print(s1,s2)\n",
    "d={}\n",
    "d1={}\n",
    "for i in s1:\n",
    "    d[i]=s1.count(i)\n",
    "for i in s2:\n",
    "    d1[i]=s2.count(i)\n",
    "if d==d1:\n",
    "    print(\"yes\")\n",
    "else:\n",
    "    print(\"no\")"
   ]
  },
  {
   "cell_type": "code",
   "execution_count": 108,
   "id": "0d0a98c8",
   "metadata": {},
   "outputs": [
    {
     "name": "stdout",
     "output_type": "stream",
     "text": [
      "abc123\n"
     ]
    }
   ],
   "source": [
    "# 4. Convert a string \"1a2b3c\" to \"abc123\".\n",
    "s=\"1a2b3c\"\n",
    "res=\"\"\n",
    "res1=\"\"\n",
    "for i in s:\n",
    "    if i.isalpha():\n",
    "        res+=i\n",
    "    else:\n",
    "        res1+=i\n",
    "print(res+res1)"
   ]
  },
  {
   "cell_type": "code",
   "execution_count": 90,
   "id": "5e5e8023",
   "metadata": {},
   "outputs": [
    {
     "name": "stdout",
     "output_type": "stream",
     "text": [
      "46\n"
     ]
    }
   ],
   "source": [
    "# 5. Extract all numbers from a string and calculate their sum.\n",
    "#  \"abc12xyz34\" → Output: 46\n",
    "s=\"abc12xyz34\"\n",
    "res=0\n",
    "for i in range(len(s)-1):\n",
    "    if s[i].isdigit() and s[i+1].isdigit():\n",
    "        res+=int(s[i]+s[i+1])\n",
    "print(res)"
   ]
  },
  {
   "cell_type": "code",
   "execution_count": 112,
   "id": "af446aa9",
   "metadata": {},
   "outputs": [
    {
     "name": "stdout",
     "output_type": "stream",
     "text": [
      "[1, 4, 2, 3]\n",
      "ascending order [1, 2, 3, 4]\n",
      "descending order [4, 2, 3, 1]\n"
     ]
    }
   ],
   "source": [
    "# 6. Sort a list in ascending and descending order with out using sort?\n",
    "import copy\n",
    "l1=[1,4,2,3]\n",
    "print(l1)\n",
    "l=copy.copy(l1)\n",
    "for i in range(len(l)-1):\n",
    "    if l[i]>l[i+1]:\n",
    "        l[i],l[i+1]=l[i+1],l[i]\n",
    "print(\"ascending order\",l)\n",
    "for j in range(len(l1)-1):\n",
    "    if l1[j]<l1[j+1]:\n",
    "        l1[j],l1[j+1]=l1[j+1],l1[j]\n",
    "print(\"descending order\",l1)"
   ]
  },
  {
   "cell_type": "code",
   "execution_count": 76,
   "id": "48ffbd1d",
   "metadata": {},
   "outputs": [
    {
     "name": "stdout",
     "output_type": "stream",
     "text": [
      "[1, 4, 2, 3]\n",
      "second largest number 3\n"
     ]
    }
   ],
   "source": [
    "# 7. Find the second largest number in a list.\n",
    "l=[1,4,2,3]\n",
    "print(l)\n",
    "l.remove(max(l))\n",
    "print(\"second largest number\",max(l))"
   ]
  },
  {
   "cell_type": "code",
   "execution_count": 75,
   "id": "a1100cf8",
   "metadata": {},
   "outputs": [
    {
     "name": "stdout",
     "output_type": "stream",
     "text": [
      "intersection [4, 5, 6]\n",
      "union [1, 2, 3, 4, 5, 6, 7, 8, 9]\n"
     ]
    }
   ],
   "source": [
    "# 8. Find the intersection and union of two lists.\n",
    "l1=[1,2,3,4,5,6]\n",
    "l2=[4,5,6,7,8,9]\n",
    "# intersection\n",
    "res=[]\n",
    "for i in l1:\n",
    "    if i in l2:\n",
    "        res.append(i)\n",
    "print(\"intersection\",res)\n",
    "# union\n",
    "a=l1+l2\n",
    "res1=[]\n",
    "for i in a:\n",
    "    if i not in res1:\n",
    "        res1.append(i)\n",
    "print(\"union\",res1)\n"
   ]
  },
  {
   "cell_type": "code",
   "execution_count": 77,
   "id": "24544d32",
   "metadata": {},
   "outputs": [
    {
     "name": "stdout",
     "output_type": "stream",
     "text": [
      "[1, 4, 2, 6, 9, 5, 7, 3, 8]\n",
      "2 5 7 3 "
     ]
    }
   ],
   "source": [
    "# 9. Print all prime numbers from a list.\n",
    "l=[1,4,2,6,9,5,7,3,8]\n",
    "print(l)\n",
    "def is_prime(n):\n",
    "    if n<2:\n",
    "        return False\n",
    "    for i in range(2,n):\n",
    "        if n%i==0:\n",
    "            return False\n",
    "    else:\n",
    "        return True\n",
    "for i in l:\n",
    "    if is_prime(i):\n",
    "        print(i,end=\" \")"
   ]
  },
  {
   "cell_type": "code",
   "execution_count": 57,
   "id": "c67ee06b",
   "metadata": {},
   "outputs": [
    {
     "name": "stdout",
     "output_type": "stream",
     "text": [
      "153\n",
      "amstrong NUmber\n"
     ]
    }
   ],
   "source": [
    "# 10. Find if a number is Armstrong or not.\n",
    "n=153\n",
    "print(n)\n",
    "n1=str(n)\n",
    "res=0\n",
    "for i in n1:\n",
    "    dig=n%10\n",
    "    n//=10\n",
    "    res+=dig**(len(n1))\n",
    "if res==int(n1):\n",
    "    print(\"amstrong NUmber\")\n",
    "else:\n",
    "    print(\"Not an amstrong number\")"
   ]
  },
  {
   "cell_type": "code",
   "execution_count": 41,
   "id": "01182fc1",
   "metadata": {},
   "outputs": [
    {
     "name": "stdout",
     "output_type": "stream",
     "text": [
      "srihari\n",
      "3\n"
     ]
    }
   ],
   "source": [
    "# 11. Count number of vowels in a string using while.\n",
    "s=input()\n",
    "print(s)\n",
    "count=0\n",
    "i=0\n",
    "while i<len(s):\n",
    "    if s[i] in \"AEIOUaeiou\":\n",
    "        count+=1\n",
    "    i+=1\n",
    "print(count)"
   ]
  },
  {
   "cell_type": "code",
   "execution_count": 32,
   "id": "12014636",
   "metadata": {},
   "outputs": [
    {
     "name": "stdout",
     "output_type": "stream",
     "text": [
      "3 * 10 = 30\n",
      "3 * 9 = 27\n",
      "3 * 8 = 24\n",
      "3 * 7 = 21\n",
      "3 * 6 = 18\n",
      "3 * 5 = 15\n",
      "3 * 4 = 12\n",
      "3 * 3 = 9\n",
      "3 * 2 = 6\n",
      "3 * 1 = 3\n"
     ]
    }
   ],
   "source": [
    "# 12. Print multiplication table in reverse order.\n",
    "n=int(input())\n",
    "for i in range(10,0,-1):\n",
    "    print(f\"{n} * {i} = {n*i}\")"
   ]
  },
  {
   "cell_type": "code",
   "execution_count": 88,
   "id": "87787fe1",
   "metadata": {},
   "outputs": [
    {
     "name": "stdout",
     "output_type": "stream",
     "text": [
      "19\n"
     ]
    }
   ],
   "source": [
    "# 13. Count how many times digit 7 appears between 1 to 100.\n",
    "count=0\n",
    "for i in range(1,100):\n",
    "    if \"7\" in str(i):\n",
    "        count+=1\n",
    "print(count)"
   ]
  },
  {
   "cell_type": "code",
   "execution_count": 26,
   "id": "2a2bbdbc",
   "metadata": {},
   "outputs": [
    {
     "name": "stdout",
     "output_type": "stream",
     "text": [
      "10 9 8 7 6 5 4 3 2 1 0 "
     ]
    }
   ],
   "source": [
    "# 14. Create a countdown timer (like 10 → 0) using while loop.\n",
    "import time as t\n",
    "i=10\n",
    "while i>=0:\n",
    "    a=t.sleep(1)\n",
    "    print(i,end=' ')\n",
    "    i-=1"
   ]
  },
  {
   "cell_type": "code",
   "execution_count": 83,
   "id": "427481b0",
   "metadata": {},
   "outputs": [
    {
     "name": "stdout",
     "output_type": "stream",
     "text": [
      "[1, 2, -1, -3, 5, -6]\n",
      "[1, 2, 0, 0, 5, 0]\n"
     ]
    }
   ],
   "source": [
    "# 15. Replace all negative numbers in a list with 0. Using list comprehention?\n",
    "l=[1,2,-1,-3,5,-6]\n",
    "print(l)\n",
    "print([i if i>0 else 0 for i in l])"
   ]
  },
  {
   "cell_type": "code",
   "execution_count": 82,
   "id": "87e97a3c",
   "metadata": {},
   "outputs": [
    {
     "name": "stdout",
     "output_type": "stream",
     "text": [
      "[2, 3, 4, 5, 6]\n",
      "sorted\n",
      "[2, 3, 4, 1]\n",
      "Not sorted\n"
     ]
    }
   ],
   "source": [
    "# 16. Write Function to check if a list is sorted or not.\n",
    "l=[2,3,4,5,6]\n",
    "m=[2,3,4,1]\n",
    "def sort(l):\n",
    "    for i in range(len(l)-1):\n",
    "        if l[i]>l[i+1]:\n",
    "            print(\"Not sorted\")\n",
    "            break\n",
    "    else:\n",
    "        print(\"sorted\")\n",
    "print(l)\n",
    "sort(l)\n",
    "print(m)\n",
    "sort(m)"
   ]
  },
  {
   "cell_type": "code",
   "execution_count": 80,
   "id": "1d5d4f8d",
   "metadata": {},
   "outputs": [
    {
     "name": "stdout",
     "output_type": "stream",
     "text": [
      "{'a': 100, 'b': 80, 'c': 90}\n",
      "Sorted dictionary by values [80, 90, 100]\n"
     ]
    }
   ],
   "source": [
    "# 17. Sort a dictionary by values\n",
    "d={'a':100,'b':80,'c':90}\n",
    "print(d)\n",
    "print(\"Sorted dictionary by values\",sorted(d.values()))"
   ]
  },
  {
   "cell_type": "code",
   "execution_count": 78,
   "id": "2331ef7d",
   "metadata": {},
   "outputs": [
    {
     "name": "stdout",
     "output_type": "stream",
     "text": [
      "{'a': 70, 'b': 80, 'c': 90}\n",
      "a 70\n",
      "b 80\n",
      "c 90\n"
     ]
    }
   ],
   "source": [
    "# 18. Store student names and marks in a dictionary and print each student’s result.\n",
    "d={'a':70,'b':80,'c':90}\n",
    "print(d)\n",
    "for i,j in d.items():\n",
    "    print(i,j)"
   ]
  },
  {
   "cell_type": "code",
   "execution_count": 8,
   "id": "6ee15f78",
   "metadata": {},
   "outputs": [
    {
     "name": "stdout",
     "output_type": "stream",
     "text": [
      "(7, 10, 3)\n"
     ]
    }
   ],
   "source": [
    "# 19. Write a lambda function that takes two numbers and returns a tuple containing:\n",
    "    # i. Their sum\n",
    "    # ii. Their product\n",
    "    # iii. Their difference\n",
    "a=lambda x,y: (x+y ,x*y , x-y)\n",
    "print(a(5,2))"
   ]
  }
 ],
 "metadata": {
  "kernelspec": {
   "display_name": "base",
   "language": "python",
   "name": "python3"
  },
  "language_info": {
   "codemirror_mode": {
    "name": "ipython",
    "version": 3
   },
   "file_extension": ".py",
   "mimetype": "text/x-python",
   "name": "python",
   "nbconvert_exporter": "python",
   "pygments_lexer": "ipython3",
   "version": "3.11.5"
  }
 },
 "nbformat": 4,
 "nbformat_minor": 5
}
