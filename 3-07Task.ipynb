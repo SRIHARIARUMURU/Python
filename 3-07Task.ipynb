{
 "cells": [
  {
   "cell_type": "code",
   "execution_count": 161,
   "id": "69a19a85",
   "metadata": {},
   "outputs": [
    {
     "name": "stdout",
     "output_type": "stream",
     "text": [
      "{1: ['a', 'c'], 2: ['b'], 3: ['d']}\n"
     ]
    }
   ],
   "source": [
    "# 1. Invert a dictionary with list values (group keys by their values)\n",
    "# Input:\n",
    "# d = {'a': 1, 'b': 2, 'c': 1, 'd': 3}\n",
    "# Output:\n",
    "# {1: ['a', 'c'], 2: ['b'], 3: ['d']}\n",
    "# (Hint: Use setdefault method)\n",
    "d = {'a': 1, 'b': 2, 'c': 1, 'd': 3}\n",
    "res={}\n",
    "for i,j in d.items():\n",
    "    res.setdefault(j,[]).append(i)\n",
    "print(res)"
   ]
  },
  {
   "cell_type": "code",
   "execution_count": 9,
   "id": "eb6600d0",
   "metadata": {},
   "outputs": [
    {
     "name": "stdout",
     "output_type": "stream",
     "text": [
      "Max Value → 15\n",
      "Min Value → 5\n"
     ]
    }
   ],
   "source": [
    "# 2. Find Max and Min Value in Dictionary\n",
    "# Input:\n",
    "# d = {'a': 10, 'b': 5, 'c': 15}\n",
    "# Output:\n",
    "# Max Value → 15\n",
    "# Min Value → 5\n",
    "d = {'a': 10, 'b': 5, 'c': 15}\n",
    "print(\"Max Value →\",max(d.values()))\n",
    "print(\"Min Value →\",min(d.values()))"
   ]
  },
  {
   "cell_type": "code",
   "execution_count": 200,
   "id": "5011fafc",
   "metadata": {},
   "outputs": [
    {
     "name": "stdout",
     "output_type": "stream",
     "text": [
      "{2: 'prime', 3: 'prime', 4: 'Not Prime', 5: 'prime', 6: 'Not Prime', 7: 'prime', 8: 'Not Prime', 9: 'Not Prime', 10: 'Not Prime'}\n"
     ]
    }
   ],
   "source": [
    "# 3. Create a dictionary using dictionary comprehension for the given list of numbers,\n",
    "# where:\n",
    "# Each number is a key.\n",
    "# The value is \"prime\" if the number is prime.\n",
    "# The value is \"notprime\" if the number is not prime.\n",
    "#  Output: {2: 'prime', 3: 'prime', 4: 'notprime', 5: 'prime', 6: 'notprime'}\n",
    "# i=10\n",
    "print({i: \"prime\" if all(i%n!=0 for n in range(2,i)) else \"Not Prime\" for i in range(2,11)})"
   ]
  },
  {
   "cell_type": "code",
   "execution_count": 164,
   "id": "a07669aa",
   "metadata": {},
   "outputs": [
    {
     "name": "stdout",
     "output_type": "stream",
     "text": [
      "{'hello': 5, 'world': 5, 'great': 5}\n"
     ]
    }
   ],
   "source": [
    "# 4. Create a dictionary from a list of words, keys as words, values as word lengths, but only for words longer than 3 characters\n",
    "# List: \n",
    "l=[\"hi\", \"hello\", \"world\", \"is\", \"great\"]\n",
    "d={}\n",
    "for i in l:\n",
    "    if len(i)>3:\n",
    "        d[i]=len(i)\n",
    "print(d)"
   ]
  },
  {
   "cell_type": "code",
   "execution_count": 210,
   "id": "222ef0a8",
   "metadata": {},
   "outputs": [
    {
     "name": "stdout",
     "output_type": "stream",
     "text": [
      "{'A': 65, 'B': 66, 'C': 67}\n"
     ]
    }
   ],
   "source": [
    "# 5. Create a dictionary with uppercase letters as keys and their ASCII values as values use\n",
    "# dict comprehension .\n",
    "# Input: letters = ['a', 'b', 'c']\n",
    "# Expected Output:\n",
    "# {'A': 65, 'B': 66, 'C': 67}\n",
    "l = ['a', 'b', 'c']\n",
    "d={}\n",
    "for i in l:\n",
    "    d[chr(ord(i)-32)]=ord(i)-32\n",
    "print(d)"
   ]
  },
  {
   "cell_type": "code",
   "execution_count": 176,
   "id": "d3cb85e7",
   "metadata": {},
   "outputs": [
    {
     "name": "stdout",
     "output_type": "stream",
     "text": [
      "{1: 'a', 2: 0, 3: 0, 4: 0}\n"
     ]
    }
   ],
   "source": [
    "# 6. Explain about setdefault function in dictionary data type ?\n",
    "# set default fuction:\n",
    "#        set a default value if key not present\n",
    "#        if key is present it doesn,t change anything\n",
    "a=[1,2,3,4]\n",
    "d={1:\"a\"}\n",
    "for i in a:\n",
    "    d.setdefault(i,0)\n",
    "print(d)"
   ]
  },
  {
   "cell_type": "code",
   "execution_count": 196,
   "id": "c2b2a9cc",
   "metadata": {},
   "outputs": [
    {
     "name": "stdout",
     "output_type": "stream",
     "text": [
      "5\n",
      "10\n",
      "None\n"
     ]
    }
   ],
   "source": [
    "# 7. Difference between d[key] and d.get(key)?\n",
    "# d[key]     = It uses when we know the key is present in dictonary and it gives \"Error\" when the key not present\n",
    "e={'a': 10, 'b': 5, 'c': 15}\n",
    "print(e[\"b\"])\n",
    "# print(e[\"d\"])\n",
    "# d.get(key) = It uses when we don't know the key is present in dictonary and it returs \"None\" when the key not present\n",
    "d={'a': 10, 'b': 5, 'c': 15}\n",
    "print(d.get(\"a\"))\n",
    "print(d.get(\"x\"))"
   ]
  },
  {
   "cell_type": "code",
   "execution_count": 86,
   "id": "0ffbde6f",
   "metadata": {},
   "outputs": [
    {
     "name": "stdout",
     "output_type": "stream",
     "text": [
      "Shallow Copy\n",
      "Orginal\t      [1, 2, [3, 4, 5]]\n",
      "After changes [1, 2, [6, 4, 5]]\n",
      "Deep Copy\n",
      "Orginal\t      [6, 7, [8, 9, 0]]\n",
      "After changes [6, 7, [8, 9, 0]]\n"
     ]
    }
   ],
   "source": [
    "# 8. What is the difference between Shallow Copy and Deep Copy in Python? Explain with examples.\n",
    "\n",
    "# Shallow Copy : copies the reference of the orginal copy if you change the nested list in reference the orginal list is also changed\n",
    "print(\"Shallow Copy\")\n",
    "a=[1,2,[3,4,5]]\n",
    "b=a[:]\n",
    "print(\"Orginal\\t     \",a)\n",
    "b[2][0]=6\n",
    "print(\"After changes\",a)\n",
    "# Deep Copy    : copies the reference of the orginal copy if you change the nested list in reference the orginal list is not changed it creates complete different copy\n",
    "print(\"Deep Copy\")\n",
    "import copy\n",
    "c=[6,7,[8,9,0]]\n",
    "print(\"Orginal\\t     \",c)\n",
    "d=copy.deepcopy(c)\n",
    "d[2][0]=3\n",
    "print(\"After changes\",c)"
   ]
  },
  {
   "cell_type": "code",
   "execution_count": 39,
   "id": "b346c9eb",
   "metadata": {},
   "outputs": [
    {
     "name": "stdout",
     "output_type": "stream",
     "text": [
      "a=20\n",
      "b=10\n"
     ]
    }
   ],
   "source": [
    "# 1) How to swap two variables without using a third variable?\n",
    "a,b=10,20\n",
    "a,b=b,a\n",
    "print(f\"a={a}\\nb={b}\")"
   ]
  },
  {
   "cell_type": "code",
   "execution_count": 43,
   "id": "4c538e11",
   "metadata": {},
   "outputs": [
    {
     "name": "stdout",
     "output_type": "stream",
     "text": [
      "[1, 2, 3]\n",
      "1 2 3\n"
     ]
    }
   ],
   "source": [
    "# 2) Explain packing and unpacking in Python.\n",
    "# packing     : storing multiple values in a single variable\n",
    "# ex: \n",
    "x=[1,2,3]\n",
    "print(x)\n",
    "# unpacking   : assigning multiple objects of a single variable to multiple variables\n",
    "# ex:\n",
    "x=[1,2,3]\n",
    "a,b,c=x\n",
    "print(a,b,c)"
   ]
  },
  {
   "cell_type": "code",
   "execution_count": 35,
   "id": "8370aaf0",
   "metadata": {},
   "outputs": [
    {
     "name": "stdout",
     "output_type": "stream",
     "text": [
      "{0: 's', 1: 'r', 2: 'i', 3: 'h', 4: 'a', 5: 'r', 6: 'i'}\n"
     ]
    }
   ],
   "source": [
    "# 3) What is the use of enumerate(), zip(), map(), filter(), reduce()?\n",
    "print(dict(enumerate(\"srihari\")))\n",
    "# print(dict(zip(\"ash\")))\n",
    "# print(set(filter(\"srihari\",1)))\n"
   ]
  }
 ],
 "metadata": {
  "kernelspec": {
   "display_name": "base",
   "language": "python",
   "name": "python3"
  },
  "language_info": {
   "codemirror_mode": {
    "name": "ipython",
    "version": 3
   },
   "file_extension": ".py",
   "mimetype": "text/x-python",
   "name": "python",
   "nbconvert_exporter": "python",
   "pygments_lexer": "ipython3",
   "version": "3.11.5"
  }
 },
 "nbformat": 4,
 "nbformat_minor": 5
}
