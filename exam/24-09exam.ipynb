{
 "cells": [
  {
   "cell_type": "markdown",
   "id": "d3b812f4",
   "metadata": {},
   "source": [
    "# 24/09 Exam"
   ]
  },
  {
   "cell_type": "code",
   "execution_count": null,
   "id": "7ba5b077",
   "metadata": {},
   "outputs": [],
   "source": [
    "# 1. What is pip and pep 8 in python?\n",
    "# pip - Python installation package, it is used to install third party libraries like numpy ,pandas\n",
    "# PEP8 - python efficiency praposal, it has some rules how to write code like indentation, spaces"
   ]
  },
  {
   "cell_type": "code",
   "execution_count": 11,
   "id": "b96d369c",
   "metadata": {},
   "outputs": [
    {
     "name": "stdout",
     "output_type": "stream",
     "text": [
      "irahirs\n"
     ]
    }
   ],
   "source": [
    "# 2. Write a Python program to reverse a string without using slicing.\n",
    "s=\"srihari\"\n",
    "res=\"\"\n",
    "for i in s:\n",
    "    res=i+res\n",
    "print(res)"
   ]
  },
  {
   "cell_type": "code",
   "execution_count": 13,
   "id": "5f975e3e",
   "metadata": {},
   "outputs": [
    {
     "name": "stdout",
     "output_type": "stream",
     "text": [
      "True\n"
     ]
    }
   ],
   "source": [
    "# 3. Check if a given string is a palindrome.\n",
    "s=\"madam\"\n",
    "res=\"\"\n",
    "for i in s:\n",
    "    res=i+res\n",
    "print(s==res)"
   ]
  },
  {
   "cell_type": "code",
   "execution_count": null,
   "id": "05e61362",
   "metadata": {},
   "outputs": [
    {
     "name": "stdout",
     "output_type": "stream",
     "text": [
      "120\n"
     ]
    }
   ],
   "source": [
    "# 4. Write a Python program to find factorial of a number using recursion.\n",
    "def fact(n):\n",
    "    if n<=1:\n",
    "        return 1\n",
    "    return n*fact(n-1)\n",
    "print(fact(5))"
   ]
  },
  {
   "cell_type": "code",
   "execution_count": 17,
   "id": "ec17fbf7",
   "metadata": {},
   "outputs": [
    {
     "name": "stdout",
     "output_type": "stream",
     "text": [
      "0 1 1 2 3 5 8 13 21 34 "
     ]
    }
   ],
   "source": [
    "# 5. Generate the Fibonacci series up to n terms.\n",
    "n=10\n",
    "a,b=0,1\n",
    "for i in range(n):\n",
    "    print(a,end=' ')\n",
    "    a,b=b,a+b"
   ]
  },
  {
   "cell_type": "code",
   "execution_count": 30,
   "id": "5ef29ace",
   "metadata": {},
   "outputs": [
    {
     "name": "stdout",
     "output_type": "stream",
     "text": [
      "1 10\n",
      "[2, 3, 5, 7]\n"
     ]
    }
   ],
   "source": [
    "# 6. Print all prime numbers in a given range.\n",
    "m,n=map(int,input().split())\n",
    "print(m,n)\n",
    "# for i in range(m,n):\n",
    "#     if i<2:\n",
    "#         continue\n",
    "#     for j in range(2,i):\n",
    "#         if i%j==0:\n",
    "#             break\n",
    "#     else:\n",
    "#         print(i,end=\" \")\n",
    "if m>2:\n",
    "    print([i for i in range(m,n) if all(i%j!=0 for j in range(2,i))])\n",
    "else:\n",
    "    print([i for i in range(2,n) if all(i%j!=0 for j in range(2,i))])"
   ]
  },
  {
   "cell_type": "code",
   "execution_count": 31,
   "id": "e1481662",
   "metadata": {},
   "outputs": [
    {
     "name": "stdout",
     "output_type": "stream",
     "text": [
      "12 15\n",
      "60\n"
     ]
    }
   ],
   "source": [
    "# 7. Find the LCM of two numbers.\n",
    "a,b=map(int,input().split())\n",
    "print(a,b)\n",
    "x,y=a,b\n",
    "while y!=0:\n",
    "    x,y=y,x%y\n",
    "print((a*b)//x)"
   ]
  },
  {
   "cell_type": "code",
   "execution_count": 32,
   "id": "8b958a0a",
   "metadata": {},
   "outputs": [
    {
     "name": "stdout",
     "output_type": "stream",
     "text": [
      "{'s': 1, 'r': 2, 'i': 2, 'h': 1, 'a': 1}\n"
     ]
    }
   ],
   "source": [
    "# 8. Write a Python program to count the frequency of each character In a string.\n",
    "s=\"srihari\"\n",
    "d={}\n",
    "for i in s:\n",
    "    if i in d:\n",
    "        d[i]+=1\n",
    "    else:\n",
    "        d[i]=1\n",
    "print(d)"
   ]
  },
  {
   "cell_type": "code",
   "execution_count": 33,
   "id": "02bbfd4e",
   "metadata": {},
   "outputs": [
    {
     "name": "stdout",
     "output_type": "stream",
     "text": [
      "[1, 2, 3, 4, 7, 6]\n"
     ]
    }
   ],
   "source": [
    "# 9. Remove duplicate elements from a list.\n",
    "l=[1,2,3,4,2,3,7,4,6]\n",
    "res=[]\n",
    "for i in l:\n",
    "    if i not in res:\n",
    "        res.append(i)\n",
    "print(res)"
   ]
  },
  {
   "cell_type": "code",
   "execution_count": 39,
   "id": "de1a53d4",
   "metadata": {},
   "outputs": [
    {
     "name": "stdout",
     "output_type": "stream",
     "text": [
      "largest : 7 smallest : 1\n"
     ]
    }
   ],
   "source": [
    "# 10. Write a Python program to find the largest and smallest element in a list.\n",
    "l=[1,2,3,4,2,3,7,4,6]\n",
    "lg=float(\"-inf\")\n",
    "lo=float(\"inf\")\n",
    "for i in l:\n",
    "    if i>lg:\n",
    "        lg=i\n",
    "    if i<lo:\n",
    "        lo=i\n",
    "print(\"largest :\",lg,'smallest :',lo)"
   ]
  },
  {
   "cell_type": "code",
   "execution_count": 45,
   "id": "6061f96d",
   "metadata": {},
   "outputs": [
    {
     "name": "stdout",
     "output_type": "stream",
     "text": [
      "4\n"
     ]
    }
   ],
   "source": [
    "# 11. Find the second largest number in a list without using built-in functions.\n",
    "lt=[1,2,3,4,2,3,7,4,6]\n",
    "lg=lt[0]\n",
    "sl=lt[0]\n",
    "for i in lt:\n",
    "    if i>lg:\n",
    "        sl=lg\n",
    "        lg=i\n",
    "print(sl)"
   ]
  },
  {
   "cell_type": "code",
   "execution_count": 2,
   "id": "a343776b",
   "metadata": {},
   "outputs": [
    {
     "name": "stdout",
     "output_type": "stream",
     "text": [
      "Amstrong Number\n"
     ]
    }
   ],
   "source": [
    "# 12. Write a program to check Armstrong number.\n",
    "n=153\n",
    "n1=n\n",
    "res=0\n",
    "while n>0:\n",
    "    dig=n%10\n",
    "    res+=dig**len(str(n1))\n",
    "    n//=10\n",
    "# print(res)\n",
    "if res==n1:\n",
    "    print(\"Amstrong Number\")\n",
    "else:\n",
    "    print(\"Not a Amstrong Number\")"
   ]
  },
  {
   "cell_type": "code",
   "execution_count": 8,
   "id": "e045df4c",
   "metadata": {},
   "outputs": [
    {
     "name": "stdout",
     "output_type": "stream",
     "text": [
      "153 370 371 407 "
     ]
    }
   ],
   "source": [
    "# 13. Print all Armstrong numbers between 1 and 1000.\n",
    "m,n=100, 500\n",
    "for i in range(m,n):\n",
    "    n1=i\n",
    "    res=0\n",
    "    while i>0:\n",
    "        dig=i%10\n",
    "        res+=dig**len(str(n1))\n",
    "        i//=10\n",
    "    if res==n1:\n",
    "        print(n1,end=\" \")"
   ]
  },
  {
   "cell_type": "code",
   "execution_count": 9,
   "id": "ea327055",
   "metadata": {},
   "outputs": [
    {
     "name": "stdout",
     "output_type": "stream",
     "text": [
      "20 10\n"
     ]
    }
   ],
   "source": [
    "# 14. Write a Python program to swap two numbers without using a third variable.\n",
    "a, b=10, 20\n",
    "a=a+b\n",
    "b=a-b\n",
    "a=a-b\n",
    "print(a,b)"
   ]
  },
  {
   "cell_type": "code",
   "execution_count": 10,
   "id": "7b456b62",
   "metadata": {},
   "outputs": [
    {
     "name": "stdout",
     "output_type": "stream",
     "text": [
      "3\n"
     ]
    }
   ],
   "source": [
    "# 15. Find the sum of digits of a number.\n",
    "n=111\n",
    "res=0\n",
    "while n>0:\n",
    "    dig=n%10\n",
    "    res+=dig\n",
    "    n//=10\n",
    "print(res)"
   ]
  },
  {
   "cell_type": "code",
   "execution_count": 11,
   "id": "61dee02a",
   "metadata": {},
   "outputs": [
    {
     "name": "stdout",
     "output_type": "stream",
     "text": [
      "[1, 2, 2, 3, 3, 4, 4, 6, 7]\n"
     ]
    }
   ],
   "source": [
    "# 16. Write a Python program to sort a list without using built-in sort()\n",
    "lt=[1,2,3,4,2,3,7,4,6]\n",
    "for i in lt:\n",
    "    for j in range(len(lt)-1):\n",
    "        if lt[j]>lt[j+1]:\n",
    "            lt[j],lt[j+1]=lt[j+1],lt[j]\n",
    "print(lt)"
   ]
  }
 ],
 "metadata": {
  "kernelspec": {
   "display_name": "base",
   "language": "python",
   "name": "python3"
  },
  "language_info": {
   "codemirror_mode": {
    "name": "ipython",
    "version": 3
   },
   "file_extension": ".py",
   "mimetype": "text/x-python",
   "name": "python",
   "nbconvert_exporter": "python",
   "pygments_lexer": "ipython3",
   "version": "3.11.5"
  }
 },
 "nbformat": 4,
 "nbformat_minor": 5
}
