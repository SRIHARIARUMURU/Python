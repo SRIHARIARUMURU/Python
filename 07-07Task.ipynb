{
 "cells": [
  {
   "cell_type": "code",
   "execution_count": 26,
   "id": "a6d40905",
   "metadata": {},
   "outputs": [
    {
     "name": "stdout",
     "output_type": "stream",
     "text": [
      "player 2 Win\n"
     ]
    }
   ],
   "source": [
    "import random\n",
    "player1=0\n",
    "player2=0\n",
    "for i in range(10):\n",
    "    p1=random.randint(0,7)\n",
    "    player1+=p1\n",
    "    p2=random.randint(0,7)\n",
    "    player2+=p2\n",
    "    if player1>=20:\n",
    "        print(\"player 1 Win\")\n",
    "        break\n",
    "    elif player2>=20:\n",
    "        print(\"player 2 Win\")\n",
    "        break"
   ]
  },
  {
   "cell_type": "code",
   "execution_count": null,
   "id": "5f3b47b5",
   "metadata": {},
   "outputs": [],
   "source": []
  }
 ],
 "metadata": {
  "kernelspec": {
   "display_name": "base",
   "language": "python",
   "name": "python3"
  },
  "language_info": {
   "codemirror_mode": {
    "name": "ipython",
    "version": 3
   },
   "file_extension": ".py",
   "mimetype": "text/x-python",
   "name": "python",
   "nbconvert_exporter": "python",
   "pygments_lexer": "ipython3",
   "version": "3.11.5"
  }
 },
 "nbformat": 4,
 "nbformat_minor": 5
}
