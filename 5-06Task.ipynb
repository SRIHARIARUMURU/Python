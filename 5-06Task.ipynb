{
 "cells": [
  {
   "cell_type": "code",
   "execution_count": 12,
   "id": "36d4861e",
   "metadata": {},
   "outputs": [
    {
     "name": "stdout",
     "output_type": "stream",
     "text": [
      "sum of 6 and 3 is 9\n"
     ]
    }
   ],
   "source": [
    "# 1. Write a Python program to create a basic calculator that performs the following\n",
    "# operations:\n",
    "# • Addition\n",
    "# • Subtraction\n",
    "# • Multiplication\n",
    "# • Division\n",
    "# Requirements:\n",
    "#  The program should take two numbers as input from the user.\n",
    "#  The program should ask the user to choose the operation (+, -, *, /).\n",
    "#  Based on the user’s choice, perform the corresponding arithmetic operation.\n",
    "#  Handle division by zero error gracefully with a proper message.\n",
    "#  The program should display the result clearly.\n",
    "a1,a2=map(int,input(\"Enter 2 Values\").split())\n",
    "op=input(\"Enter Operation\")\n",
    "res=0\n",
    "match op:\n",
    "    case \"+\":\n",
    "        print(f\"sum of {a1} and {a2} is {a1+a2}\")\n",
    "    case \"-\":\n",
    "        print(f\"Difference of {a1} and {a2} is {a1-a2}\")\n",
    "    case \"*\":\n",
    "        print(f\"Multiplication of {a1} and {a2} is {a1*a2}\")\n",
    "    case \"/\":\n",
    "        if a2==0:\n",
    "            print(\"Division by zero is not possible\")\n",
    "        else:\n",
    "            print(f\"Division of {a1} and {a2} is {a1/a2}\")\n",
    "    case _:\n",
    "        print(\"Enter proper Operations\")\n"
   ]
  },
  {
   "cell_type": "code",
   "execution_count": 60,
   "id": "8ff841c6",
   "metadata": {},
   "outputs": [
    {
     "name": "stdout",
     "output_type": "stream",
     "text": [
      "0\n",
      "1\n",
      "1\n",
      "2\n",
      "3\n"
     ]
    }
   ],
   "source": [
    "# 2. Write a Python program to print the first N terms of the Fibonacci series using a while loop.\n",
    "n=int(input())\n",
    "a,b=0,1\n",
    "while n>0:\n",
    "    print(a)\n",
    "    a,b=b,a+b\n",
    "    n-=1"
   ]
  },
  {
   "cell_type": "code",
   "execution_count": 46,
   "id": "a70a48c2",
   "metadata": {},
   "outputs": [
    {
     "name": "stdout",
     "output_type": "stream",
     "text": [
      "Amstrong Number\n"
     ]
    }
   ],
   "source": [
    "# 3. Write a program to check whether a number is an Armstrong number using a while loop.\n",
    "# Example: 153 → 1³ + 5³ + 3³ = 153\n",
    "n=int(input())\n",
    "num=n\n",
    "res=0\n",
    "while n>0:\n",
    "    d=n%10\n",
    "    res=res+(d**len(str(num)))\n",
    "    n//=10\n",
    "if num==res:\n",
    "    print(\"Amstrong Number\")\n",
    "else:\n",
    "    print(\"not an Amstrong number\")"
   ]
  },
  {
   "cell_type": "code",
   "execution_count": 39,
   "id": "b30953bf",
   "metadata": {},
   "outputs": [
    {
     "name": "stdout",
     "output_type": "stream",
     "text": [
      "Greatest Digit is 9\n"
     ]
    }
   ],
   "source": [
    "# 4. Write a program to find the greatest digit in a given number using a while loop.\n",
    "n=int(input())\n",
    "num=[]\n",
    "while n>0:\n",
    "    d=n%10\n",
    "    n//=10\n",
    "    num.append(d)\n",
    "print(f\"Greatest Digit is {max(num)}\")"
   ]
  },
  {
   "cell_type": "code",
   "execution_count": 36,
   "id": "effaad41",
   "metadata": {},
   "outputs": [
    {
     "name": "stdout",
     "output_type": "stream",
     "text": [
      "(1, 5, 6)\n",
      "Greatest Number is 6\n"
     ]
    }
   ],
   "source": [
    "# 5. Write a program to find greatest(a, b, c) to find the greatest of three numbers.\n",
    "a,b,c=map(int,input().split())\n",
    "l=a,b,c\n",
    "print(tuple(l))\n",
    "print(f\"Greatest Number is {max(l)}\")"
   ]
  },
  {
   "cell_type": "code",
   "execution_count": 26,
   "id": "b0f1115d",
   "metadata": {},
   "outputs": [
    {
     "name": "stdout",
     "output_type": "stream",
     "text": [
      "28\n"
     ]
    }
   ],
   "source": [
    "# 6. Write a function sum_numbers(*args) that accepts any number of arguments and returns their sum.\n",
    "def summ(*args):\n",
    "    print(sum(args))\n",
    "summ(1,2,3,4,5,6,7)"
   ]
  },
  {
   "cell_type": "code",
   "execution_count": 28,
   "id": "e82d7fe0",
   "metadata": {},
   "outputs": [
    {
     "name": "stdout",
     "output_type": "stream",
     "text": [
      "{'a': 1, 'b': 2}\n"
     ]
    }
   ],
   "source": [
    "# 7. Write a function display_info(**kwargs) that prints all key-value pairs passed as arguments.\n",
    "def argu(**kwargs):\n",
    "    print(kwargs)\n",
    "argu(a=1,b=2)"
   ]
  },
  {
   "cell_type": "code",
   "execution_count": 25,
   "id": "41892bbe",
   "metadata": {},
   "outputs": [
    {
     "name": "stdout",
     "output_type": "stream",
     "text": [
      "Sum of Even Numbers 20\n",
      "Sum of Odd Numbers  25\n"
     ]
    }
   ],
   "source": [
    "# 8. Write a Python program to calculate the sum of elements present at even indices and odd indices separately\n",
    "l=[1,2,3,4,5,6,7,8,9]\n",
    "ev=0\n",
    "od=0\n",
    "for i in l:\n",
    "    if i%2==0:\n",
    "        ev+=i\n",
    "    else:\n",
    "        od+=i\n",
    "print(f\"Sum of Even Numbers {ev}\")\n",
    "print(f\"Sum of Odd Numbers  {od}\")"
   ]
  },
  {
   "cell_type": "code",
   "execution_count": 22,
   "id": "85a8a7f8",
   "metadata": {},
   "outputs": [
    {
     "name": "stdout",
     "output_type": "stream",
     "text": [
      "[1, 4, 3, 8, 5, 12, 7, 16, 9]\n"
     ]
    }
   ],
   "source": [
    "# 9. Write a Python program to double all even numbers in the same list without creating a new list.\n",
    "#  Conditions:\n",
    "# You must modify the list in-place.\n",
    "# Odd numbers should remain unchanged.\n",
    "l=[1,2,3,4,5,6,7,8,9]\n",
    "for i in range(len(l)):\n",
    "    if l[i]%2==0:\n",
    "        l[i]=2*l[i]\n",
    "print(l)"
   ]
  },
  {
   "cell_type": "code",
   "execution_count": 40,
   "id": "e69317b9",
   "metadata": {},
   "outputs": [
    {
     "name": "stdout",
     "output_type": "stream",
     "text": [
      "[2, 7, 4, 3]\n"
     ]
    }
   ],
   "source": [
    "# 10. Modify the list such that all even numbers are halved, odd numbers remain unchanged.\n",
    "# Example:\n",
    "# Input: [4, 7, 8, 3] → Output: [2, 7, 4, 3]\n",
    "l=[4, 7, 8, 3]\n",
    "for i in range(len(l)):\n",
    "    if l[i]%2==0:\n",
    "        l[i]=l[i]//2\n",
    "print(l)"
   ]
  },
  {
   "cell_type": "code",
   "execution_count": 32,
   "id": "923c9fea",
   "metadata": {},
   "outputs": [
    {
     "name": "stdout",
     "output_type": "stream",
     "text": [
      "\n",
      "6 is Perfect Number\n"
     ]
    }
   ],
   "source": [
    "# 11. Check given number is perfect number or not ?\n",
    "n=int(input())\n",
    "res=0\n",
    "for i in range(1,n):\n",
    "    if n%i==0:\n",
    "        res+=i\n",
    "print()\n",
    "if res==n:\n",
    "    print(f\"{n} is Perfect Number\")\n",
    "else:\n",
    "    print(f\"{n} is Not a Perfect Number\")"
   ]
  },
  {
   "cell_type": "code",
   "execution_count": 35,
   "id": "4c2bde9b",
   "metadata": {},
   "outputs": [
    {
     "name": "stdout",
     "output_type": "stream",
     "text": [
      "sriHARI Arumuru\n",
      "HARIAsri rumuru\n"
     ]
    }
   ],
   "source": [
    "# 12. Write a Python program that takes a sentence as input and separates the uppercase and lowercase letters from the sentence.\n",
    "ip=input(\"Enter a Scentence\")\n",
    "up=''\n",
    "lc=''\n",
    "for i in ip:\n",
    "    if i.isupper():\n",
    "        up+=i\n",
    "    else:\n",
    "        lc+=i\n",
    "print(ip)\n",
    "print(up+lc)"
   ]
  }
 ],
 "metadata": {
  "kernelspec": {
   "display_name": "base",
   "language": "python",
   "name": "python3"
  },
  "language_info": {
   "codemirror_mode": {
    "name": "ipython",
    "version": 3
   },
   "file_extension": ".py",
   "mimetype": "text/x-python",
   "name": "python",
   "nbconvert_exporter": "python",
   "pygments_lexer": "ipython3",
   "version": "3.11.5"
  }
 },
 "nbformat": 4,
 "nbformat_minor": 5
}
