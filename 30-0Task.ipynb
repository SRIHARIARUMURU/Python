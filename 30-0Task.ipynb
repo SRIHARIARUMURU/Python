{
 "cells": [
  {
   "cell_type": "code",
   "execution_count": 1,
   "id": "8abe5935",
   "metadata": {},
   "outputs": [
    {
     "name": "stdout",
     "output_type": "stream",
     "text": [
      "[25, 45]\n"
     ]
    }
   ],
   "source": [
    "# 1)\tFrom the list nums = [10, 25, 30, 45, 50, 60], create a set of numbers where the number is divisible by 5 but not divisible by 10 using set                 comprehension.\n",
    "nums = [10, 25, 30, 45, 50, 60]\n",
    "print([i for i in nums if i%5==0 and i%10!=0])"
   ]
  },
  {
   "cell_type": "code",
   "execution_count": null,
   "id": "ad652482",
   "metadata": {},
   "outputs": [
    {
     "name": "stdout",
     "output_type": "stream",
     "text": [
      "15\n"
     ]
    }
   ],
   "source": [
    "# 2)\tWrite a program to sum the digits of all numbers in a list.\n",
    "#     Example: [12, 34, 5] ➞ 1+2 + 3+4 + 5 = 15\n",
    "l=[12, 34, 5]\n",
    "res=0\n",
    "for i in l:\n",
    "    while i>0:\n",
    "        res+=i%10\n",
    "        i//=10\n",
    "print(res)"
   ]
  },
  {
   "cell_type": "code",
   "execution_count": null,
   "id": "eb31f86d",
   "metadata": {},
   "outputs": [
    {
     "name": "stdout",
     "output_type": "stream",
     "text": [
      "[1, 2, 3, 1, 2, 3]\n"
     ]
    }
   ],
   "source": [
    "# 3)\tCreate a new list by repeating elements of a list n times.\n",
    "#              Example: [1, 2, 3], n = 2 ➞ [1, 2, 3, 1, 2, 3]\n",
    "l= [1, 2, 3]\n",
    "n=2\n",
    "print(l*n)"
   ]
  },
  {
   "cell_type": "code",
   "execution_count": 1,
   "id": "8f7edb6c",
   "metadata": {},
   "outputs": [
    {
     "name": "stdout",
     "output_type": "stream",
     "text": [
      "{1: 2, 2: 2, 3: 2, 4: 1, 5: 1}\n"
     ]
    }
   ],
   "source": [
    "# 4)\tWrite a function to count frequency of each element in a list (return as dictionary).\n",
    "l=[1,2,3,4,5,1,2,3]\n",
    "cou={}\n",
    "for i in set(l):\n",
    "    cou[i]=l.count(i)\n",
    "print(cou)"
   ]
  },
  {
   "cell_type": "code",
   "execution_count": 7,
   "id": "85e6be56",
   "metadata": {},
   "outputs": [
    {
     "name": "stdout",
     "output_type": "stream",
     "text": [
      "4\n"
     ]
    }
   ],
   "source": [
    "# 5)\tWrite a function to count how many prime numbers exist in a given range.\n",
    "def is_prime(n):\n",
    "    if n<2:\n",
    "        return False\n",
    "    else:\n",
    "        for i in range(2,n):\n",
    "            if n%i==0:\n",
    "                return False\n",
    "        else:\n",
    "            return True\n",
    "ran=10\n",
    "def primr_range(ran):\n",
    "    count=0\n",
    "    for i in range(ran):\n",
    "        if is_prime(i)==True:\n",
    "            count+=1\n",
    "    print(count)\n",
    "primr_range(ran)"
   ]
  },
  {
   "cell_type": "code",
   "execution_count": 36,
   "id": "4aeed66b",
   "metadata": {},
   "outputs": [
    {
     "name": "stdout",
     "output_type": "stream",
     "text": [
      "2\n"
     ]
    }
   ],
   "source": [
    "# 6)\tWrite a function to calculate the sum of digits of a number until a single-digit result is obtained.\n",
    "#   Example: 9875 ➞ 9+8+7+5=29 ➞ 2+9=11 ➞ 1+1=2\n",
    "def fun(n):\n",
    "    while n>=10:\n",
    "        res=0\n",
    "        while n>0:\n",
    "            res+=n%10\n",
    "            n//=10\n",
    "        n=res\n",
    "    print(n)\n",
    "fun(9875)"
   ]
  }
 ],
 "metadata": {
  "kernelspec": {
   "display_name": ".venv",
   "language": "python",
   "name": "python3"
  },
  "language_info": {
   "codemirror_mode": {
    "name": "ipython",
    "version": 3
   },
   "file_extension": ".py",
   "mimetype": "text/x-python",
   "name": "python",
   "nbconvert_exporter": "python",
   "pygments_lexer": "ipython3",
   "version": "3.13.3"
  }
 },
 "nbformat": 4,
 "nbformat_minor": 5
}
