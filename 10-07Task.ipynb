{
 "cells": [
  {
   "cell_type": "code",
   "execution_count": 16,
   "id": "f41aecea",
   "metadata": {},
   "outputs": [
    {
     "name": "stdout",
     "output_type": "stream",
     "text": [
      "ri\n"
     ]
    }
   ],
   "source": [
    "# 1. Print All Duplicate Characters in a String\n",
    "s=\"srihari\"\n",
    "res=\"\"\n",
    "a=\"\"\n",
    "for i in s:\n",
    "    if i not in a:\n",
    "        a+=i\n",
    "    else:\n",
    "        res+=i\n",
    "print(res)"
   ]
  },
  {
   "cell_type": "code",
   "execution_count": 17,
   "id": "96a1f323",
   "metadata": {},
   "outputs": [
    {
     "name": "stdout",
     "output_type": "stream",
     "text": [
      "sr*h*r*\n"
     ]
    }
   ],
   "source": [
    "# 2. Replace Vowels with ‘*’\n",
    "s=\"srihari\"\n",
    "res=\"\"\n",
    "for i in s:\n",
    "    if i in \"AEIOUaeiou\":\n",
    "        res+=\"*\"\n",
    "    else:\n",
    "        res+=i\n",
    "print(res)"
   ]
  },
  {
   "cell_type": "code",
   "execution_count": 24,
   "id": "0851a056",
   "metadata": {},
   "outputs": [
    {
     "name": "stdout",
     "output_type": "stream",
     "text": [
      "userName\n"
     ]
    }
   ],
   "source": [
    "# 3. Convert a Snake_Case String to CamelCase.\n",
    "s=\"user_name\"\n",
    "res=\"\"\n",
    "for i in range(len(s)):\n",
    "    if s[i]==\"_\":\n",
    "        continue\n",
    "    elif s[i-1]==\"_\":\n",
    "        res+=s[i].upper()\n",
    "    else:\n",
    "        res+=s[i]\n",
    "print(res)"
   ]
  },
  {
   "cell_type": "code",
   "execution_count": 26,
   "id": "e390963f",
   "metadata": {},
   "outputs": [
    {
     "name": "stdout",
     "output_type": "stream",
     "text": [
      "24\n"
     ]
    }
   ],
   "source": [
    "# 4. Use reduce() to Find Product of List Elements\n",
    "from functools import reduce\n",
    "l=[1,2,3,4]\n",
    "print(reduce(lambda x,y:x*y ,l))"
   ]
  }
 ],
 "metadata": {
  "kernelspec": {
   "display_name": "base",
   "language": "python",
   "name": "python3"
  },
  "language_info": {
   "codemirror_mode": {
    "name": "ipython",
    "version": 3
   },
   "file_extension": ".py",
   "mimetype": "text/x-python",
   "name": "python",
   "nbconvert_exporter": "python",
   "pygments_lexer": "ipython3",
   "version": "3.11.5"
  }
 },
 "nbformat": 4,
 "nbformat_minor": 5
}
