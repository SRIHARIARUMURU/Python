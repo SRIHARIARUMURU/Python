{
 "cells": [
  {
   "cell_type": "code",
   "execution_count": 1,
   "id": "524d3eb8",
   "metadata": {},
   "outputs": [
    {
     "name": "stdout",
     "output_type": "stream",
     "text": [
      "[7, 8, 9, 1, 2, 3, 4, 5, 6]\n"
     ]
    }
   ],
   "source": [
    "# 1. Write a Python program to rotate a list to the right by k steps.\n",
    "k=3\n",
    "l=[1,2,3,4,5,6,7,8,9]\n",
    "l1=[]\n",
    "l2=[]\n",
    "for i in range(len(l)):\n",
    "    if i > len(l)-1-k:\n",
    "        l1.append(l[i])\n",
    "    else:\n",
    "        l2.append(l[i])\n",
    "print(l1+l2)"
   ]
  },
  {
   "cell_type": "code",
   "execution_count": 13,
   "id": "c284989f",
   "metadata": {},
   "outputs": [
    {
     "name": "stdout",
     "output_type": "stream",
     "text": [
      "10\n"
     ]
    }
   ],
   "source": [
    "# 2. Write a Python program to find the sum of prime digits in the number L = 123456.\n",
    "def is_prime(n):\n",
    "    if n<2:\n",
    "        return False\n",
    "    else:\n",
    "        for i in range(2,n):\n",
    "            if n%i==0:\n",
    "                return False\n",
    "        else:\n",
    "            return True\n",
    "l=123456\n",
    "sum=0\n",
    "while l>0:\n",
    "    dig=l%10\n",
    "    l//=10\n",
    "    if is_prime(dig):\n",
    "        sum+=dig\n",
    "print(sum)"
   ]
  },
  {
   "cell_type": "code",
   "execution_count": 15,
   "id": "47ba574d",
   "metadata": {},
   "outputs": [
    {
     "name": "stdout",
     "output_type": "stream",
     "text": [
      "14\n"
     ]
    }
   ],
   "source": [
    "# 3. Write a Python program to find the sum of even digits in the number M = 65897.\n",
    "m = 65897\n",
    "sum=0\n",
    "while m>0:\n",
    "    dig=m%10\n",
    "    m//=10\n",
    "    if dig%2==0:\n",
    "        sum+=dig\n",
    "print(sum)"
   ]
  },
  {
   "cell_type": "code",
   "execution_count": null,
   "id": "a3382b4c",
   "metadata": {},
   "outputs": [
    {
     "name": "stdout",
     "output_type": "stream",
     "text": [
      "18\n"
     ]
    }
   ],
   "source": [
    "# 4. Write a Python program to calculate the sum of the largest elements from each row of a 2D list. \n",
    "m=[[1,2,3],[4,5,6],[7,8,9]] \n",
    "sum=0\n",
    "for i in m:\n",
    "    sum+=max(i)\n",
    "print(sum)"
   ]
  },
  {
   "cell_type": "code",
   "execution_count": 43,
   "id": "f0096e5d",
   "metadata": {},
   "outputs": [
    {
     "name": "stdout",
     "output_type": "stream",
     "text": [
      "362880\n"
     ]
    }
   ],
   "source": [
    "# 5. Write a Python program to find the product of all elements in a list.\n",
    "l=[1,2,3,4,5,6,7,8,9]\n",
    "product=1\n",
    "for i in l:\n",
    "    product*=i\n",
    "print(product)"
   ]
  },
  {
   "cell_type": "code",
   "execution_count": 38,
   "id": "13a55b8a",
   "metadata": {},
   "outputs": [
    {
     "name": "stdout",
     "output_type": "stream",
     "text": [
      "Amstrong Number\n"
     ]
    }
   ],
   "source": [
    "# 6. Write a Python program to check whether a given number is an Armstrong number or not.\n",
    "# EX: K=153\n",
    "k=153\n",
    "n=k\n",
    "am=0\n",
    "while k>0:\n",
    "    dig=k%10\n",
    "    k//=10\n",
    "    am+=dig**len(str(n))\n",
    "print(\"Amstrong Number\" if am==n else \"Not an Amstrong Number\")"
   ]
  },
  {
   "cell_type": "code",
   "execution_count": 55,
   "id": "31b4c4cf",
   "metadata": {},
   "outputs": [
    {
     "name": "stdout",
     "output_type": "stream",
     "text": [
      "Perfect Number\n"
     ]
    }
   ],
   "source": [
    "# 7. Write a Python program to check whether a given number is a Perfect number or not.\n",
    "# Perfect number: sum of all factors of a given number\n",
    "n=6\n",
    "pf=0\n",
    "for i in range(1,n):\n",
    "    if n%i==0:\n",
    "        pf+=i\n",
    "if pf==n:\n",
    "    print(\"Perfect Number\")\n",
    "else:\n",
    "    print(\"Not a Perfect Number\")"
   ]
  }
 ],
 "metadata": {
  "kernelspec": {
   "display_name": "base",
   "language": "python",
   "name": "python3"
  },
  "language_info": {
   "codemirror_mode": {
    "name": "ipython",
    "version": 3
   },
   "file_extension": ".py",
   "mimetype": "text/x-python",
   "name": "python",
   "nbconvert_exporter": "python",
   "pygments_lexer": "ipython3",
   "version": "3.11.5"
  }
 },
 "nbformat": 4,
 "nbformat_minor": 5
}
