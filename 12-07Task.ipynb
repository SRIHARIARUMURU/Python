{
 "cells": [
  {
   "cell_type": "code",
   "execution_count": 13,
   "id": "901a98ae",
   "metadata": {},
   "outputs": [
    {
     "name": "stdout",
     "output_type": "stream",
     "text": [
      "Leap Year\n"
     ]
    }
   ],
   "source": [
    "# 1.\tCheck if year is a leap year\n",
    "# Input: Year (integer)\n",
    "# Output: Leap year or Not a leap year\n",
    "year=int(input(\"Enter Year\"))\n",
    "if year%4==0 and (year%100!=0 or year%400==0):\n",
    "    print(\"Leap Year\")\n",
    "else:\n",
    "    print(\"Not a Leap Year\")"
   ]
  },
  {
   "cell_type": "code",
   "execution_count": 33,
   "id": "7551c2b9",
   "metadata": {},
   "outputs": [
    {
     "name": "stdout",
     "output_type": "stream",
     "text": [
      "no\n"
     ]
    }
   ],
   "source": [
    "# 2.\t Write a Python program to check whether the given list is sorted in ascending order or not.\n",
    "l=[1,2,3,4,7,6]\n",
    "for i in range(len(l)-1):\n",
    "    if l[i]>l[i+1]:\n",
    "        print(\"no\")\n",
    "        break\n",
    "else:\n",
    "        print(\"yes\")\n",
    "  \n",
    "# s=sorted(l)\n",
    "# if s==l:\n",
    "#     print(\"YES\")\n",
    "# else:\n",
    "#     print(\"NO\")\n",
    "\n"
   ]
  },
  {
   "cell_type": "code",
   "execution_count": 45,
   "id": "89e0640f",
   "metadata": {},
   "outputs": [
    {
     "name": "stdout",
     "output_type": "stream",
     "text": [
      "[1, 2, 3, 4, 5, 5, 6, 6, 7, 8, 6]\n"
     ]
    }
   ],
   "source": [
    "# 3.\tWrite a Python program to sort a list in ascending order without using the built-in sort() or sorted() functions.\n",
    "l = [2,3,1,5,6,4,5,6,8,7,6]\n",
    "for i in range(len(l)-1):\n",
    "    for j in range(len(l)-1):\n",
    "        if l[i]<l[j]:\n",
    "            l[i],l[j]=l[j],l[i]\n",
    "print(l)\n"
   ]
  },
  {
   "cell_type": "code",
   "execution_count": 1,
   "id": "22a6aef8",
   "metadata": {},
   "outputs": [
    {
     "name": "stdout",
     "output_type": "stream",
     "text": [
      "c\n",
      "d\n",
      "e\n"
     ]
    }
   ],
   "source": [
    "# 4.\tInput : s= ‘abc’     output:  ‘cde’\n",
    "s=input()\n",
    "for i in s:\n",
    "    print(chr(ord(i)+2))"
   ]
  }
 ],
 "metadata": {
  "kernelspec": {
   "display_name": "base",
   "language": "python",
   "name": "python3"
  },
  "language_info": {
   "codemirror_mode": {
    "name": "ipython",
    "version": 3
   },
   "file_extension": ".py",
   "mimetype": "text/x-python",
   "name": "python",
   "nbconvert_exporter": "python",
   "pygments_lexer": "ipython3",
   "version": "3.11.5"
  }
 },
 "nbformat": 4,
 "nbformat_minor": 5
}
