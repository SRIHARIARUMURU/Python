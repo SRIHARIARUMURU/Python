{
 "cells": [
  {
   "cell_type": "code",
   "execution_count": 66,
   "id": "314cf022",
   "metadata": {},
   "outputs": [
    {
     "name": "stdout",
     "output_type": "stream",
     "text": [
      "{'id': 101, 'name': 'John', 'age': 25}\n"
     ]
    }
   ],
   "source": [
    "# 1.\tCreate a dictionary from two lists:\n",
    "keys = ['id', 'name', 'age']\n",
    "value = [101, 'John', 25]\n",
    "a={}\n",
    "for i in range(len(keys)):\n",
    "    a[keys[i]]=value[i]\n",
    "print(a)\n",
    "            # or\n",
    "\n",
    "# print({keys[i]:value[i] for i in range(len(keys))})\n",
    "\n",
    "            # or\n",
    "\n",
    "# print(dict(zip(keys,value)))"
   ]
  },
  {
   "cell_type": "code",
   "execution_count": 67,
   "id": "83f033c9",
   "metadata": {},
   "outputs": [
    {
     "name": "stdout",
     "output_type": "stream",
     "text": [
      "{'Name': 'srihari', 'age': 22}\n"
     ]
    }
   ],
   "source": [
    "# 2.\tCreate a dictionary to store student name and age.\n",
    "d={'Name':'srihari','age':22}\n",
    "print(d)"
   ]
  },
  {
   "cell_type": "code",
   "execution_count": 68,
   "id": "0667a514",
   "metadata": {},
   "outputs": [
    {
     "name": "stdout",
     "output_type": "stream",
     "text": [
      "{'Name': 'srihari', 'Pin': '101', 'City': 'Hyderabad'}\n"
     ]
    }
   ],
   "source": [
    "# 3.\tCreate an empty dictionary and add key-value pairs one by one.\n",
    "d={}\n",
    "d[\"Name\"],d[\"Pin\"],d[\"City\"]=\"srihari\",\"101\",\"Hyderabad\"\n",
    "print(d)\n",
    "# d[\"Name\"]=\"srihari\"\n",
    "# d[\"Pin\"]=\"101\"\n",
    "# d[\"City\"]=\"Hyderabad\"\n",
    "# print(d)"
   ]
  },
  {
   "cell_type": "code",
   "execution_count": 69,
   "id": "afd1894c",
   "metadata": {},
   "outputs": [
    {
     "name": "stdout",
     "output_type": "stream",
     "text": [
      "50000\n"
     ]
    }
   ],
   "source": [
    "# 4.\tGet the value of key \"salary\" from this dictionary:\n",
    "employee = {'name': 'John', 'age': 30, 'salary': 50000}\n",
    "print(employee['salary'])"
   ]
  },
  {
   "cell_type": "code",
   "execution_count": 70,
   "id": "bce94d89",
   "metadata": {},
   "outputs": [
    {
     "name": "stdout",
     "output_type": "stream",
     "text": [
      "{'A': 1, 'B': 2, 'C': 3}\n",
      "{'A': 1, 'B': 2}\n"
     ]
    }
   ],
   "source": [
    "# 5.\t Remove the last inserted key-value pair from the dictionary using an appropriate method\n",
    "d={'A':1,\"B\":2,\"C\":3}\n",
    "print(d)\n",
    "d.popitem()\n",
    "print(d)"
   ]
  },
  {
   "cell_type": "code",
   "execution_count": 1,
   "id": "6f38b8cc",
   "metadata": {},
   "outputs": [
    {
     "name": "stdout",
     "output_type": "stream",
     "text": [
      "[1, 2, 3]\n",
      "1 2 3\n"
     ]
    }
   ],
   "source": [
    "# 6.\tDefine packing and unpacking in Python. Also, provide one example for both packing and unpacking.\n",
    "\n",
    "'''Packing: store multiple data types in a single variable'''\n",
    "x=1\n",
    "y=2\n",
    "z=3\n",
    "lt=[x,y,z]\n",
    "print(lt)\n",
    "\n",
    "'''Unpacking: assign multiple from a single collection to variables'''\n",
    "l=[1,2,3]\n",
    "a,b,c=l\n",
    "print(a,b,c)"
   ]
  }
 ],
 "metadata": {
  "kernelspec": {
   "display_name": ".venv",
   "language": "python",
   "name": "python3"
  },
  "language_info": {
   "codemirror_mode": {
    "name": "ipython",
    "version": 3
   },
   "file_extension": ".py",
   "mimetype": "text/x-python",
   "name": "python",
   "nbconvert_exporter": "python",
   "pygments_lexer": "ipython3",
   "version": "3.13.3"
  }
 },
 "nbformat": 4,
 "nbformat_minor": 5
}
