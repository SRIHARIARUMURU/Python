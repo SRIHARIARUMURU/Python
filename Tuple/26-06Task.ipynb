{
 "cells": [
  {
   "cell_type": "code",
   "execution_count": 10,
   "id": "57c89046",
   "metadata": {},
   "outputs": [
    {
     "name": "stdout",
     "output_type": "stream",
     "text": [
      "(5, 35, 40, 55)\n"
     ]
    }
   ],
   "source": [
    "# 1. nums = [5, 12, 17, 24, 35, 40, 55]\n",
    "# Create a tuple containing only numbers that are divisible by 5 using comprehension.\n",
    "nums = [5, 12, 17, 24, 35, 40, 55]\n",
    "print(tuple(i for i in nums if i%5==0))"
   ]
  },
  {
   "cell_type": "code",
   "execution_count": 11,
   "id": "03ac71c1",
   "metadata": {},
   "outputs": [
    {
     "name": "stdout",
     "output_type": "stream",
     "text": [
      "('H', 'W')\n"
     ]
    }
   ],
   "source": [
    "# 2. Given a string: \"HelloWorld\" Create a tuple of all uppercase letters present in the string using comprehension.?\n",
    "st=\"HelloWorld\"\n",
    "print(tuple(i for i in st if i.isupper()))"
   ]
  },
  {
   "cell_type": "code",
   "execution_count": 23,
   "id": "76df24f5",
   "metadata": {},
   "outputs": [
    {
     "name": "stdout",
     "output_type": "stream",
     "text": [
      "('pass', 'pass', 'fail', 'pass', 'pass')\n"
     ]
    }
   ],
   "source": [
    "# 3 marks = [55, 72, 48, 90, 67]\n",
    "# Create a tuple where each element is \"Pass\" if marks are >= 50 else \"Fail\" using comprehension.?\n",
    "marks = [55, 72, 48, 90, 67]\n",
    "print(tuple(\"pass\" if i>=50 else \"fail\" for i in marks))"
   ]
  },
  {
   "cell_type": "code",
   "execution_count": 25,
   "id": "596081d5",
   "metadata": {},
   "outputs": [
    {
     "name": "stdout",
     "output_type": "stream",
     "text": [
      "('Python', 'powerful', 'learn')\n"
     ]
    }
   ],
   "source": [
    "# 4. Given a sentence: \"Python is powerful and easy to learn\"\n",
    "# Create a tuple of words that have more than 4 characters using comprehension.\n",
    "sc=\"Python is powerful and easy to learn\"\n",
    "print(tuple(i for i in sc.split() if len(i)>4))"
   ]
  },
  {
   "cell_type": "code",
   "execution_count": 31,
   "id": "5468405b",
   "metadata": {},
   "outputs": [
    {
     "name": "stdout",
     "output_type": "stream",
     "text": [
      "(('Alice', 85), ('Charlie', 60))\n"
     ]
    }
   ],
   "source": [
    "# 5 students = [(\"Alice\", 85), (\"Bob\", 45), (\"Charlie\", 60), (\"David\", 30)]\n",
    "# Create a tuple containing names of students who scored 50 or more using comprehension\n",
    "students = [(\"Alice\", 85), (\"Bob\", 45), (\"Charlie\", 60), (\"David\", 30)]\n",
    "print(tuple(i for i in students if i[1]>=50))"
   ]
  }
 ],
 "metadata": {
  "kernelspec": {
   "display_name": "base",
   "language": "python",
   "name": "python3"
  },
  "language_info": {
   "codemirror_mode": {
    "name": "ipython",
    "version": 3
   },
   "file_extension": ".py",
   "mimetype": "text/x-python",
   "name": "python",
   "nbconvert_exporter": "python",
   "pygments_lexer": "ipython3",
   "version": "3.11.5"
  }
 },
 "nbformat": 4,
 "nbformat_minor": 5
}
