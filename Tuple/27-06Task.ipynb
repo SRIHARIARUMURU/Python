{
 "cells": [
  {
   "cell_type": "code",
   "execution_count": 28,
   "id": "d38f8ad1",
   "metadata": {},
   "outputs": [
    {
     "name": "stdout",
     "output_type": "stream",
     "text": [
      "{1, 2, 3, 4, 5, 6, 7}\n"
     ]
    }
   ],
   "source": [
    "# 1. Create a set with elements from 1 to 5. Add elements 6 and 7 to the set in one line.\n",
    "s={1,2,3,4,5}\n",
    "s.update({6,7})\n",
    "print(s)"
   ]
  },
  {
   "cell_type": "code",
   "execution_count": 29,
   "id": "92bc8b7f",
   "metadata": {},
   "outputs": [
    {
     "name": "stdout",
     "output_type": "stream",
     "text": [
      "{1, 2, 3, 6, 7, 8}\n"
     ]
    }
   ],
   "source": [
    "# 2. Given two sets:\n",
    "# Find elements that are present in A or B but not both (symmetric difference).\n",
    "A = {1, 2, 3, 4, 5}\n",
    "B = {4, 5, 6, 7, 8}\n",
    "C=A.symmetric_difference(B)\n",
    "print(C)"
   ]
  },
  {
   "cell_type": "code",
   "execution_count": 30,
   "id": "baeb98fb",
   "metadata": {},
   "outputs": [
    {
     "name": "stdout",
     "output_type": "stream",
     "text": [
      "{3, 7, 8, 12, 15}\n",
      "Maximum Number 15\n",
      "Minimum Number 3\n"
     ]
    }
   ],
   "source": [
    "# 3. Remove an element from a set, but avoid error if element doesn't exist.\n",
    "#  Find maximum and minimum element from a set {5, 8, 12, 3, 15, 7}.\n",
    "s={5, 8, 12, 3, 15, 7}\n",
    "s.remove(5)\n",
    "s.discard(9)\n",
    "print(s)\n",
    "print(\"Maximum Number\",max(s))\n",
    "print(\"Minimum Number\",min(s))"
   ]
  },
  {
   "cell_type": "code",
   "execution_count": 31,
   "id": "3ae31a93",
   "metadata": {},
   "outputs": [
    {
     "name": "stdout",
     "output_type": "stream",
     "text": [
      "{40, 10, 20, 30}\n",
      "{40, 10, 50, 20, 30}\n"
     ]
    }
   ],
   "source": [
    "# 4. Create a set with the values: 10, 20, 30, 40. Then add the value 50 to the set.\n",
    "s={10, 20, 30, 40}\n",
    "print(s)\n",
    "s.add(50)\n",
    "print(s)"
   ]
  },
  {
   "cell_type": "code",
   "execution_count": 32,
   "id": "78371d10",
   "metadata": {},
   "outputs": [
    {
     "name": "stdout",
     "output_type": "stream",
     "text": [
      "{50, 20, 40, 10, 30}\n",
      "{50, 20, 40, 10}\n"
     ]
    }
   ],
   "source": [
    "# 5. Remove an element 30 from a set {10, 20, 30, 40, 50} using a set method.\n",
    "s={10, 20, 30, 40, 50}\n",
    "print(s)\n",
    "s.remove(30)\n",
    "print(s)"
   ]
  },
  {
   "cell_type": "code",
   "execution_count": 33,
   "id": "432e95cd",
   "metadata": {},
   "outputs": [
    {
     "name": "stdout",
     "output_type": "stream",
     "text": [
      "True\n"
     ]
    }
   ],
   "source": [
    "# 6. Check whether the number 25 exists in the set {15, 20, 25, 30, 35}.\n",
    "s={15, 20, 25, 30, 35}\n",
    "print(25 in s)\n",
    "# print({25}.issubset(s))"
   ]
  },
  {
   "cell_type": "code",
   "execution_count": 37,
   "id": "a6f8cd1b",
   "metadata": {},
   "outputs": [
    {
     "name": "stdout",
     "output_type": "stream",
     "text": [
      "union of A and B {1, 2, 3, 4, 5, 6}\n"
     ]
    }
   ],
   "source": [
    "# 7. Find the union of two sets:\n",
    "A = {1, 2, 3, 4}\n",
    "B = {3, 4, 5, 6}\n",
    "print(\"union of A and B\",A|B)"
   ]
  },
  {
   "cell_type": "code",
   "execution_count": 36,
   "id": "82bd9812",
   "metadata": {},
   "outputs": [
    {
     "name": "stdout",
     "output_type": "stream",
     "text": [
      "intersection of A an B {40, 30}\n"
     ]
    }
   ],
   "source": [
    "# 8. Find the intersection of two sets:\n",
    "A = {10, 20, 30, 40}\n",
    "B = {30, 40, 50, 60}\n",
    "print(\"intersection of A an B\",A&B)"
   ]
  }
 ],
 "metadata": {
  "kernelspec": {
   "display_name": "base",
   "language": "python",
   "name": "python3"
  },
  "language_info": {
   "codemirror_mode": {
    "name": "ipython",
    "version": 3
   },
   "file_extension": ".py",
   "mimetype": "text/x-python",
   "name": "python",
   "nbconvert_exporter": "python",
   "pygments_lexer": "ipython3",
   "version": "3.11.5"
  }
 },
 "nbformat": 4,
 "nbformat_minor": 5
}
