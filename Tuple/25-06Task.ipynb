{
 "cells": [
  {
   "cell_type": "code",
   "execution_count": 6,
   "id": "3ded0f35",
   "metadata": {},
   "outputs": [
    {
     "name": "stdout",
     "output_type": "stream",
     "text": [
      "200\n"
     ]
    }
   ],
   "source": [
    "# 1. Access the value 200 from this nested tuple?\n",
    "#                       t = (10, 20, (30, 40, (100, 200)), 50)\n",
    "t = (10, 20, (30, 40, (100, 200)), 50)\n",
    "print(t[2][2][1])"
   ]
  },
  {
   "cell_type": "code",
   "execution_count": 25,
   "id": "b1ab310a",
   "metadata": {},
   "outputs": [
    {
     "name": "stdout",
     "output_type": "stream",
     "text": [
      "70\n"
     ]
    }
   ],
   "source": [
    "# 2. Access the value 70 from the nested structure?\n",
    "#                    data = (10, (20, 30, (40, 50, (60, 70))), 80)\n",
    "data= (10, (20, 30, (40, 50, (60, 70))), 80)\n",
    "print(data[1][2][2][1])"
   ]
  },
  {
   "cell_type": "code",
   "execution_count": 29,
   "id": "332c2706",
   "metadata": {},
   "outputs": [
    {
     "name": "stdout",
     "output_type": "stream",
     "text": [
      "[10, 20, 30, 40, 50]\n"
     ]
    }
   ],
   "source": [
    "# 3. Convert   j=(10,20,30,40,50)  tuple data type to list data type?\n",
    "j=(10,20,30,40,50)\n",
    "lt=[]\n",
    "for i in j:\n",
    "    lt.append(i)\n",
    "print(lt)"
   ]
  },
  {
   "cell_type": "code",
   "execution_count": 34,
   "id": "107b74bd",
   "metadata": {},
   "outputs": [
    {
     "name": "stdout",
     "output_type": "stream",
     "text": [
      "3 4 "
     ]
    }
   ],
   "source": [
    "# 4. Find Common Elements Between Two Tuples\n",
    "        #  t1 = (1, 2, 3, 4)\n",
    "        #  t2 = (3, 4, 5, 6)\n",
    "t1 = (1, 2, 3, 4)\n",
    "t2 = (3, 4, 5, 6)\n",
    "for i in t1:\n",
    "    for j in t2:\n",
    "        if i==j:\n",
    "            print(i,end=\" \")"
   ]
  }
 ],
 "metadata": {
  "kernelspec": {
   "display_name": "base",
   "language": "python",
   "name": "python3"
  },
  "language_info": {
   "codemirror_mode": {
    "name": "ipython",
    "version": 3
   },
   "file_extension": ".py",
   "mimetype": "text/x-python",
   "name": "python",
   "nbconvert_exporter": "python",
   "pygments_lexer": "ipython3",
   "version": "3.11.5"
  }
 },
 "nbformat": 4,
 "nbformat_minor": 5
}
