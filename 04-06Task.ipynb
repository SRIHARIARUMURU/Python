{
 "cells": [
  {
   "cell_type": "code",
   "execution_count": 9,
   "id": "723452f7",
   "metadata": {},
   "outputs": [
    {
     "name": "stdout",
     "output_type": "stream",
     "text": [
      "Sum of 5 and 3 is 8\n"
     ]
    }
   ],
   "source": [
    "# 1.\tBasic Input with Integer Conversion\n",
    "# Take two numbers as input from the user, convert them to integers, and print their sum.\n",
    "a=input()\n",
    "b=input()\n",
    "print(f\"Sum of {a} and {b} is {int(a)+int(b)}\")"
   ]
  },
  {
   "cell_type": "code",
   "execution_count": 19,
   "id": "596ebc46",
   "metadata": {},
   "outputs": [
    {
     "name": "stdout",
     "output_type": "stream",
     "text": [
      "product of 5.0 and 3.0 is 15.0\n"
     ]
    }
   ],
   "source": [
    "# 2.\tMultiple Inputs with Space Separation\n",
    "# Take two floating-point numbers as input in a single line separated by space and print their product.\n",
    "a,b=map(float, input().split())\n",
    "print(f\"product of {a} and {b} is {a*b}\")"
   ]
  },
  {
   "cell_type": "code",
   "execution_count": 49,
   "id": "6e94d911",
   "metadata": {},
   "outputs": [
    {
     "name": "stdout",
     "output_type": "stream",
     "text": [
      "1+2*3\n",
      "7\n"
     ]
    }
   ],
   "source": [
    "# 3.\tExpression Evaluation with eval()\n",
    "# Take a mathematical expression from the user as input and print the evaluated result.\n",
    "a=input()\n",
    "print(a)\n",
    "print(eval(a))"
   ]
  },
  {
   "cell_type": "code",
   "execution_count": 75,
   "id": "796cbdd1",
   "metadata": {},
   "outputs": [
    {
     "name": "stdout",
     "output_type": "stream",
     "text": [
      "21\n"
     ]
    }
   ],
   "source": [
    "# 4.\tList Input using eval()\n",
    "# Take a list as input using eval() and print the sum of its elements.\n",
    "l=[1,2,3,4,5,6]\n",
    "print(eval(\"sum(l)\"))"
   ]
  },
  {
   "cell_type": "code",
   "execution_count": 73,
   "id": "f2984bc7",
   "metadata": {},
   "outputs": [
    {
     "name": "stdout",
     "output_type": "stream",
     "text": [
      "\n",
      "False\n",
      "srihari\n",
      "True\n"
     ]
    }
   ],
   "source": [
    "# 5.\tBoolean Type Conversion\n",
    "# Take an input from the user, convert it to boolean, and print the result.\n",
    "for i in range(2):\n",
    "    a=input()\n",
    "    print(a)    \n",
    "    print(bool(a))"
   ]
  },
  {
   "cell_type": "code",
   "execution_count": 14,
   "id": "b001e51e",
   "metadata": {},
   "outputs": [
    {
     "name": "stdout",
     "output_type": "stream",
     "text": [
      "Square of 5 is 25.0\n"
     ]
    }
   ],
   "source": [
    "# 6.\tString to Float Conversion\n",
    "# Take a floating-point number as string input, convert it to float, and print its square.\n",
    "a=input()\n",
    "print(f\"Square of {a} is {float(a)**2}\")"
   ]
  },
  {
   "cell_type": "code",
   "execution_count": 50,
   "id": "b7a6788f",
   "metadata": {},
   "outputs": [
    {
     "name": "stdout",
     "output_type": "stream",
     "text": [
      "{'a': 1, 'b': 2}\n",
      "['a', 'b'] [1, 2]\n"
     ]
    }
   ],
   "source": [
    "# 7.\t Dictionary Input using eval()\n",
    "# Take a dictionary as input using eval() and print its keys and values separately.\n",
    "# d={'a':1,'b':2}\n",
    "d=eval(input())\n",
    "print(d)\n",
    "print(list(d.keys()),list(d.values()))"
   ]
  },
  {
   "cell_type": "code",
   "execution_count": 60,
   "id": "23d5eb3b",
   "metadata": {},
   "outputs": [
    {
     "name": "stdout",
     "output_type": "stream",
     "text": [
      "[1, 2, 3, 5, 6, 4, 7]\n",
      "Max Number 7\n",
      "Min Number 1\n"
     ]
    }
   ],
   "source": [
    "# 8.\tList of Integers from Space Separated Input\n",
    "# Take a list of integers as input in a single line separated by space and print the maximum and minimum values.\n",
    "a=list(map(int,input().split()))\n",
    "print(a)\n",
    "print(f\"Max Number {max(a)}\\nMin Number {min(a)}\")"
   ]
  },
  {
   "cell_type": "code",
   "execution_count": null,
   "id": "f4a1f444",
   "metadata": {},
   "outputs": [
    {
     "name": "stdout",
     "output_type": "stream",
     "text": [
      "<class 'str'>\n",
      "<class 'list'>\n",
      "<class 'tuple'>\n",
      "<class 'int'>\n"
     ]
    }
   ],
   "source": [
    "# 9.\tMixed Type Literal Input with eval()\n",
    "# Take any Python literal as input (string, list, tuple, int, etc.) using eval() and print its type.\n",
    "\n",
    "i=\"Srihari\"\n",
    "print(eval(\"type(i)\"))\n",
    "j=[1,2,3]\n",
    "print(eval(\"type(j)\"))\n",
    "k=1,2,3\n",
    "print(eval(\"type(k)\"))\n",
    "l=10\n",
    "print(eval(\"type(l)\"))"
   ]
  },
  {
   "cell_type": "code",
   "execution_count": 13,
   "id": "434a69e5",
   "metadata": {},
   "outputs": [
    {
     "name": "stdout",
     "output_type": "stream",
     "text": [
      "Sum of 5 and 3 is 8.0\n"
     ]
    }
   ],
   "source": [
    "# 10.\tCombined Type Conversion\n",
    "# Take two inputs, convert the first to integer and second to float, then print their sum.\n",
    "a=input()\n",
    "b=input()\n",
    "print(f\"Sum of {a} and {b} is {int(a)+float(b)}\")"
   ]
  }
 ],
 "metadata": {
  "kernelspec": {
   "display_name": "base",
   "language": "python",
   "name": "python3"
  },
  "language_info": {
   "codemirror_mode": {
    "name": "ipython",
    "version": 3
   },
   "file_extension": ".py",
   "mimetype": "text/x-python",
   "name": "python",
   "nbconvert_exporter": "python",
   "pygments_lexer": "ipython3",
   "version": "3.11.5"
  }
 },
 "nbformat": 4,
 "nbformat_minor": 5
}
