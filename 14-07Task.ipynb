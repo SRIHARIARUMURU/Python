{
 "cells": [
  {
   "cell_type": "code",
   "execution_count": 7,
   "id": "aa033c37",
   "metadata": {},
   "outputs": [
    {
     "name": "stdout",
     "output_type": "stream",
     "text": [
      "Name = Srihari\n",
      "Age = 22\n"
     ]
    }
   ],
   "source": [
    "# 1.\tCreate a class Person with instance attributes name and age. Write an instance method display() that prints the name and age.\n",
    "class Person():\n",
    "    def __init__(self,name,age):\n",
    "        self.name=name\n",
    "        self.age=age\n",
    "    def display(self):\n",
    "        print(f\"Name = {self.name}\\nAge = {self.age}\")\n",
    "obj=Person(\"Srihari\",22)\n",
    "obj.display()"
   ]
  },
  {
   "cell_type": "code",
   "execution_count": 11,
   "id": "b8a19e74",
   "metadata": {},
   "outputs": [
    {
     "name": "stdout",
     "output_type": "stream",
     "text": [
      "Total salary = 50000\n",
      "Total salary = 110000\n"
     ]
    }
   ],
   "source": [
    "# 2.\tCreate a class Employee with attributes name and salary. Write an instance method update_salary() to update the salary.\n",
    "class Employee:\n",
    "    def __init__(self,name):\n",
    "        self.name=name\n",
    "        self.salary=0\n",
    "    def update_salary(self,name,amount):\n",
    "        if self.name==name:\n",
    "            self.salary+=amount\n",
    "            print(f\"Total salary = {self.salary}\")\n",
    "obj=Employee(\"srihari\")\n",
    "obj.update_salary(\"srihari\",50000)\n",
    "obj.update_salary(\"srihari\",60000)"
   ]
  },
  {
   "cell_type": "code",
   "execution_count": 30,
   "id": "bdb581bf",
   "metadata": {},
   "outputs": [
    {
     "name": "stdout",
     "output_type": "stream",
     "text": [
      "Deposite Amount is = 10000\n",
      "Total Amount in your Account is Rs.10000\n",
      "\n",
      "Deposite Amount is = 5000\n",
      "Total Amount in your Account is Rs.5000\n",
      "\n",
      "Total Amount in your account is Rs.5000\n",
      "\n",
      "Thank you for visiting our bank! Have a good day.\n"
     ]
    }
   ],
   "source": [
    "# 3.\tCreate a class BankAccount with   “balance attribute deposit() and withdraw()” instance methods.\n",
    "class BankAccount:\n",
    "    def __init__(self):\n",
    "        self.balance=0\n",
    "    def deposit(self,amount):\n",
    "        self.balance+=amount\n",
    "        print(f\"Deposite Amount is = {amount}\")\n",
    "        print(f\"Total Amount in your Account is Rs.{self.balance}\\n\")\n",
    "    def withdraw(self,amount):\n",
    "        if amount>self.balance:\n",
    "            print(\"Insufficient Balance\")\n",
    "        else:\n",
    "            self.balance-=amount\n",
    "            print(f\"Deposite Amount is = {amount}\")\n",
    "            print(f\"Total Amount in your Account is Rs.{self.balance}\\n\")\n",
    "    def bal(self):\n",
    "        print(f\"Total Amount in your account is Rs.{self.balance}\\n\")\n",
    "obj=BankAccount()\n",
    "while True:\n",
    "    inp=int(input(\"Welcome to ASH Bank\\n-------------------\\nEnter 1 for Deposite\\nEnter 2 for Withdraw\\nEnter 3 to check balance\\nEnter4 to Exit\\nChoose your option\\n\"))\n",
    "    match inp:\n",
    "        case 1:\n",
    "            obj.deposit(int(input(\"Enter Amount \")))\n",
    "        case 2:\n",
    "            obj.withdraw(int(input(\"Enter Amount \")))\n",
    "        case 3:\n",
    "            obj.bal()\n",
    "        case 4:\n",
    "            print(\"Thank you for visiting our bank! Have a good day.\")\n",
    "            break\n",
    "        case _: \n",
    "            print(\"Enter valid option\")"
   ]
  },
  {
   "cell_type": "code",
   "execution_count": 36,
   "id": "05e76a45",
   "metadata": {},
   "outputs": [
    {
     "name": "stdout",
     "output_type": "stream",
     "text": [
      "Average Marks for Srihari is 81\n"
     ]
    }
   ],
   "source": [
    "# 4.\tCreate a class Student with  Attributes  name, marks (list) Method: average() → returns average marks.\n",
    "class Student:\n",
    "    def __init__(self,name,marks):\n",
    "        self.name=name\n",
    "        self.marks=marks\n",
    "    def average(self):\n",
    "        print(f\"Average Marks for {self.name} is {sum(self.marks)//len(self.marks)}\")\n",
    "# mark=[50,30,45]\n",
    "obj=Student(\"Srihari\",[90,80,75])\n",
    "obj.average()"
   ]
  },
  {
   "cell_type": "code",
   "execution_count": 56,
   "id": "71497c83",
   "metadata": {},
   "outputs": [
    {
     "name": "stdout",
     "output_type": "stream",
     "text": [
      "Class Method\n",
      "1000\n",
      "1000\n",
      "Instance Method\n",
      "2000\n",
      "0\n"
     ]
    }
   ],
   "source": [
    "# 5.\tDifference Between Class Method and Instance Method.\n",
    "# Class Method\n",
    "\n",
    "    # This method is used to access the classes level variables,\n",
    "    # if we change the class value in one method it can effect the value directly,\n",
    "    # It require a mandatory 1st parameter ex:cls and it refers to class,\n",
    "    # It has the @classmethod decorator.\n",
    "print(\"Class Method\")\n",
    "class class_level:\n",
    "    balance=0\n",
    "    @classmethod\n",
    "    def deposite(cls,amount):\n",
    "        cls.balance+=amount\n",
    "        # print(cls.balance)\n",
    "ocl=class_level()\n",
    "ocl.deposite(1000)\n",
    "print(ocl.balance)\n",
    "oc2=class_level()\n",
    "print(oc2.balance)\n",
    "# Instance Method\n",
    "\n",
    "    # This method is used to access the classes level and object level variables,\n",
    "    # This method if we change the value of class variable, it can change for that particular object only,\n",
    "    # It also require a mandatory 1st parameter ex:self and it refers to current class object.\n",
    "print(\"Instance Method\")\n",
    "class instance_level:\n",
    "    balance=0\n",
    "    def depositee(self,amount):\n",
    "        self.balance+=amount\n",
    "        # print(self.balance)\n",
    "ol=instance_level()\n",
    "ol.depositee(2000)\n",
    "print(ol.balance)\n",
    "o2=instance_level()\n",
    "print(o2.balance)"
   ]
  }
 ],
 "metadata": {
  "kernelspec": {
   "display_name": "base",
   "language": "python",
   "name": "python3"
  },
  "language_info": {
   "codemirror_mode": {
    "name": "ipython",
    "version": 3
   },
   "file_extension": ".py",
   "mimetype": "text/x-python",
   "name": "python",
   "nbconvert_exporter": "python",
   "pygments_lexer": "ipython3",
   "version": "3.11.5"
  }
 },
 "nbformat": 4,
 "nbformat_minor": 5
}
