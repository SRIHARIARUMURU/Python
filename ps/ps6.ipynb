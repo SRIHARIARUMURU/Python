{
 "cells": [
  {
   "cell_type": "code",
   "execution_count": 2,
   "id": "e604bf90",
   "metadata": {},
   "outputs": [
    {
     "name": "stdout",
     "output_type": "stream",
     "text": [
      "10 20\n",
      "Sum = 30\n"
     ]
    }
   ],
   "source": [
    "# 1. Add Two Numbers Using Function\n",
    "n1=int(input(\"Enter First Number\"))\n",
    "n2=int(input(\"Enter Second Number\"))\n",
    "print(n1,n2)\n",
    "def add(n1,n2):\n",
    "    print(f\"Sum = {n1+n2}\")\n",
    "add(n1,n2)"
   ]
  },
  {
   "cell_type": "code",
   "execution_count": 4,
   "id": "668b56f3",
   "metadata": {},
   "outputs": [
    {
     "name": "stdout",
     "output_type": "stream",
     "text": [
      "15\n",
      "15 is Odd\n"
     ]
    }
   ],
   "source": [
    "# 2. Check Even or Odd Using Function\n",
    "n=int(input(\"Enter Number\"))\n",
    "print(n)\n",
    "def odd(n):\n",
    "    if n%2!=0:\n",
    "        print(f\"{n} is Odd\")\n",
    "    else:\n",
    "        print(f\"{n} is Even\")\n",
    "odd(n)"
   ]
  },
  {
   "cell_type": "code",
   "execution_count": 22,
   "id": "52eb390c",
   "metadata": {},
   "outputs": [
    {
     "name": "stdout",
     "output_type": "stream",
     "text": [
      "2020\n",
      "2020 is Leap Year\n"
     ]
    }
   ],
   "source": [
    "# 3. Check Leap Year Using Function\n",
    "year=int(input(\"Enter Year\"))\n",
    "print(year)\n",
    "def leap_year(year):\n",
    "    if (year%4==0 and year%100!=0) or year%400==0:\n",
    "        print(f\"{year} is Leap Year\")\n",
    "    else:\n",
    "        print(f\"{year} is Not a Leap Year\")\n",
    "leap_year(year)"
   ]
  },
  {
   "cell_type": "code",
   "execution_count": 23,
   "id": "11d4a843",
   "metadata": {},
   "outputs": [
    {
     "name": "stdout",
     "output_type": "stream",
     "text": [
      "13\n",
      "13 is a Prime Number\n"
     ]
    }
   ],
   "source": [
    "# 4. Check Prime Number Using Function\n",
    "n=int(input(\"Enter a Number\"))\n",
    "print(n)\n",
    "def is_prime(num):\n",
    "    if num<2:\n",
    "        print(f\"{num} is Not a Prime Number\")\n",
    "    for i in range(2,num):\n",
    "        if num%i==0:\n",
    "            print(f\"{num} is Not a Prime Number\")\n",
    "    else:\n",
    "        print(f\"{num} is a Prime Number\")\n",
    "is_prime(n)"
   ]
  },
  {
   "cell_type": "code",
   "execution_count": 13,
   "id": "34c25bcb",
   "metadata": {},
   "outputs": [
    {
     "name": "stdout",
     "output_type": "stream",
     "text": [
      "100 500\n",
      "Armstrong Numbers between 100 and 500: 153 370 371 407  "
     ]
    }
   ],
   "source": [
    "# 5. Print Armstrong Numbers from m to n Using Function\n",
    "def amstrong(n):\n",
    "    n1=n\n",
    "    res=0\n",
    "    for i in str(n1):\n",
    "        digit=n%10\n",
    "        res+=digit**len(str(n1))\n",
    "        n//=10\n",
    "    if res==n1:\n",
    "        return True\n",
    "    else:\n",
    "        False\n",
    "m,n=map(int,input().split())\n",
    "print(m,n)\n",
    "res=''\n",
    "for i in range(m,n+1):\n",
    "    if amstrong(i):\n",
    "        res+=str(i)+\" \"\n",
    "print(f\"Armstrong Numbers between {m} and {n}: {res}\",end=\" \")"
   ]
  },
  {
   "cell_type": "code",
   "execution_count": 4,
   "id": "5f078030",
   "metadata": {},
   "outputs": [
    {
     "name": "stdout",
     "output_type": "stream",
     "text": [
      "5\n",
      "120\n"
     ]
    }
   ],
   "source": [
    "# Recursion-Based Problems\n",
    "# 6. Factorial Using Recursion\n",
    "n=int(input())\n",
    "print(n)\n",
    "def fact(n):\n",
    "   if n==1:\n",
    "      return 1\n",
    "   return n* fact(n-1)\n",
    "print(fact(n))"
   ]
  },
  {
   "cell_type": "code",
   "execution_count": 49,
   "id": "6330dc3f",
   "metadata": {},
   "outputs": [
    {
     "name": "stdout",
     "output_type": "stream",
     "text": [
      "5\n",
      "0 1 1 2 3 "
     ]
    }
   ],
   "source": [
    "# 7. Fibonacci Series Using Recursion\n",
    "n=int(input(\"Enter a Number\"))\n",
    "print(n)\n",
    "def fibonacci(n):\n",
    "    if n<=1:\n",
    "        return n\n",
    "    return fibonacci(n-1)+fibonacci(n-2)\n",
    "for i in range(n):\n",
    "    print(fibonacci(i),end=\" \")"
   ]
  },
  {
   "cell_type": "code",
   "execution_count": 48,
   "id": "cbefba14",
   "metadata": {},
   "outputs": [
    {
     "name": "stdout",
     "output_type": "stream",
     "text": [
      "123\n"
     ]
    },
    {
     "data": {
      "text/plain": [
       "6"
      ]
     },
     "execution_count": 48,
     "metadata": {},
     "output_type": "execute_result"
    }
   ],
   "source": [
    "# 8. Sum of Digits Using Recursion\n",
    "n=int(input(\"Enter a Number\"))\n",
    "print(n)\n",
    "def sum_of_dig(n):\n",
    "    if n==0:\n",
    "        return 0\n",
    "    return (n%10)+ sum_of_dig(n//10)\n",
    "sum_of_dig(n)"
   ]
  },
  {
   "cell_type": "code",
   "execution_count": 45,
   "id": "87794fd5",
   "metadata": {},
   "outputs": [
    {
     "name": "stdout",
     "output_type": "stream",
     "text": [
      "1234\n"
     ]
    },
    {
     "data": {
      "text/plain": [
       "4321"
      ]
     },
     "execution_count": 45,
     "metadata": {},
     "output_type": "execute_result"
    }
   ],
   "source": [
    "# 9. Reverse a Number Using Recursion\n",
    "n=int(input(\"Enter a Number\"))\n",
    "print(n)\n",
    "def reverse_number(n,res=0):\n",
    "    if n==0:\n",
    "        return res\n",
    "    return  reverse_number(n//10,res*10+n%10)\n",
    "reverse_number(n)"
   ]
  },
  {
   "cell_type": "code",
   "execution_count": 44,
   "id": "9456f44c",
   "metadata": {},
   "outputs": [
    {
     "name": "stdout",
     "output_type": "stream",
     "text": [
      "madam\n",
      "The string is a palindrome\n"
     ]
    }
   ],
   "source": [
    "# 10. Check Palindrome Using Recursion\n",
    "def palindrome(s):\n",
    "    if len(s)==1 or len(s)==0:\n",
    "        return True\n",
    "    if s[0]!=s[-1]:\n",
    "        return False\n",
    "    return palindrome(s[1:-1])\n",
    "s=input(\"Enter String\")\n",
    "print(s)\n",
    "if palindrome(s):\n",
    "    print(\"The string is a palindrome\")\n",
    "else:\n",
    "    print(\"The string is not a palindrome\")"
   ]
  }
 ],
 "metadata": {
  "kernelspec": {
   "display_name": "base",
   "language": "python",
   "name": "python3"
  },
  "language_info": {
   "codemirror_mode": {
    "name": "ipython",
    "version": 3
   },
   "file_extension": ".py",
   "mimetype": "text/x-python",
   "name": "python",
   "nbconvert_exporter": "python",
   "pygments_lexer": "ipython3",
   "version": "3.11.5"
  }
 },
 "nbformat": 4,
 "nbformat_minor": 5
}
