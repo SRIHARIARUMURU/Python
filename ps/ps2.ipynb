{
 "cells": [
  {
   "cell_type": "code",
   "execution_count": 77,
   "id": "1e3bd357",
   "metadata": {},
   "outputs": [
    {
     "name": "stdout",
     "output_type": "stream",
     "text": [
      "6\n",
      "Even Number\n"
     ]
    }
   ],
   "source": [
    "# 1. Check Even or Odd\n",
    "num=int(input(\"Enter a Number\"))\n",
    "print(num)\n",
    "if num & 1==0:\n",
    "    print(\"Even Number\")\n",
    "else:\n",
    "    print(\"Odd Number\")"
   ]
  },
  {
   "cell_type": "code",
   "execution_count": 81,
   "id": "20115218",
   "metadata": {},
   "outputs": [
    {
     "name": "stdout",
     "output_type": "stream",
     "text": [
      "25\n",
      "Satisfy\n"
     ]
    }
   ],
   "source": [
    "# 2. Divisible by 5 but Not by 10\n",
    "num=int(input(\"Enter a Number\"))\n",
    "print(num)\n",
    "if num % 5 == 0 and num % 10 != 0:\n",
    "    print(\"Satisfy\")\n",
    "else:\n",
    "    print(\"Not Satisfy\")"
   ]
  },
  {
   "cell_type": "code",
   "execution_count": 25,
   "id": "7f343dc8",
   "metadata": {},
   "outputs": [
    {
     "name": "stdout",
     "output_type": "stream",
     "text": [
      "4 7\n",
      "Biggest is: 7\n"
     ]
    }
   ],
   "source": [
    "# 3. Biggest Among Two Numbers\n",
    "num1,num2=map(int,input(\"Enter 2 Number\").split())\n",
    "print(num1,num2)\n",
    "if num1 > num2:\n",
    "    print(f\"Biggest is: {num1}\")\n",
    "else:\n",
    "    print(f\"Biggest is: {num2}\")"
   ]
  },
  {
   "cell_type": "code",
   "execution_count": 26,
   "id": "01dd755e",
   "metadata": {},
   "outputs": [
    {
     "name": "stdout",
     "output_type": "stream",
     "text": [
      "2 7\n",
      "Smallest is: 2\n"
     ]
    }
   ],
   "source": [
    "# 4. Smallest Among Two Numbers\n",
    "num1,num2=map(int,input(\"Enter 2 Number\").split())\n",
    "print(num1,num2)\n",
    "if num1 < num2:\n",
    "    print(f\"Smallest is: {num1}\")\n",
    "else:\n",
    "    print(f\"smallest is: {num2}\")"
   ]
  },
  {
   "cell_type": "code",
   "execution_count": 11,
   "id": "5acf30d7",
   "metadata": {},
   "outputs": [
    {
     "name": "stdout",
     "output_type": "stream",
     "text": [
      "18\n",
      "Satisfy\n"
     ]
    }
   ],
   "source": [
    "# 5. Divisible by 2, 3, and 6\n",
    "\"\"\"If a number is divisible by '6' then it autommatically divisible 2 and 3\"\"\"\n",
    "num=int(input(\"Enter a Number\"))\n",
    "print(num)\n",
    "if num % 6 == 0:\n",
    "    print(\"Satisfy\")\n",
    "else:\n",
    "    print(\"Not Satisfy\")"
   ]
  },
  {
   "cell_type": "code",
   "execution_count": 65,
   "id": "ed5885d8",
   "metadata": {},
   "outputs": [
    {
     "name": "stdout",
     "output_type": "stream",
     "text": [
      "19\n",
      "Eligible to Vote\n"
     ]
    }
   ],
   "source": [
    "# 6. Voting Eligibility\n",
    "age=int(input(\"Enter Age\"))\n",
    "print(age)\n",
    "if age>=18:\n",
    "    print(\"Eligible to Vote\")\n",
    "else:\n",
    "    print(\"Not Eligible to Vote\")"
   ]
  },
  {
   "cell_type": "code",
   "execution_count": 27,
   "id": "a563e5c7",
   "metadata": {},
   "outputs": [
    {
     "name": "stdout",
     "output_type": "stream",
     "text": [
      "Maths= 40, physics= 36, Chemistry= 30\n",
      "Fail\n"
     ]
    }
   ],
   "source": [
    "# 7. Student Pass/Fail Based on All Subjects >= 35\n",
    "m,p,c=map(int,input(\"Enter 3 Numbers\").split())\n",
    "print(f\"Maths= {m}, physics= {p}, Chemistry= {c}\")\n",
    "if m>=35 and p>=35 and c>=35:\n",
    "    print(\"Pass\")\n",
    "else:\n",
    "    print(\"Fail\")"
   ]
  },
  {
   "cell_type": "code",
   "execution_count": 28,
   "id": "1c13a9e3",
   "metadata": {},
   "outputs": [
    {
     "name": "stdout",
     "output_type": "stream",
     "text": [
      "Maths= 20, physics= 38, Chemistry= 25\n",
      "Pass\n"
     ]
    }
   ],
   "source": [
    "# 8. Student Pass if Passed Any One Subject (>= 35)\n",
    "m,p,c=map(int,input(\"Enter 3 Numbers\").split())\n",
    "print(f\"Maths= {m}, physics= {p}, Chemistry= {c}\")\n",
    "if m>=35 or p>=35 or c>=35:\n",
    "    print(\"Pass\")\n",
    "else:\n",
    "    print(\"Fail\")"
   ]
  },
  {
   "cell_type": "code",
   "execution_count": 29,
   "id": "4a29275b",
   "metadata": {},
   "outputs": [
    {
     "name": "stdout",
     "output_type": "stream",
     "text": [
      "Maths= 40, physics= 20, Chemistry= 36\n",
      "Pass\n"
     ]
    }
   ],
   "source": [
    "# 9. Student Pass if Passed Any Two Subjects\n",
    "m,p,c=map(int,input(\"Enter 3 Numbers\").split())\n",
    "print(f\"Maths= {m}, physics= {p}, Chemistry= {c}\")\n",
    "count=0\n",
    "if m>=35:\n",
    "    count+=1\n",
    "if p>=35:\n",
    "    count+=1\n",
    "if c>=35:\n",
    "    count+=1\n",
    "if count>=2:\n",
    "    print(\"Pass\")\n",
    "else:\n",
    "    print(\"Fail\")"
   ]
  },
  {
   "cell_type": "code",
   "execution_count": null,
   "id": "a079eb09",
   "metadata": {},
   "outputs": [
    {
     "name": "stdout",
     "output_type": "stream",
     "text": [
      "7 4 9\n",
      "Biggest is: 9\n"
     ]
    }
   ],
   "source": [
    "# 10. Biggest Among Three Numbers\n",
    "n1,n2,n3=map(int,input().split())\n",
    "print(n1,n2,n3)\n",
    "if n1>n2 and n1>n3:\n",
    "    print(f\"Biggest is {n1}\")\n",
    "if n2>n1 and n2>n3:\n",
    "    print(f\"Biggest is: {n2}\")\n",
    "else:\n",
    "    print(f\"Biggest is: {n3}\")"
   ]
  },
  {
   "cell_type": "code",
   "execution_count": 31,
   "id": "35ce4893",
   "metadata": {},
   "outputs": [
    {
     "name": "stdout",
     "output_type": "stream",
     "text": [
      "7 4 9\n",
      "Smallest is: 4\n"
     ]
    }
   ],
   "source": [
    "# 11. Smallest Among Three Numbers\n",
    "n1,n2,n3=map(int,input().split())\n",
    "print(n1,n2,n3)\n",
    "if n1<n2 and n1<n3:\n",
    "    print(f\"Smallest is {n1}\")\n",
    "if n2<n1 and n2<n3:\n",
    "    print(f\"Smallest is: {n2}\")\n",
    "else:\n",
    "    print(f\"Smallest is: {n3}\")"
   ]
  },
  {
   "cell_type": "code",
   "execution_count": 38,
   "id": "ecd3aa32",
   "metadata": {},
   "outputs": [
    {
     "name": "stdout",
     "output_type": "stream",
     "text": [
      "49\n",
      "Perfect Square\n"
     ]
    }
   ],
   "source": [
    "# 12. Perfect Square or Not\n",
    "num=int(input(\"Enter a Number\"))\n",
    "print(num)\n",
    "for i in range(1,(num//2)+1):\n",
    "    if i**2==num:\n",
    "        print(\"Perfect Square\")\n",
    "        break\n",
    "else:\n",
    "    print(\"Not a Perfect Square\")"
   ]
  },
  {
   "cell_type": "code",
   "execution_count": 51,
   "id": "b97c5db8",
   "metadata": {},
   "outputs": [
    {
     "name": "stdout",
     "output_type": "stream",
     "text": [
      "17\n",
      "Cars Need = 4\n"
     ]
    }
   ],
   "source": [
    "# 13. Cars Required for Members (Max 5 per car)\n",
    "persons=int(input(\"Enter Total no.of Persons\"))\n",
    "print(persons)\n",
    "c1=persons//5\n",
    "rem=persons%5\n",
    "if rem>0:\n",
    "    c1+=1\n",
    "print(f\"Cars Need = {c1}\")"
   ]
  },
  {
   "cell_type": "code",
   "execution_count": 61,
   "id": "1a02b097",
   "metadata": {},
   "outputs": [
    {
     "name": "stdout",
     "output_type": "stream",
     "text": [
      "10 25 18\n",
      "second Biggest is: 18\n"
     ]
    }
   ],
   "source": [
    "# 14. Second Biggest Among Three Numbers\n",
    "n1,n2,n3=map(int,input().split())\n",
    "print(n1,n2,n3)\n",
    "if (n1>n2 and n1<n3) or (n1<n2 and n1>n3):\n",
    "    print(f\"Second Biggest is {n1}\")\n",
    "if (n2>n1 and n2<n3) or (n2<n1 and n2>n3):\n",
    "    print(f\"second Biggest is: {n2}\")\n",
    "else:\n",
    "    print(f\"second Biggest is: {n3}\")"
   ]
  },
  {
   "cell_type": "code",
   "execution_count": 52,
   "id": "9d3a3c53",
   "metadata": {},
   "outputs": [
    {
     "name": "stdout",
     "output_type": "stream",
     "text": [
      "2024\n",
      "Leap Year\n"
     ]
    }
   ],
   "source": [
    "# 15. Leap Year or Not\n",
    "year=int(input(\"Enter Year\"))\n",
    "print(year)\n",
    "if (year%4==0 and year%100!=0) or year%400==0:\n",
    "    print(\"Leap Year\")\n",
    "else:\n",
    "    print(\"Not a Leap Year\")"
   ]
  }
 ],
 "metadata": {
  "kernelspec": {
   "display_name": ".venv",
   "language": "python",
   "name": "python3"
  },
  "language_info": {
   "codemirror_mode": {
    "name": "ipython",
    "version": 3
   },
   "file_extension": ".py",
   "mimetype": "text/x-python",
   "name": "python",
   "nbconvert_exporter": "python",
   "pygments_lexer": "ipython3",
   "version": "3.13.3"
  }
 },
 "nbformat": 4,
 "nbformat_minor": 5
}
