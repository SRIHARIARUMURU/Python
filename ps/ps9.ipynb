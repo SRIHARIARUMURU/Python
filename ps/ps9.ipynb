{
 "cells": [
  {
   "cell_type": "markdown",
   "id": "bfe52044",
   "metadata": {},
   "source": [
    "Set-Based Questions"
   ]
  },
  {
   "cell_type": "code",
   "execution_count": 1,
   "id": "d88076a3",
   "metadata": {},
   "outputs": [
    {
     "name": "stdout",
     "output_type": "stream",
     "text": [
      "{1, 2, 3}\n",
      "{1, 2, 3, 4}\n"
     ]
    }
   ],
   "source": [
    "# 1. Add Element to a Set\n",
    "s={1, 2, 3}\n",
    "print(s)\n",
    "s.add(4)\n",
    "print(s)"
   ]
  },
  {
   "cell_type": "code",
   "execution_count": null,
   "id": "5a053d2d",
   "metadata": {},
   "outputs": [
    {
     "name": "stdout",
     "output_type": "stream",
     "text": [
      "{1, 2, 3}\n",
      "{1, 2}\n"
     ]
    }
   ],
   "source": [
    "# 2. Remove Element from Set\n",
    "s={1, 2, 3}\n",
    "print(s)\n",
    "s.remove(3)\n",
    "# s.discard(3)\n",
    "print(s)"
   ]
  },
  {
   "cell_type": "code",
   "execution_count": 9,
   "id": "a6adcd6a",
   "metadata": {},
   "outputs": [
    {
     "name": "stdout",
     "output_type": "stream",
     "text": [
      "{1, 2} {2, 3}\n",
      "{1, 2, 3}\n"
     ]
    }
   ],
   "source": [
    "# 3. Union of Two Sets\n",
    "s1={1, 2}\n",
    "s2={2, 3}\n",
    "print(s1,s2)\n",
    "# print(s1|s2)\n",
    "print(s1.union(s2))"
   ]
  },
  {
   "cell_type": "code",
   "execution_count": 2,
   "id": "26989204",
   "metadata": {},
   "outputs": [
    {
     "name": "stdout",
     "output_type": "stream",
     "text": [
      "{1, 2} {2, 3}\n",
      "{2}\n"
     ]
    }
   ],
   "source": [
    "# 4. Intersection of Sets\n",
    "s1={1, 2}\n",
    "s2={2, 3}\n",
    "print(s1,s2)\n",
    "# print(s1&s2)\n",
    "print(s1.intersection(s2))"
   ]
  },
  {
   "cell_type": "code",
   "execution_count": 8,
   "id": "2d6b2c40",
   "metadata": {},
   "outputs": [
    {
     "name": "stdout",
     "output_type": "stream",
     "text": [
      "{1, 2, 3} {2, 3}\n",
      "{1}\n"
     ]
    }
   ],
   "source": [
    "# 5. Difference of Sets\n",
    "s1={1, 2, 3}\n",
    "s2={2, 3}\n",
    "print(s1,s2)\n",
    "# print(s1-s2)\n",
    "print(s1.difference(s2))"
   ]
  },
  {
   "cell_type": "code",
   "execution_count": 7,
   "id": "f6ffb663",
   "metadata": {},
   "outputs": [
    {
     "name": "stdout",
     "output_type": "stream",
     "text": [
      "{1, 2} {1, 2, 3}\n",
      "True\n"
     ]
    }
   ],
   "source": [
    "# 6. Check Subset\n",
    "s1={1, 2}\n",
    "s2={1, 2, 3}\n",
    "print(s1,s2)\n",
    "print(s1.issubset(s2))"
   ]
  },
  {
   "cell_type": "code",
   "execution_count": 9,
   "id": "51ba3768",
   "metadata": {},
   "outputs": [
    {
     "name": "stdout",
     "output_type": "stream",
     "text": [
      "{1, 2, 3}\n",
      "3\n"
     ]
    }
   ],
   "source": [
    "# 7. Set Length\n",
    "s={1, 2, 3}\n",
    "print(s)\n",
    "print(len(s))"
   ]
  },
  {
   "cell_type": "code",
   "execution_count": 10,
   "id": "fb26fb27",
   "metadata": {},
   "outputs": [
    {
     "name": "stdout",
     "output_type": "stream",
     "text": [
      "{1, 2, 3}\n",
      "set()\n"
     ]
    }
   ],
   "source": [
    "# 8. Clear a Set\n",
    "s={1, 2, 3}\n",
    "print(s)\n",
    "s.clear()\n",
    "print(s)"
   ]
  },
  {
   "cell_type": "code",
   "execution_count": 13,
   "id": "b9e77c61",
   "metadata": {},
   "outputs": [
    {
     "name": "stdout",
     "output_type": "stream",
     "text": [
      "{1, 2, 3} {2, 3, 4}\n",
      "{1, 4}\n"
     ]
    }
   ],
   "source": [
    "# 9. Symmetric Difference\n",
    "s1={1, 2, 3}\n",
    "s2={2, 3, 4}\n",
    "print(s1,s2)\n",
    "# print(s1^s2)\n",
    "print(s1.symmetric_difference(s2))"
   ]
  },
  {
   "cell_type": "code",
   "execution_count": 15,
   "id": "b9a3fc31",
   "metadata": {},
   "outputs": [
    {
     "name": "stdout",
     "output_type": "stream",
     "text": [
      "[1, 2, 2, 3]\n",
      "{1, 2, 3}\n"
     ]
    }
   ],
   "source": [
    "# 10. Convert List to Set\n",
    "l=[1, 2, 2, 3]\n",
    "print(l)\n",
    "print(set(l))"
   ]
  },
  {
   "cell_type": "markdown",
   "id": "f757663b",
   "metadata": {},
   "source": [
    "Dictionary-Based Questions"
   ]
  },
  {
   "cell_type": "code",
   "execution_count": 23,
   "id": "a624af82",
   "metadata": {},
   "outputs": [
    {
     "name": "stdout",
     "output_type": "stream",
     "text": [
      "{'a': 1, 'b': 2}\n"
     ]
    }
   ],
   "source": [
    "# 11. Create a Dictionary from Two Lists\n",
    "l1=[\"a\", \"b\"]\n",
    "l2=[1, 2]\n",
    "print(dict(zip(l1,l2)))"
   ]
  },
  {
   "cell_type": "code",
   "execution_count": 21,
   "id": "b27b412e",
   "metadata": {},
   "outputs": [
    {
     "name": "stdout",
     "output_type": "stream",
     "text": [
      "{'a': 1}\n",
      "{'a': 2}\n"
     ]
    }
   ],
   "source": [
    "# 12. Update Dictionary Value\n",
    "d={\"a\": 1}\n",
    "print(d)\n",
    "d[\"a\"]=2\n",
    "print(d)"
   ]
  },
  {
   "cell_type": "code",
   "execution_count": 30,
   "id": "1041abfc",
   "metadata": {},
   "outputs": [
    {
     "name": "stdout",
     "output_type": "stream",
     "text": [
      "{'a': 1, 'b': 2}\n",
      "{'a': 1}\n"
     ]
    }
   ],
   "source": [
    "# 13. Remove Key from Dictionary\n",
    "d={\"a\": 1, \"b\": 2}\n",
    "print(d)\n",
    "d.pop('b')\n",
    "print(d)"
   ]
  },
  {
   "cell_type": "code",
   "execution_count": 32,
   "id": "41da3cf6",
   "metadata": {},
   "outputs": [
    {
     "name": "stdout",
     "output_type": "stream",
     "text": [
      "{'x': 1}\n",
      "True\n"
     ]
    }
   ],
   "source": [
    "# 14. Check Key Existence\n",
    "d={\"x\": 1}\n",
    "print(d)\n",
    "print(\"x\" in d)"
   ]
  },
  {
   "cell_type": "code",
   "execution_count": 34,
   "id": "dfb9e11a",
   "metadata": {},
   "outputs": [
    {
     "name": "stdout",
     "output_type": "stream",
     "text": [
      "{'a': 10, 'b': 20}\n",
      "a 10 b 20 "
     ]
    }
   ],
   "source": [
    "# 15. Iterate Over Dictionary\n",
    "d={\"a\": 10, \"b\": 20}\n",
    "print(d)\n",
    "for i,j in d.items():\n",
    "    print(i,j,end=' ')"
   ]
  },
  {
   "cell_type": "code",
   "execution_count": 36,
   "id": "a6398b78",
   "metadata": {},
   "outputs": [
    {
     "name": "stdout",
     "output_type": "stream",
     "text": [
      "{'x': 1, 'y': 2}\n",
      "2\n"
     ]
    }
   ],
   "source": [
    "# 16. Dictionary Length\n",
    "d={\"x\": 1, \"y\": 2}\n",
    "print(d)\n",
    "print(len(d))"
   ]
  },
  {
   "cell_type": "code",
   "execution_count": 51,
   "id": "8761c93e",
   "metadata": {},
   "outputs": [
    {
     "name": "stdout",
     "output_type": "stream",
     "text": [
      "{'a': 1} {'b': 2}\n",
      "{'a': 1, 'b': 2}\n"
     ]
    }
   ],
   "source": [
    "# 17. Merge Two Dictionaries\n",
    "d1={\"a\": 1}\n",
    "d2={\"b\": 2}\n",
    "print(d1,d2)\n",
    "# d1.update(d2)\n",
    "# print(d1)\n",
    "# print({**d1,**d2})\n",
    "print(d1|d2)"
   ]
  },
  {
   "cell_type": "code",
   "execution_count": 59,
   "id": "278da325",
   "metadata": {},
   "outputs": [
    {
     "name": "stdout",
     "output_type": "stream",
     "text": [
      "{'a': 1}\n",
      "0\n"
     ]
    }
   ],
   "source": [
    "# 18. Get Value with Default\n",
    "d={\"a\": 1}\n",
    "print(d)\n",
    "print(d.get('b',0))"
   ]
  },
  {
   "cell_type": "code",
   "execution_count": 102,
   "id": "ee6f390f",
   "metadata": {},
   "outputs": [
    {
     "name": "stdout",
     "output_type": "stream",
     "text": [
      "[1, 2, 2, 3]\n",
      "{1: 1, 2: 2, 3: 1}\n"
     ]
    }
   ],
   "source": [
    "# 19. Count Frequency of Elements\n",
    "l=[1, 2, 2, 3]\n",
    "print(l)\n",
    "print({i:l.count(i) for i in l})\n",
    "# print({i:d.get(i,0)+1 for i in l})"
   ]
  },
  {
   "cell_type": "code",
   "execution_count": 100,
   "id": "55a051a1",
   "metadata": {},
   "outputs": [
    {
     "name": "stdout",
     "output_type": "stream",
     "text": [
      "{'a': 1, 'b': 2}\n",
      "{1: 'a', 2: 'b'}\n"
     ]
    }
   ],
   "source": [
    "# 20. Invert a Dictionary\n",
    "d={\"a\": 1, \"b\": 2}\n",
    "print(d)\n",
    "d1={}\n",
    "for i,j in d.items():\n",
    "    d1[j]=i\n",
    "print(d1)"
   ]
  },
  {
   "cell_type": "code",
   "execution_count": 107,
   "id": "91a7a920",
   "metadata": {},
   "outputs": [
    {
     "name": "stdout",
     "output_type": "stream",
     "text": [
      "{'a': 10, 'b': 20, 'c': 15}\n",
      "b\n"
     ]
    }
   ],
   "source": [
    "# 21. Find Key with Maximum Value\n",
    "d={\"a\": 10, \"b\": 20, \"c\": 15}\n",
    "print(d)\n",
    "max=0\n",
    "a=''\n",
    "for i,j in d.items():\n",
    "    if j>max:\n",
    "       a, max=i, j\n",
    "print(a)"
   ]
  },
  {
   "cell_type": "code",
   "execution_count": 207,
   "id": "10d3ea29",
   "metadata": {},
   "outputs": [
    {
     "name": "stdout",
     "output_type": "stream",
     "text": [
      "{'a': 3, 'b': 1, 'c': 2}\n",
      "{'b': 1, 'c': 2, 'a': 3}\n"
     ]
    }
   ],
   "source": [
    "# 22. Sort Dictionary by Values\n",
    "d={\"a\": 3, \"b\": 1, \"c\": 2}\n",
    "print(d)\n",
    "print(dict(sorted(d.items(),key=lambda x:x[1])))"
   ]
  },
  {
   "cell_type": "code",
   "execution_count": 116,
   "id": "dd96fd11",
   "metadata": {},
   "outputs": [
    {
     "name": "stdout",
     "output_type": "stream",
     "text": [
      "1 4\n",
      "{1: 1, 2: 4, 3: 9, 4: 16}\n"
     ]
    }
   ],
   "source": [
    "# 23. Create Dictionary of Squares\n",
    "m,n=map(int,input().split())\n",
    "print(m,n)\n",
    "d={}\n",
    "for i in range(m,n+1):\n",
    "    d[i]=i**2\n",
    "print(d)"
   ]
  },
  {
   "cell_type": "code",
   "execution_count": 139,
   "id": "56dc34a4",
   "metadata": {},
   "outputs": [
    {
     "name": "stdout",
     "output_type": "stream",
     "text": [
      "{'a': 10, 'b': 5, 'c': 15}\n",
      "10\n",
      "{'c': 15}\n"
     ]
    }
   ],
   "source": [
    "# 24. Filter Dictionary by Value Condition\n",
    "d={\"a\": 10, \"b\": 5, \"c\": 15}\n",
    "print(d)\n",
    "k=int(input())\n",
    "print(k)\n",
    "d1={}\n",
    "for i,j in d.items():\n",
    "    if j>k:\n",
    "        d1[i]=j\n",
    "print(d1)"
   ]
  },
  {
   "cell_type": "code",
   "execution_count": 138,
   "id": "23f59df7",
   "metadata": {},
   "outputs": [
    {
     "name": "stdout",
     "output_type": "stream",
     "text": [
      "{'a': 1, 'b': 2} {'a': 3, 'c': 4}\n",
      "{'a': 4, 'b': 2, 'c': 4}\n"
     ]
    }
   ],
   "source": [
    "# 25. Combine Values of Duplicate Keys\n",
    "d1={\"a\": 1, \"b\": 2}\n",
    "d2={\"a\": 3, \"c\": 4}\n",
    "print(d1,d2)\n",
    "d={}\n",
    "for i,j in d1.items():\n",
    "    d[i]=d.get(i,0)+j\n",
    "for i,j in d2.items():\n",
    "    d[i]=d.get(i,0)+j\n",
    "print(d)"
   ]
  },
  {
   "cell_type": "code",
   "execution_count": 137,
   "id": "79fcd183",
   "metadata": {},
   "outputs": [
    {
     "name": "stdout",
     "output_type": "stream",
     "text": [
      "{'apple': 2, 'banana': 1}\n"
     ]
    }
   ],
   "source": [
    "# 26. Count Word Frequency in Sentence\n",
    "s=\"apple banana apple\".split()\n",
    "d={}\n",
    "for i in s:\n",
    "    d[i]=d.get(i,0)+1\n",
    "print(d)"
   ]
  },
  {
   "cell_type": "code",
   "execution_count": 211,
   "id": "df082361",
   "metadata": {},
   "outputs": [
    {
     "name": "stdout",
     "output_type": "stream",
     "text": [
      "{'a': 1, 'b': 2, 'c': 1}\n",
      "{'a': 1, 'b': 2}\n"
     ]
    }
   ],
   "source": [
    "# 27. Remove Duplicate Values from Dictionary\n",
    "d={\"a\": 1, \"b\": 2, \"c\": 1}\n",
    "print(d)\n",
    "res={}\n",
    "for i,j in d.items():\n",
    "    if j not in res.values():\n",
    "        res[i]=j\n",
    "print(res)"
   ]
  },
  {
   "cell_type": "code",
   "execution_count": 208,
   "id": "5534cbc8",
   "metadata": {},
   "outputs": [
    {
     "name": "stdout",
     "output_type": "stream",
     "text": [
      "{'a': 1, 'b': 2} {'b': 3, 'c': 4}\n",
      "['b']\n"
     ]
    }
   ],
   "source": [
    "# 28. Find Common Keys in Two Dictionaries\n",
    "d1={\"a\": 1, \"b\": 2}\n",
    "d2={\"b\": 3, \"c\": 4}\n",
    "print(d1,d2)\n",
    "for i,j in d1.items():\n",
    "    if i in d2:\n",
    "        print([i])"
   ]
  },
  {
   "cell_type": "code",
   "execution_count": 213,
   "id": "e040af34",
   "metadata": {},
   "outputs": [
    {
     "name": "stdout",
     "output_type": "stream",
     "text": [
      "{'x': 1, 'y': 2}\n",
      "{1: 'x', 2: 'y'}\n"
     ]
    }
   ],
   "source": [
    "# 29. Swap Keys and Values Safely\n",
    "d={\"x\": 1, \"y\": 2}\n",
    "print(d)\n",
    "res={}\n",
    "for i,j in d.items():\n",
    "    res[j]=i\n",
    "print(res)"
   ]
  },
  {
   "cell_type": "code",
   "execution_count": 212,
   "id": "4fd61380",
   "metadata": {},
   "outputs": [
    {
     "name": "stdout",
     "output_type": "stream",
     "text": [
      "{'a': 1, 'b': 2, 'c': 1}\n",
      "1\n",
      "{'b': 2}\n"
     ]
    }
   ],
   "source": [
    "# 30. Delete Items by Value\n",
    "d={\"a\": 1, \"b\": 2, \"c\": 1}\n",
    "print(d)\n",
    "n=int(input())\n",
    "print(n)\n",
    "d1={}\n",
    "for i,j in d.items():\n",
    "    if n!=j:\n",
    "        d1[i]=j\n",
    "print(d1)\n",
    "# for i in list(d.keys()):\n",
    "#     if d[i]==j:\n",
    "#         del d[i]\n",
    "# print(d)\n",
    "\n",
    "# print({i:j for i,j in d.items() if n!=j })"
   ]
  }
 ],
 "metadata": {
  "kernelspec": {
   "display_name": "base",
   "language": "python",
   "name": "python3"
  },
  "language_info": {
   "codemirror_mode": {
    "name": "ipython",
    "version": 3
   },
   "file_extension": ".py",
   "mimetype": "text/x-python",
   "name": "python",
   "nbconvert_exporter": "python",
   "pygments_lexer": "ipython3",
   "version": "3.11.5"
  }
 },
 "nbformat": 4,
 "nbformat_minor": 5
}
