{
 "cells": [
  {
   "cell_type": "code",
   "execution_count": null,
   "id": "6754bb2f",
   "metadata": {},
   "outputs": [
    {
     "name": "stdout",
     "output_type": "stream",
     "text": [
      "[1, 2, 3]\n",
      "4\n",
      "[1, 2, 3, 4]\n"
     ]
    }
   ],
   "source": [
    "# 1. Add an Element to a List\n",
    "def add_ele(l,e):\n",
    "    l.append(e)\n",
    "    print(l)\n",
    "l=list(map(int,input().split()))\n",
    "e=int(input())\n",
    "print(f\"{l}\\n{e}\")\n",
    "add_ele(l,e)"
   ]
  },
  {
   "cell_type": "code",
   "execution_count": null,
   "id": "9132e0b9",
   "metadata": {},
   "outputs": [
    {
     "name": "stdout",
     "output_type": "stream",
     "text": [
      "[1, 2, 3, 4]\n",
      "3\n",
      "[1, 2, 4]\n"
     ]
    }
   ],
   "source": [
    "# 2. Remove an Element from a List\n",
    "def add_ele(l,e):\n",
    "    l.remove(e)\n",
    "    # l.pop(2)\n",
    "    print(l)\n",
    "l=list(map(int,input().split()))\n",
    "e=int(input())\n",
    "print(f\"{l}\\n{e}\")\n",
    "add_ele(l,e)"
   ]
  },
  {
   "cell_type": "code",
   "execution_count": null,
   "id": "dbed0d66",
   "metadata": {},
   "outputs": [
    {
     "name": "stdout",
     "output_type": "stream",
     "text": [
      "[4, 7, 1, 9]\n",
      "9\n"
     ]
    }
   ],
   "source": [
    "# 3. Find Maximum in List\n",
    "l=[4, 7, 1, 9]\n",
    "print(l)\n",
    "print(max(l))"
   ]
  },
  {
   "cell_type": "code",
   "execution_count": null,
   "id": "c4eb2f07",
   "metadata": {},
   "outputs": [
    {
     "name": "stdout",
     "output_type": "stream",
     "text": [
      "[4, 7, 1, 9]\n",
      "1\n"
     ]
    }
   ],
   "source": [
    "# 4. Find Minimum in List\n",
    "l=[4, 7, 1, 9]\n",
    "print(l)\n",
    "print(min(l))"
   ]
  },
  {
   "cell_type": "code",
   "execution_count": null,
   "id": "a6a6ca82",
   "metadata": {},
   "outputs": [
    {
     "name": "stdout",
     "output_type": "stream",
     "text": [
      "[1, 2, 3]\n",
      "6\n"
     ]
    }
   ],
   "source": [
    "# 5. Sum of All Elements in List\n",
    "l=[1,2,3]\n",
    "print(l)\n",
    "print(sum(l))"
   ]
  },
  {
   "cell_type": "code",
   "execution_count": null,
   "id": "9e4f9656",
   "metadata": {},
   "outputs": [
    {
     "name": "stdout",
     "output_type": "stream",
     "text": [
      "[1, 2, 2, 3, 2]\n",
      "3\n"
     ]
    }
   ],
   "source": [
    "# 6. Count Occurrence of an Element\n",
    "l=[1, 2, 2, 3, 2]\n",
    "print(l)\n",
    "i=int(input(\"Enter Nuber to search\"))\n",
    "print(l.count(i))"
   ]
  },
  {
   "cell_type": "code",
   "execution_count": null,
   "id": "8d520005",
   "metadata": {},
   "outputs": [
    {
     "name": "stdout",
     "output_type": "stream",
     "text": [
      "[3, 2, 1]\n"
     ]
    }
   ],
   "source": [
    "# 7. Reverse a List\n",
    "l=[1,2,3]\n",
    "print(l[::-1])\n",
    "# l.reverse()\n",
    "# print(l)"
   ]
  },
  {
   "cell_type": "code",
   "execution_count": null,
   "id": "6c9552d6",
   "metadata": {},
   "outputs": [
    {
     "name": "stdout",
     "output_type": "stream",
     "text": [
      "[1, 2, 3, 4]\n"
     ]
    }
   ],
   "source": [
    "# 8. Sort a List\n",
    "l=[4, 1, 3, 2]\n",
    "print(sorted(l))\n",
    "# l.sort()\n",
    "# print(l)"
   ]
  },
  {
   "cell_type": "code",
   "execution_count": null,
   "id": "03316a4d",
   "metadata": {},
   "outputs": [
    {
     "name": "stdout",
     "output_type": "stream",
     "text": [
      "[1, 2, 3]\n"
     ]
    }
   ],
   "source": [
    "# 9. Remove Duplicates from a List\n",
    "l=[1, 2, 2, 3]\n",
    "# print(set(l1))\n",
    "res=[]\n",
    "for i in l:\n",
    "    if i not in res:\n",
    "        res.append(i)\n",
    "print(res)"
   ]
  },
  {
   "cell_type": "code",
   "execution_count": null,
   "id": "0925f6c9",
   "metadata": {},
   "outputs": [
    {
     "name": "stdout",
     "output_type": "stream",
     "text": [
      "[1, 2, 3, 4]\n"
     ]
    }
   ],
   "source": [
    "# 10. Merge Two Lists\n",
    "l1,l2=[1, 2],[3, 4]\n",
    "print(l1+l2)\n",
    "# l1.extend(l2)\n",
    "# print(l1)"
   ]
  },
  {
   "cell_type": "code",
   "execution_count": null,
   "id": "449b1b6c",
   "metadata": {},
   "outputs": [
    {
     "name": "stdout",
     "output_type": "stream",
     "text": [
      "[2, 3]\n"
     ]
    }
   ],
   "source": [
    "# 11. Find Common Elements in Two Lists\n",
    "l1,l2=[1, 2, 3], [2, 3, 4]\n",
    "# print(set(l1)&set(l2))\n",
    "res=[]\n",
    "for i in l1:\n",
    "    if i in l2:\n",
    "        res.append(i)\n",
    "print(res)"
   ]
  },
  {
   "cell_type": "code",
   "execution_count": null,
   "id": "efdbab6f",
   "metadata": {},
   "outputs": [
    {
     "name": "stdout",
     "output_type": "stream",
     "text": [
      "[2, 4]\n"
     ]
    }
   ],
   "source": [
    "# 12. Print Even Numbers in a List\n",
    "l=[1, 2, 3, 4]\n",
    "res=[]\n",
    "for i in l:\n",
    "    # if i%2==0:\n",
    "    if i&1==0:\n",
    "        res.append(i)\n",
    "print(res)"
   ]
  },
  {
   "cell_type": "code",
   "execution_count": null,
   "id": "acd88752",
   "metadata": {},
   "outputs": [
    {
     "name": "stdout",
     "output_type": "stream",
     "text": [
      "[1, 3]\n"
     ]
    }
   ],
   "source": [
    "# 13. Print Odd Numbers in a List\n",
    "l=[1, 2, 3, 4]\n",
    "res=[]\n",
    "for i in l:\n",
    "    # if i%2!=0:\n",
    "    if i&1!=0:\n",
    "        res.append(i)\n",
    "print(res)"
   ]
  },
  {
   "cell_type": "code",
   "execution_count": null,
   "id": "7dc89bbd",
   "metadata": {},
   "outputs": [
    {
     "name": "stdout",
     "output_type": "stream",
     "text": [
      "True\n"
     ]
    }
   ],
   "source": [
    "# 14. Check if List is Palindrome\n",
    "l=[1, 2, 1]\n",
    "print(l==l[::-1])"
   ]
  },
  {
   "cell_type": "code",
   "execution_count": 60,
   "id": "158130f5",
   "metadata": {},
   "outputs": [
    {
     "name": "stdout",
     "output_type": "stream",
     "text": [
      "Positive: 2, Negative: 2, Zero: 1\n"
     ]
    }
   ],
   "source": [
    "# 15. Count Positive, Negative, Zero\n",
    "l=[0, -1, 2, -3, 4]\n",
    "p=n=z=0\n",
    "for i in l:\n",
    "    if i==0:\n",
    "        z+=1\n",
    "    elif i>0:\n",
    "        p+=1\n",
    "    else:\n",
    "        n+=1\n",
    "print(f\"Positive: {p}, Negative: {n}, Zero: {z}\")"
   ]
  },
  {
   "cell_type": "code",
   "execution_count": null,
   "id": "aa0b2dba",
   "metadata": {},
   "outputs": [
    {
     "name": "stdout",
     "output_type": "stream",
     "text": [
      "[1, 3, 4, 5, 0]\n",
      "4\n"
     ]
    }
   ],
   "source": [
    "# 16. Find Second Largest Number in List\n",
    "l=[1, 3, 4, 5, 0]\n",
    "print(l)\n",
    "l.sort()\n",
    "print(l[-2])\n",
    "# lar=sel=0\n",
    "# for i in l:\n",
    "#     if i>lar:\n",
    "#         sel=lar\n",
    "#         lar=i\n",
    "# print(sel)"
   ]
  },
  {
   "cell_type": "code",
   "execution_count": 83,
   "id": "c955b977",
   "metadata": {},
   "outputs": [
    {
     "name": "stdout",
     "output_type": "stream",
     "text": [
      "[5, 1, 4, 2, 3]\n",
      "2\n"
     ]
    }
   ],
   "source": [
    "# 17. Find Second Smallest Number in List\n",
    "l=[5, 1, 4, 2, 3]\n",
    "print(l)\n",
    "l.sort()\n",
    "print(l[1])"
   ]
  },
  {
   "cell_type": "code",
   "execution_count": 107,
   "id": "39874dee",
   "metadata": {},
   "outputs": [
    {
     "name": "stdout",
     "output_type": "stream",
     "text": [
      "[1, 2, 3]\n"
     ]
    }
   ],
   "source": [
    "# 18. Copy List to Another List\n",
    "l1=[1, 2, 3]\n",
    "l2=l1[::]\n",
    "# l2=[i for i  in l1]\n",
    "# l2=l1.copy()\n",
    "print(l2)"
   ]
  },
  {
   "cell_type": "code",
   "execution_count": null,
   "id": "1716806a",
   "metadata": {},
   "outputs": [
    {
     "name": "stdout",
     "output_type": "stream",
     "text": [
      "[2, 3, 5]\n"
     ]
    }
   ],
   "source": [
    "# 19. Print All Prime Numbers in List\n",
    "l=[1, 2, 3, 4, 5]\n",
    "print([i for i in l if i>1 and all(i%j!=0 for j in range(2,i))])"
   ]
  },
  {
   "cell_type": "code",
   "execution_count": null,
   "id": "8414723c",
   "metadata": {},
   "outputs": [
    {
     "name": "stdout",
     "output_type": "stream",
     "text": [
      "[0, 2, 0, 4]\n",
      "[-1, 2, -1, 4]\n"
     ]
    }
   ],
   "source": [
    "# 20. Replace All Zeroes with a Given Number\n",
    "l=[0, 2, 0, 4]\n",
    "print(l)\n",
    "res=[]\n",
    "n=int(input())\n",
    "for i in l:\n",
    "    if i==0:\n",
    "        res.append(n)\n",
    "    else:\n",
    "        res.append(i)\n",
    "print(res)"
   ]
  },
  {
   "cell_type": "code",
   "execution_count": null,
   "id": "7305e223",
   "metadata": {},
   "outputs": [
    {
     "name": "stdout",
     "output_type": "stream",
     "text": [
      "True\n"
     ]
    }
   ],
   "source": [
    "# 21. Check if All Elements Are Same\n",
    "l=[5, 5, 5, 5]\n",
    "print(len(set(l))==1)\n",
    "# print(all(i==l[0] for i in l))\n",
    "# res=True\n",
    "# for i in l:\n",
    "#     if l[0]!=i:\n",
    "#         res=False\n",
    "#         break\n",
    "# print(res)"
   ]
  },
  {
   "cell_type": "code",
   "execution_count": 83,
   "id": "8b85de1c",
   "metadata": {},
   "outputs": [
    {
     "name": "stdout",
     "output_type": "stream",
     "text": [
      "[1, 2, 2, 3, 1]\n",
      "{1: 2, 2: 2, 3: 1}\n"
     ]
    }
   ],
   "source": [
    "# 22. Find Frequency of All Elements\n",
    "l=[1, 2, 2, 3, 1]\n",
    "print(l)\n",
    "d={}\n",
    "for i in l:\n",
    "    # d[i]=d.get(i,0)+1\n",
    "    d[i]=l.count(i)\n",
    "print(d)"
   ]
  },
  {
   "cell_type": "code",
   "execution_count": null,
   "id": "5f89763d",
   "metadata": {},
   "outputs": [
    {
     "name": "stdout",
     "output_type": "stream",
     "text": [
      "[[1, 2], [3, 4]]\n",
      "[1, 2, 3, 4]\n"
     ]
    }
   ],
   "source": [
    "# 23. Flatten a Nested List\n",
    "l=[[1, 2], [3, 4]]\n",
    "print(l)\n",
    "print([j for i in l  for j in i])\n",
    "# res=[]\n",
    "# for i in l:\n",
    "#     for j in i:\n",
    "#         res.append(j)\n",
    "# print(res)"
   ]
  },
  {
   "cell_type": "code",
   "execution_count": 68,
   "id": "09881d6e",
   "metadata": {},
   "outputs": [
    {
     "name": "stdout",
     "output_type": "stream",
     "text": [
      "[1, 2, 3, 4, 5]\n",
      "Even: [2, 4]\n",
      "Odd: [1, 3, 5]\n"
     ]
    }
   ],
   "source": [
    "# 24. Split a List into Even and Odd Lists\n",
    "l=[1, 2, 3, 4, 5]\n",
    "print(l)\n",
    "e=[]\n",
    "o=[]\n",
    "for i in l:\n",
    "    if i&1==0:\n",
    "        e.append(i)\n",
    "    else:\n",
    "        o.append(i)\n",
    "print(f\"Even: {e}\\nOdd: {o}\")"
   ]
  },
  {
   "cell_type": "code",
   "execution_count": 94,
   "id": "26d9641e",
   "metadata": {},
   "outputs": [
    {
     "name": "stdout",
     "output_type": "stream",
     "text": [
      "[(1, 4), (2, 3)]\n"
     ]
    }
   ],
   "source": [
    "# 25. Find Pair of Elements with Given Sum\n",
    "l=[1, 2, 3, 4]\n",
    "n=int(input())\n",
    "res=[]\n",
    "for i in range(len(l)):\n",
    "    for j in range(i+1,len(l)):\n",
    "        if l[i]+l[j]==n:\n",
    "            res.append((l[i],l[j]))\n",
    "print(res)"
   ]
  },
  {
   "cell_type": "code",
   "execution_count": null,
   "id": "f7868b1b",
   "metadata": {},
   "outputs": [
    {
     "name": "stdout",
     "output_type": "stream",
     "text": [
      "[1, 2, 3, 4, 5]\n",
      "[2, 4]\n"
     ]
    }
   ],
   "source": [
    "# 26. Remove All Odd Numbers\n",
    "l=[1, 2, 3, 4, 5]\n",
    "print(l)\n",
    "print([i for i in l if i%2==0])"
   ]
  },
  {
   "cell_type": "code",
   "execution_count": null,
   "id": "8dce7c82",
   "metadata": {},
   "outputs": [
    {
     "name": "stdout",
     "output_type": "stream",
     "text": [
      "[1, 2, 3, 4, 5]\n",
      "[1, 3, 5]\n"
     ]
    }
   ],
   "source": [
    "# 27. Remove All Even Numbers\n",
    "l=[1, 2, 3, 4, 5]\n",
    "print(l)\n",
    "print([i for i in l if i%2!=0])"
   ]
  },
  {
   "cell_type": "code",
   "execution_count": null,
   "id": "2381254a",
   "metadata": {},
   "outputs": [
    {
     "name": "stdout",
     "output_type": "stream",
     "text": [
      "[1, 2, 3]\n",
      "[2, 4, 6]\n"
     ]
    }
   ],
   "source": [
    "# 28. Multiply All Elements by a Number\n",
    "l=[1, 2, 3]\n",
    "print(l)\n",
    "n=int(input())\n",
    "print([i*n for i in l])"
   ]
  },
  {
   "cell_type": "code",
   "execution_count": 64,
   "id": "67061069",
   "metadata": {},
   "outputs": [
    {
     "name": "stdout",
     "output_type": "stream",
     "text": [
      "[4, 2, 7, 1]\n",
      "6\n"
     ]
    }
   ],
   "source": [
    "# 29. Find Difference Between Max and Min\n",
    "l=[4, 2, 7, 1]\n",
    "print(l)\n",
    "print(max(l)-min(l))"
   ]
  },
  {
   "cell_type": "code",
   "execution_count": 63,
   "id": "0e29289a",
   "metadata": {},
   "outputs": [
    {
     "name": "stdout",
     "output_type": "stream",
     "text": [
      "[]\n"
     ]
    },
    {
     "data": {
      "text/plain": [
       "True"
      ]
     },
     "execution_count": 63,
     "metadata": {},
     "output_type": "execute_result"
    }
   ],
   "source": [
    "# 30. Check if a List is Empty\n",
    "l=[]\n",
    "print(l)\n",
    "def empty(l):\n",
    "    if len(l)==0:\n",
    "        return True\n",
    "    return False\n",
    "empty(l)"
   ]
  },
  {
   "cell_type": "code",
   "execution_count": null,
   "id": "df46143b",
   "metadata": {},
   "outputs": [
    {
     "name": "stdout",
     "output_type": "stream",
     "text": [
      "[1, 2, 4]\n",
      "[1, 2, 3, 4]\n"
     ]
    }
   ],
   "source": [
    "# 31. Insert Element at Specific Index\n",
    "l=[1, 2, 4]\n",
    "print(l)\n",
    "value,index=map(int,input(\"Enter value and index\").split())\n",
    "l.insert(index,value)\n",
    "print(l)"
   ]
  },
  {
   "cell_type": "code",
   "execution_count": 24,
   "id": "7668fab0",
   "metadata": {},
   "outputs": [
    {
     "name": "stdout",
     "output_type": "stream",
     "text": [
      "[1, 2, 2, 3]\n",
      "[1, 3]\n"
     ]
    }
   ],
   "source": [
    "# 32. Remove All Instances of a Value\n",
    "l=[1, 2, 2, 3]\n",
    "print(l)\n",
    "n=int(input())\n",
    "print([i for i in l if i!=n])"
   ]
  },
  {
   "cell_type": "code",
   "execution_count": 17,
   "id": "3d2ba01d",
   "metadata": {},
   "outputs": [
    {
     "name": "stdout",
     "output_type": "stream",
     "text": [
      "[10, 20, 30]\n",
      "20\n",
      "1\n"
     ]
    }
   ],
   "source": [
    "# 33. Get Index of an Element\n",
    "l=[10, 20, 30]\n",
    "print(l)\n",
    "n=int(input())\n",
    "print(n)\n",
    "for i in range(len(l)):\n",
    "    if l[i]==n:\n",
    "        print(i)"
   ]
  },
  {
   "cell_type": "code",
   "execution_count": 18,
   "id": "bd80b104",
   "metadata": {},
   "outputs": [
    {
     "name": "stdout",
     "output_type": "stream",
     "text": [
      "[1, 2, 3]\n",
      "[1, 4, 9]\n"
     ]
    }
   ],
   "source": [
    "# 34. Square All Elements in a List\n",
    "l=[1, 2, 3]\n",
    "print(l)\n",
    "print([i**2 for i in l])"
   ]
  },
  {
   "cell_type": "code",
   "execution_count": null,
   "id": "c8382691",
   "metadata": {},
   "outputs": [
    {
     "name": "stdout",
     "output_type": "stream",
     "text": [
      "[-1, 2, -3, 4]\n",
      "[2, 4]\n"
     ]
    }
   ],
   "source": [
    "# 35. Filter Out Negative Numbers\n",
    "l=[-1, 2, -3, 4]\n",
    "print(l)\n",
    "print([i for i in l if i>0])"
   ]
  },
  {
   "cell_type": "code",
   "execution_count": null,
   "id": "e04c0521",
   "metadata": {},
   "outputs": [
    {
     "name": "stdout",
     "output_type": "stream",
     "text": [
      "[1, 5, 8, 3]\n",
      "4\n",
      "[5, 8]\n"
     ]
    }
   ],
   "source": [
    "# 36. Get Elements Greater Than a Value\n",
    "l=[1, 5, 8, 3]\n",
    "print(l)\n",
    "n=int(input())\n",
    "print(n)\n",
    "print([i for i in l if i>n])"
   ]
  },
  {
   "cell_type": "code",
   "execution_count": null,
   "id": "3befa5dc",
   "metadata": {},
   "outputs": [
    {
     "name": "stdout",
     "output_type": "stream",
     "text": [
      "[2, 3]\n"
     ]
    }
   ],
   "source": [
    "# 37. Find Duplicates in List\n",
    "l=[1, 2, 2, 3, 3, 4]\n",
    "res=[]\n",
    "res1=[]\n",
    "for i in l:\n",
    "    if i not in res1:\n",
    "        res1.append(i)\n",
    "    else:\n",
    "         res.append(i)\n",
    "print(res)"
   ]
  },
  {
   "cell_type": "code",
   "execution_count": null,
   "id": "364b7650",
   "metadata": {},
   "outputs": [
    {
     "name": "stdout",
     "output_type": "stream",
     "text": [
      "[1, 2, 3, 4]\n",
      "2\n",
      "[3, 4, 1, 2]\n"
     ]
    }
   ],
   "source": [
    "# 38. Rotate List Elements Right\n",
    "l=[1, 2, 3, 4]\n",
    "print(l)\n",
    "k=int(input())\n",
    "print(k)\n",
    "print(l[k:]+l[:k])"
   ]
  },
  {
   "cell_type": "code",
   "execution_count": 101,
   "id": "9568ac4a",
   "metadata": {},
   "outputs": [
    {
     "name": "stdout",
     "output_type": "stream",
     "text": [
      "[1, 2, 3]\n",
      "2\n",
      "True\n"
     ]
    }
   ],
   "source": [
    "# 39. Check If List Contains a Value\n",
    "l=[1, 2, 3]\n",
    "print(l)\n",
    "n=int(input())\n",
    "print(n)\n",
    "print(n in l)"
   ]
  },
  {
   "cell_type": "code",
   "execution_count": null,
   "id": "3191ea01",
   "metadata": {},
   "outputs": [
    {
     "name": "stdout",
     "output_type": "stream",
     "text": [
      "[1, 2, 3, 4, 5, 6]\n",
      "2\n",
      "[[1, 2], [3, 4], [5, 6]]\n"
     ]
    }
   ],
   "source": [
    "# 40. Chunk List into Smaller Lists\n",
    "l=[1, 2, 3, 4, 5, 6]\n",
    "print(l)\n",
    "k=int(input())\n",
    "print(k)\n",
    "res=[]\n",
    "for i in range(0,len(l),k):\n",
    "    res.append(l[i:i+k])\n",
    "print(res)\n",
    "# print([l[i:i+k] for i in range(1,len(l),k)])\n"
   ]
  }
 ],
 "metadata": {
  "kernelspec": {
   "display_name": "base",
   "language": "python",
   "name": "python3"
  },
  "language_info": {
   "codemirror_mode": {
    "name": "ipython",
    "version": 3
   },
   "file_extension": ".py",
   "mimetype": "text/x-python",
   "name": "python",
   "nbconvert_exporter": "python",
   "pygments_lexer": "ipython3",
   "version": "3.11.5"
  }
 },
 "nbformat": 4,
 "nbformat_minor": 5
}
