{
 "cells": [
  {
   "cell_type": "code",
   "execution_count": 53,
   "id": "948117a4",
   "metadata": {},
   "outputs": [
    {
     "name": "stdout",
     "output_type": "stream",
     "text": [
      "True\n"
     ]
    }
   ],
   "source": [
    "# 1. Check if a Matrix is Square\n",
    "l=[[1,2,3],\n",
    "   [4,5,6],\n",
    "   [7,8,9]]\n",
    "# print(all (len(l)==len(i) for i in l))\n",
    "res=True\n",
    "for i in l:\n",
    "   if len(i)!=len(l):\n",
    "        res=False\n",
    "print(res)"
   ]
  },
  {
   "cell_type": "code",
   "execution_count": 1,
   "id": "df325acb",
   "metadata": {},
   "outputs": [
    {
     "name": "stdout",
     "output_type": "stream",
     "text": [
      "[1, 5, 9]\n"
     ]
    }
   ],
   "source": [
    "# 2. Print Diagonal Elements\n",
    "l=[[1,2,3],\n",
    "   [4,5,6],\n",
    "   [7,8,9]]\n",
    "res=[]\n",
    "for i in range(len(l)):\n",
    "    res.append(l[i][i])\n",
    "print(res)"
   ]
  },
  {
   "cell_type": "code",
   "execution_count": 54,
   "id": "e37839c5",
   "metadata": {},
   "outputs": [
    {
     "name": "stdout",
     "output_type": "stream",
     "text": [
      "[3, 5, 7]\n"
     ]
    }
   ],
   "source": [
    "# 3. Print Anti-Diagonal Elements\n",
    "l=[[1,2,3],\n",
    "   [4,5,6],\n",
    "   [7,8,9]]\n",
    "res=[]\n",
    "for i in range(len(l)):\n",
    "    res.append(l[i][2-i])\n",
    "print(res)"
   ]
  },
  {
   "cell_type": "code",
   "execution_count": 106,
   "id": "eb0b1d0e",
   "metadata": {},
   "outputs": [
    {
     "name": "stdout",
     "output_type": "stream",
     "text": [
      "2 3 4 6 7 8 "
     ]
    }
   ],
   "source": [
    "# 4. Print Non-Diagonal Elements\n",
    "l=[[1,2,3],\n",
    "   [4,5,6],\n",
    "   [7,8,9]]\n",
    "# res=[]\n",
    "# for i in range(len(l)):\n",
    "#     for j in range(len(l)):\n",
    "#         if i!=j:\n",
    "#             res.append(l[i][j])\n",
    "# print(res)\n",
    "\n",
    "for i in range(len(l)):\n",
    "    for j in range(len(l[i])):\n",
    "        if i!=j:\n",
    "            print(l[i][j],end=\" \")"
   ]
  },
  {
   "cell_type": "code",
   "execution_count": null,
   "id": "dafe7cd0",
   "metadata": {},
   "outputs": [
    {
     "name": "stdout",
     "output_type": "stream",
     "text": [
      "1 2 4 6 8 9 "
     ]
    }
   ],
   "source": [
    "# 5. Print Non-Anti-Diagonal Elements\n",
    "l=[[1,2,3],\n",
    "   [4,5,6],\n",
    "   [7,8,9]]\n",
    "# res=[]\n",
    "# for i in range(len(l)):\n",
    "#     for j in range(len(l)):\n",
    "#         if i!=j:\n",
    "#             res.append(l[i][len(l)-1-j])\n",
    "# print(res)\n",
    "for i in range(len(l)):\n",
    "    for j in range(len(l[i])):\n",
    "        if l[i][i]!=l[i][2-j]:\n",
    "            print(l[i][j],end=\" \")"
   ]
  },
  {
   "cell_type": "code",
   "execution_count": 112,
   "id": "62fad2e1",
   "metadata": {},
   "outputs": [
    {
     "name": "stdout",
     "output_type": "stream",
     "text": [
      "1 \n",
      "4 5 \n",
      "7 8 9 \n"
     ]
    }
   ],
   "source": [
    "# 6. Lower Triangle of Matrix\n",
    "# l= [[1, 2], \n",
    "#     [3, 4]]\n",
    "l=[[1,2,3],\n",
    "   [4,5,6],\n",
    "   [7,8,9]]\n",
    "for i in range(len(l)):\n",
    "    for j in range(i+1):\n",
    "        print(l[i][j],end=\" \")\n",
    "    print()"
   ]
  },
  {
   "cell_type": "code",
   "execution_count": 127,
   "id": "b8045967",
   "metadata": {},
   "outputs": [
    {
     "name": "stdout",
     "output_type": "stream",
     "text": [
      "1 2 3 \n",
      "  5 6 \n",
      "    9 \n"
     ]
    }
   ],
   "source": [
    "# 7. Upper Triangle of Matrix\n",
    "l=[[1,2,3],\n",
    "   [4,5,6],\n",
    "   [7,8,9]]\n",
    "for i in range(len(l)):\n",
    "    print(i*\"  \",end=\"\")\n",
    "    for j in range(i,len(l)):\n",
    "        print(l[i][j],end=\" \")\n",
    "    print()"
   ]
  },
  {
   "cell_type": "code",
   "execution_count": 142,
   "id": "9c30a408",
   "metadata": {},
   "outputs": [
    {
     "name": "stdout",
     "output_type": "stream",
     "text": [
      "[1, 4, 7]\n",
      "[2, 5, 8]\n",
      "[3, 6, 9]\n"
     ]
    }
   ],
   "source": [
    "# 8. Transpose of Matrix\n",
    "l=[[1,2,3],\n",
    "   [4,5,6],\n",
    "   [7,8,9]]\n",
    "res1=[]\n",
    "for i in range(len(l)):\n",
    "    res=[]\n",
    "    for j in range(len(l)):\n",
    "        res.append(l[j][i])\n",
    "    res1.append(res)\n",
    "for k in res1:\n",
    "    print(k)"
   ]
  },
  {
   "cell_type": "code",
   "execution_count": null,
   "id": "3e9563dd",
   "metadata": {},
   "outputs": [
    {
     "name": "stdout",
     "output_type": "stream",
     "text": [
      "True\n"
     ]
    }
   ],
   "source": [
    "# 9. Check if Diagonal Elements are Same\n",
    "l1=[[1,2,3],\n",
    "    [4,1,6],\n",
    "    [7,8,1]]\n",
    "# for i in range(len(l1)):\n",
    "#    if l1[i][i]!=l1[0][0]:\n",
    "#       print(\"NO\")\n",
    "#       break\n",
    "# else:\n",
    "#       print(\"yes\")\n",
    "res=True\n",
    "for i in range(len(l)):\n",
    "    if l1[i][i]!=l[0][0]:\n",
    "        res=False\n",
    "        break\n",
    "print(res)"
   ]
  },
  {
   "cell_type": "code",
   "execution_count": null,
   "id": "b5389d69",
   "metadata": {},
   "outputs": [
    {
     "name": "stdout",
     "output_type": "stream",
     "text": [
      "True\n"
     ]
    }
   ],
   "source": [
    "# 10. Check if Anti-Diagonal Elements are Same\n",
    "l1=[[1,2,1],\n",
    "    [4,1,6],\n",
    "    [1,8,1]]\n",
    "# for i in range(len(l1)):\n",
    "#    if l1[i][2-i]!=l1[0][2]:\n",
    "#       print(\"NO\")\n",
    "#       break\n",
    "# else:\n",
    "#       print(\"yes\")\n",
    "\n",
    "res=True\n",
    "for i in range(len(l1)):\n",
    "   if l1[i][2-i]!=l1[0][2]:\n",
    "        res=False\n",
    "print(res)"
   ]
  },
  {
   "cell_type": "code",
   "execution_count": 141,
   "id": "4c3399a2",
   "metadata": {},
   "outputs": [
    {
     "name": "stdout",
     "output_type": "stream",
     "text": [
      "[0, 2, 1]\n",
      "[4, 0, 6]\n",
      "[1, 8, 0]\n"
     ]
    }
   ],
   "source": [
    "# 11. Convert Diagonal Elements to Zero\n",
    "l1=[[1,2,1],\n",
    "    [4,1,6],\n",
    "    [1,8,1]]\n",
    "for i in range(len(l1)):\n",
    "    l1[i][i]=0\n",
    "for k in l1:\n",
    "    print(k)"
   ]
  },
  {
   "cell_type": "code",
   "execution_count": 140,
   "id": "b40daf00",
   "metadata": {},
   "outputs": [
    {
     "name": "stdout",
     "output_type": "stream",
     "text": [
      "[1, 2, 0]\n",
      "[4, 0, 6]\n",
      "[0, 8, 1]\n"
     ]
    }
   ],
   "source": [
    "# 12. Convert Anti-Diagonal Elements to Zero\n",
    "l1=[[1,2,1],\n",
    "    [4,1,6],\n",
    "    [1,8,1]]\n",
    "for i in range(len(l1)):\n",
    "   l1[i][2-i]=0\n",
    "for k in l1:\n",
    "    print(k)"
   ]
  },
  {
   "cell_type": "code",
   "execution_count": null,
   "id": "5c4dca11",
   "metadata": {},
   "outputs": [
    {
     "name": "stdout",
     "output_type": "stream",
     "text": [
      "[1, 0, 0]\n",
      "[0, 1, 0]\n",
      "[0, 0, 1]\n"
     ]
    }
   ],
   "source": [
    "# 13. Convert Non-Diagonal Elements to Zero\n",
    "l1=[[1,2,1],\n",
    "    [4,1,6],\n",
    "    [1,8,1]]\n",
    "for i in range(len(l1)):\n",
    "    for j in range(len(l1)):\n",
    "        if i!=j:\n",
    "            l1[i][j]=0\n",
    "for k in l1:\n",
    "    print(k)"
   ]
  },
  {
   "cell_type": "code",
   "execution_count": null,
   "id": "0a56aacb",
   "metadata": {},
   "outputs": [
    {
     "name": "stdout",
     "output_type": "stream",
     "text": [
      "45\n"
     ]
    }
   ],
   "source": [
    "# 14. Sum of All Elements in Matrix\n",
    "l=[[1,2,3],\n",
    "   [4,5,6],\n",
    "   [7,8,9]]\n",
    "res=0\n",
    "for i in l:\n",
    "    for j in i:\n",
    "        res+=j\n",
    "print(res)"
   ]
  },
  {
   "cell_type": "code",
   "execution_count": 148,
   "id": "9a112ce4",
   "metadata": {},
   "outputs": [
    {
     "name": "stdout",
     "output_type": "stream",
     "text": [
      "[30, 24, 18]\n",
      "[84, 69, 54]\n",
      "[138, 114, 90]\n"
     ]
    }
   ],
   "source": [
    "# 15. Matrix Multiplication\n",
    "l1=[[1,2,3],\n",
    "   [4,5,6],\n",
    "   [7,8,9]]\n",
    "l2=[[9,8,7],\n",
    "    [6,5,4],\n",
    "    [3,2,1]]\n",
    "res1=[]\n",
    "for i in range(len(l1)):\n",
    "    res=[]\n",
    "    for j in range(len(l2)):\n",
    "        sum=0\n",
    "        for k in range(len(l1)):\n",
    "            sum += l1[i][k] * l2[k][j]\n",
    "        res.append(sum)\n",
    "    res1.append(res)\n",
    "for k in res1:\n",
    "    print(k)"
   ]
  }
 ],
 "metadata": {
  "kernelspec": {
   "display_name": "base",
   "language": "python",
   "name": "python3"
  },
  "language_info": {
   "codemirror_mode": {
    "name": "ipython",
    "version": 3
   },
   "file_extension": ".py",
   "mimetype": "text/x-python",
   "name": "python",
   "nbconvert_exporter": "python",
   "pygments_lexer": "ipython3",
   "version": "3.11.5"
  }
 },
 "nbformat": 4,
 "nbformat_minor": 5
}
