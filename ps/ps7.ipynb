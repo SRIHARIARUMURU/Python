{
 "cells": [
  {
   "cell_type": "code",
   "execution_count": 12,
   "id": "ae48b351",
   "metadata": {},
   "outputs": [
    {
     "name": "stdout",
     "output_type": "stream",
     "text": [
      "he llo wor ld\n",
      "helloworld\n"
     ]
    }
   ],
   "source": [
    "# 1. Remove Spaces from Given Text\n",
    "s=input() \n",
    "print(s)\n",
    "print(s.replace(\" \",\"\"))"
   ]
  },
  {
   "cell_type": "code",
   "execution_count": 13,
   "id": "08f640bb",
   "metadata": {},
   "outputs": [
    {
     "name": "stdout",
     "output_type": "stream",
     "text": [
      "hello\n",
      "olleh\n"
     ]
    }
   ],
   "source": [
    "# 2. Reverse a String\n",
    "s=input() \n",
    "print(f\"{s}\\n{s[::-1]}\")\n"
   ]
  },
  {
   "cell_type": "code",
   "execution_count": 15,
   "id": "be0cb6a6",
   "metadata": {},
   "outputs": [
    {
     "name": "stdout",
     "output_type": "stream",
     "text": [
      "he llo\n",
      "olleh\n"
     ]
    }
   ],
   "source": [
    "# 3. Reverse a String After Removing Spaces\n",
    "s=input() \n",
    "print(s)\n",
    "r=s.replace(\" \",'')\n",
    "print(r[::-1])\n"
   ]
  },
  {
   "cell_type": "code",
   "execution_count": 4,
   "id": "fcf924dd",
   "metadata": {},
   "outputs": [
    {
     "name": "stdout",
     "output_type": "stream",
     "text": [
      "my_variable_name\n",
      "myVariableName\n"
     ]
    }
   ],
   "source": [
    "# 4. Convert Snake Case to Camel Case\n",
    "s=input() \n",
    "print(s)\n",
    "res=\"\"\n",
    "for i in range(len(s)):\n",
    "    \n",
    "    if s[i-1]==\"_\":\n",
    "        res+=s[i].upper()\n",
    "    elif s[i]==\"_\":\n",
    "        res+=\"\"\n",
    "    else:\n",
    "        res+=s[i]\n",
    "print(res)"
   ]
  },
  {
   "cell_type": "code",
   "execution_count": 19,
   "id": "daa46017",
   "metadata": {},
   "outputs": [
    {
     "name": "stdout",
     "output_type": "stream",
     "text": [
      "myVariableName\n",
      "my_Variable_Name\n"
     ]
    }
   ],
   "source": [
    "# 5. Convert Snake Case to Pascal Case\n",
    "s=\"myVariableName\"\n",
    "print(s)\n",
    "res=\"\"\n",
    "for i in s:\n",
    "    if i.isupper():\n",
    "        res+=\"_\"+i\n",
    "    else:\n",
    "        res+=i\n",
    "print(res)"
   ]
  },
  {
   "cell_type": "code",
   "execution_count": 79,
   "id": "c06ff40d",
   "metadata": {},
   "outputs": [
    {
     "name": "stdout",
     "output_type": "stream",
     "text": [
      "myVariableName\n",
      "my_Variable_Name\n"
     ]
    }
   ],
   "source": [
    "# 6. Convert Camel Case to Snake Case\n",
    "s=input()\n",
    "print(s)\n",
    "res=\"\"\n",
    "for i in s:\n",
    "    if i.isupper():\n",
    "        res+=\"_\"+i\n",
    "    else:\n",
    "        res+=i\n",
    "print(res)"
   ]
  },
  {
   "cell_type": "code",
   "execution_count": 81,
   "id": "3ff5249f",
   "metadata": {},
   "outputs": [
    {
     "name": "stdout",
     "output_type": "stream",
     "text": [
      "myVariable\n",
      "Myvariable\n"
     ]
    }
   ],
   "source": [
    "# 7. Convert Camel Case to Pascal Case\n",
    "s=input()\n",
    "print(s)\n",
    "print(s.capitalize())\n"
   ]
  },
  {
   "cell_type": "code",
   "execution_count": null,
   "id": "28200822",
   "metadata": {},
   "outputs": [
    {
     "name": "stdout",
     "output_type": "stream",
     "text": [
      "MyVariable\n",
      "myVariable\n"
     ]
    }
   ],
   "source": [
    "# 8. Convert Pascal Case to Camel Case\n",
    "s=input()\n",
    "print(s)\n",
    "print(s[0].lower()+s[1::])"
   ]
  },
  {
   "cell_type": "code",
   "execution_count": 87,
   "id": "931955b1",
   "metadata": {},
   "outputs": [
    {
     "name": "stdout",
     "output_type": "stream",
     "text": [
      "MyVariable\n",
      "my_Variable\n"
     ]
    }
   ],
   "source": [
    "# 9. Convert Pascal Case to Snake Case\n",
    "s=input()\n",
    "print(s)\n",
    "s1=s[0].lower()+s[1::]\n",
    "res=\"\"\n",
    "for i in s1:\n",
    "    if i.isupper():\n",
    "        res+=\"_\"+i\n",
    "    else:\n",
    "        res+=i\n",
    "print(res)"
   ]
  },
  {
   "cell_type": "code",
   "execution_count": 97,
   "id": "f1afd1e9",
   "metadata": {},
   "outputs": [
    {
     "name": "stdout",
     "output_type": "stream",
     "text": [
      "hello world example\n",
      "helloWorldExample\n"
     ]
    }
   ],
   "source": [
    "# 10. Convert Text to Camel Case\n",
    "s=input()\n",
    "print(s)\n",
    "s1=s.title()\n",
    "s2=s1.replace(\" \",\"\")\n",
    "print(s2[0].lower()+s2[1::])"
   ]
  },
  {
   "cell_type": "code",
   "execution_count": 100,
   "id": "85bc859a",
   "metadata": {},
   "outputs": [
    {
     "name": "stdout",
     "output_type": "stream",
     "text": [
      "hello world example\n",
      "hello_world_example\n"
     ]
    }
   ],
   "source": [
    "# 11. Convert Text to Snake Case\n",
    "s=input()\n",
    "print(s)\n",
    "print(s.replace(\" \",\"_\"))"
   ]
  },
  {
   "cell_type": "code",
   "execution_count": 103,
   "id": "f10bad50",
   "metadata": {},
   "outputs": [
    {
     "name": "stdout",
     "output_type": "stream",
     "text": [
      "hello world example\n",
      "HelloWorldExample\n"
     ]
    }
   ],
   "source": [
    "# 12. Convert Text to Pascal Case\n",
    "s=input()\n",
    "print(s)\n",
    "s1=s.title()\n",
    "print(s1.replace(\" \",\"\"))"
   ]
  },
  {
   "cell_type": "code",
   "execution_count": 61,
   "id": "74360e65",
   "metadata": {},
   "outputs": [
    {
     "name": "stdout",
     "output_type": "stream",
     "text": [
      "HeLLo\n",
      "hEllO\n"
     ]
    }
   ],
   "source": [
    "# 13. Swap Upper and Lower Case\n",
    "s=input()\n",
    "print(s)\n",
    "print(s.swapcase())"
   ]
  },
  {
   "cell_type": "code",
   "execution_count": 65,
   "id": "6fa703a5",
   "metadata": {},
   "outputs": [
    {
     "name": "stdout",
     "output_type": "stream",
     "text": [
      "abc123d4\n",
      "1 2 3 4 "
     ]
    }
   ],
   "source": [
    "# 14. Separate Digits from Text\n",
    "s=input()\n",
    "print(s)\n",
    "for i in s:\n",
    "    if i.isdigit():\n",
    "        print(i,end=' ')"
   ]
  },
  {
   "cell_type": "code",
   "execution_count": 67,
   "id": "a9c92465",
   "metadata": {},
   "outputs": [
    {
     "name": "stdout",
     "output_type": "stream",
     "text": [
      "Abc123!@#\n",
      "Uppercase: A\n",
      "Lowercase: bc\n",
      "Digits: 123\n",
      "Special Characters: !@#\n"
     ]
    }
   ],
   "source": [
    "# 15. Print Uppercase, Lowercase, Digits, and Special Characters Separately\n",
    "s=input()\n",
    "print(s)\n",
    "uc=\"\"\n",
    "lc=\"\"\n",
    "dig=\"\"\n",
    "sc=\"\"\n",
    "for i in s:\n",
    "    if i.isupper():\n",
    "        uc+=i\n",
    "    elif i.islower():\n",
    "        lc+=i\n",
    "    elif i.isdigit():\n",
    "        dig+=i\n",
    "    else:\n",
    "        sc+=i\n",
    "print(f\"Uppercase: {uc}\\nLowercase: {lc}\\nDigits: {dig}\\nSpecial Characters: {sc}\")"
   ]
  },
  {
   "cell_type": "code",
   "execution_count": 69,
   "id": "1c956c86",
   "metadata": {},
   "outputs": [
    {
     "name": "stdout",
     "output_type": "stream",
     "text": [
      "AbC@123x!\n",
      "Uppercase: 2\n",
      "Lowercase: 2\n",
      "Digits: 3\n",
      "Special Characters: 2\n"
     ]
    }
   ],
   "source": [
    "# 16. Count of Uppercase, Lowercase, Digits, and Special Characters\n",
    "s=input()\n",
    "print(s)\n",
    "uc=0\n",
    "lc=0\n",
    "dig=0\n",
    "sc=0\n",
    "for i in s:\n",
    "    if i.isupper():\n",
    "        uc+=1\n",
    "    elif i.islower():\n",
    "        lc+=1\n",
    "    elif i.isdigit():\n",
    "        dig+=1\n",
    "    else:\n",
    "        sc+=1\n",
    "print(f\"Uppercase: {uc}\\nLowercase: {lc}\\nDigits: {dig}\\nSpecial Characters: {sc}\")"
   ]
  },
  {
   "cell_type": "code",
   "execution_count": 75,
   "id": "5db20285",
   "metadata": {},
   "outputs": [
    {
     "name": "stdout",
     "output_type": "stream",
     "text": [
      "AbC@123x!\n",
      "strong\n"
     ]
    }
   ],
   "source": [
    "# 17. Check Password Strength\n",
    "s=\"AbC@123x!\"\n",
    "print(s)\n",
    "uc=0\n",
    "lc=0\n",
    "dig=0\n",
    "sc=0\n",
    "for i in s:\n",
    "    if i.isupper():\n",
    "        uc+=1\n",
    "    elif i.islower():\n",
    "        lc+=1\n",
    "    elif i.isdigit():\n",
    "        dig+=1\n",
    "    else:\n",
    "        sc+=1\n",
    "if uc and lc and dig and sc:\n",
    "    print(\"strong\")\n",
    "else:\n",
    "    print(\"week\")"
   ]
  },
  {
   "cell_type": "code",
   "execution_count": 55,
   "id": "9e2d73b0",
   "metadata": {},
   "outputs": [
    {
     "name": "stdout",
     "output_type": "stream",
     "text": [
      "aabbcc\n",
      "abc\n"
     ]
    }
   ],
   "source": [
    "# 18. Remove Duplicates in a Given Input\n",
    "s=input()\n",
    "print(s)\n",
    "res=\"\"\n",
    "for i in s:\n",
    "    if i not in res:\n",
    "        res+=i\n",
    "print(res)"
   ]
  },
  {
   "cell_type": "code",
   "execution_count": 58,
   "id": "65f829d5",
   "metadata": {},
   "outputs": [
    {
     "name": "stdout",
     "output_type": "stream",
     "text": [
      "aabbccdde\n",
      "abcd\n"
     ]
    }
   ],
   "source": [
    "# 19. Print Duplicates in a Given String\n",
    "s=input()\n",
    "print(s)\n",
    "res=\"\"\n",
    "res1=\"\"\n",
    "for i in s:\n",
    "    if i not in res:\n",
    "        res+=i\n",
    "    else:\n",
    "        res1+=i\n",
    "print(res1)"
   ]
  },
  {
   "cell_type": "code",
   "execution_count": 44,
   "id": "a04a1368",
   "metadata": {},
   "outputs": [
    {
     "name": "stdout",
     "output_type": "stream",
     "text": [
      "abc\n",
      "bcd\n"
     ]
    }
   ],
   "source": [
    "# 20. Print Next Characters in a Given Strings\n",
    "s=input()\n",
    "print(s)\n",
    "res=\"\"\n",
    "for i in s:\n",
    "    res+=chr(ord(i)+1)\n",
    "print(res)"
   ]
  }
 ],
 "metadata": {
  "kernelspec": {
   "display_name": "base",
   "language": "python",
   "name": "python3"
  },
  "language_info": {
   "codemirror_mode": {
    "name": "ipython",
    "version": 3
   },
   "file_extension": ".py",
   "mimetype": "text/x-python",
   "name": "python",
   "nbconvert_exporter": "python",
   "pygments_lexer": "ipython3",
   "version": "3.11.5"
  }
 },
 "nbformat": 4,
 "nbformat_minor": 5
}
