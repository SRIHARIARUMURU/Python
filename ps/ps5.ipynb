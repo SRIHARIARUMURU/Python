{
 "cells": [
  {
   "cell_type": "code",
   "execution_count": 9,
   "id": "6dcd827b",
   "metadata": {},
   "outputs": [
    {
     "name": "stdout",
     "output_type": "stream",
     "text": [
      "10 30\n",
      "11 13 17 19 23 29 "
     ]
    }
   ],
   "source": [
    "# 1. Print All Prime Numbers from m to n\n",
    "m,n=map(int,input().split())\n",
    "print(m,n)\n",
    "def is_prime(num):\n",
    "    if num<2:\n",
    "        return False\n",
    "    for i in range(2,num):\n",
    "        if num%i==0:\n",
    "            return False\n",
    "    else:\n",
    "        return True\n",
    "for i in range(m,n+1):\n",
    "    if is_prime(i):\n",
    "        print(i,end=\" \")\n",
    "    "
   ]
  },
  {
   "cell_type": "code",
   "execution_count": 10,
   "id": "db5957bb",
   "metadata": {},
   "outputs": [
    {
     "name": "stdout",
     "output_type": "stream",
     "text": [
      "1 10\n",
      "4\n"
     ]
    }
   ],
   "source": [
    "# 2. Count of All Prime Numbers from m to n\n",
    "m,n=map(int,input().split())\n",
    "count=0\n",
    "print(m,n)\n",
    "def is_prime(num):\n",
    "    if num<2:\n",
    "        return False\n",
    "    for i in range(2,num):\n",
    "        if num%i==0:\n",
    "            return False\n",
    "    else:\n",
    "        return True\n",
    "for i in range(m,n+1):\n",
    "    if is_prime(i):\n",
    "        count+=1\n",
    "print(count)\n",
    "    "
   ]
  },
  {
   "cell_type": "code",
   "execution_count": null,
   "id": "04dbf2c2",
   "metadata": {},
   "outputs": [
    {
     "name": "stdout",
     "output_type": "stream",
     "text": [
      "1 500\n",
      "153 370 371 407 "
     ]
    }
   ],
   "source": [
    "# 3. Print All Armstrong Numbers in a Range (length of number more than 1)\n",
    "m,n=map(int,input().split())\n",
    "print(m,n)\n",
    "\n",
    "def armstrong_Number(n):\n",
    "    n1=n\n",
    "    res=0\n",
    "    while n>0:\n",
    "        digit=n%10\n",
    "        res+=digit**len(str(n1))\n",
    "        n//=10\n",
    "    if res==n1:\n",
    "        return True\n",
    "    else:\n",
    "        return False\n",
    "for i in range(m,n+1):\n",
    "    if len(str(i))==1:\n",
    "        continue\n",
    "    elif armstrong_Number(i):\n",
    "        print(i,end=\" \")\n"
   ]
  },
  {
   "cell_type": "code",
   "execution_count": 12,
   "id": "b6d7db4d",
   "metadata": {},
   "outputs": [
    {
     "name": "stdout",
     "output_type": "stream",
     "text": [
      "10 25\n",
      "11\n"
     ]
    }
   ],
   "source": [
    "# 4. First Prime Number from m to n\n",
    "m,n=map(int,input().split())\n",
    "print(m,n)\n",
    "def is_prime(num):\n",
    "    if num<2:\n",
    "        return False\n",
    "    for i in range(2,num):\n",
    "        if num%i==0:\n",
    "            return False\n",
    "    else:\n",
    "        return True\n",
    "for i in range(m,n+1):\n",
    "    if is_prime(i):\n",
    "        print(i)\n",
    "        break"
   ]
  },
  {
   "cell_type": "code",
   "execution_count": 13,
   "id": "c3993a5a",
   "metadata": {},
   "outputs": [
    {
     "name": "stdout",
     "output_type": "stream",
     "text": [
      "10 25\n",
      "23\n"
     ]
    }
   ],
   "source": [
    "# 5. Last Prime Number from m to n\n",
    "m,n=map(int,input().split())\n",
    "print(m,n)\n",
    "def is_prime(num):\n",
    "    if num<2:\n",
    "        return False\n",
    "    for i in range(2,num):\n",
    "        if num%i==0:\n",
    "            return False\n",
    "    else:\n",
    "        return True\n",
    "for i in range(n,m,-1):\n",
    "    if is_prime(i):\n",
    "        print(i)\n",
    "        break"
   ]
  },
  {
   "cell_type": "code",
   "execution_count": 14,
   "id": "108ce9cb",
   "metadata": {},
   "outputs": [
    {
     "name": "stdout",
     "output_type": "stream",
     "text": [
      "Krishna\n",
      "i\n"
     ]
    }
   ],
   "source": [
    "# 6. First Vowel in a Name\n",
    "name=input()\n",
    "print(name)\n",
    "for i in name:\n",
    "    if i in \"AEIOUaeiou\":\n",
    "        print(i)\n",
    "        break"
   ]
  },
  {
   "cell_type": "code",
   "execution_count": 15,
   "id": "ffc55d72",
   "metadata": {},
   "outputs": [
    {
     "name": "stdout",
     "output_type": "stream",
     "text": [
      "Ramkrishna\n",
      "a\n"
     ]
    }
   ],
   "source": [
    "# 7. Last Vowel in a Name\n",
    "name=input()\n",
    "print(name)\n",
    "for i in range(len(name)-1,0,-1):\n",
    "    if name[i] in \"AEIOUaeiou\":\n",
    "        print(name[i])\n",
    "        break"
   ]
  },
  {
   "cell_type": "code",
   "execution_count": 16,
   "id": "4e063db9",
   "metadata": {},
   "outputs": [
    {
     "name": "stdout",
     "output_type": "stream",
     "text": [
      "10\n",
      "2 4 6 8 10 "
     ]
    }
   ],
   "source": [
    "# 8. Print All Even Numbers Using Continue\n",
    "n=int(input())\n",
    "print(n)\n",
    "for i in range(1,n+1):\n",
    "    if i%2!=0:\n",
    "        continue\n",
    "    else:\n",
    "        print(i,end=\" \")"
   ]
  },
  {
   "cell_type": "code",
   "execution_count": 17,
   "id": "facda827",
   "metadata": {},
   "outputs": [
    {
     "name": "stdout",
     "output_type": "stream",
     "text": [
      "10\n",
      "1 3 5 7 9 "
     ]
    }
   ],
   "source": [
    "# 9. Print All Odd Numbers Using Continue\n",
    "n=int(input())\n",
    "print(n)\n",
    "for i in range(1,n+1):\n",
    "    if i%2==0:\n",
    "        continue\n",
    "    else:\n",
    "        print(i,end=\" \")"
   ]
  },
  {
   "cell_type": "code",
   "execution_count": 18,
   "id": "adf02318",
   "metadata": {},
   "outputs": [
    {
     "name": "stdout",
     "output_type": "stream",
     "text": [
      "1 10\n",
      "Prime: 4\n",
      "Composite: 4\n"
     ]
    }
   ],
   "source": [
    "# 10. Count of Prime and Composite Numbers from m to n(exclude m and n)\n",
    "m,n=map(int,input().split())\n",
    "prime_num=0\n",
    "composite_num=0\n",
    "print(m,n)\n",
    "def is_prime(num):\n",
    "    if num<2:\n",
    "        return False\n",
    "    for i in range(2,num):\n",
    "        if num%i==0:\n",
    "            return False\n",
    "    else:\n",
    "        return True\n",
    "for i in range(m+1,n):\n",
    "    if is_prime(i):\n",
    "        prime_num+=1\n",
    "    else:\n",
    "        composite_num+=1\n",
    "print(f\"Prime: {prime_num}\\nComposite: {composite_num}\")"
   ]
  }
 ],
 "metadata": {
  "kernelspec": {
   "display_name": "base",
   "language": "python",
   "name": "python3"
  },
  "language_info": {
   "codemirror_mode": {
    "name": "ipython",
    "version": 3
   },
   "file_extension": ".py",
   "mimetype": "text/x-python",
   "name": "python",
   "nbconvert_exporter": "python",
   "pygments_lexer": "ipython3",
   "version": "3.11.5"
  }
 },
 "nbformat": 4,
 "nbformat_minor": 5
}
