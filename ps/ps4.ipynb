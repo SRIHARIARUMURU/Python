{
 "cells": [
  {
   "cell_type": "code",
   "execution_count": null,
   "id": "d3a98ac0",
   "metadata": {},
   "outputs": [
    {
     "name": "stdout",
     "output_type": "stream",
     "text": [
      "4\n",
      "* * * * \n",
      "* * * * \n",
      "* * * * \n",
      "* * * * \n"
     ]
    }
   ],
   "source": [
    "# 1. Square Star Pattern\n",
    "'''\n",
    "Question:\n",
    "Write a Python program to print a square pattern of stars of size N.\n",
    "\n",
    "Input:\n",
    "N = 4\n",
    "\n",
    "Expected Output:\n",
    "* * * *\n",
    "* * * *\n",
    "* * * *\n",
    "* * * *\n",
    "'''\n",
    "n=int(input())  \n",
    "print(n)\n",
    "for i in range(1,n+1):\n",
    "    print(\"* \"*n)"
   ]
  },
  {
   "cell_type": "code",
   "execution_count": null,
   "id": "b289b9bd",
   "metadata": {},
   "outputs": [
    {
     "name": "stdout",
     "output_type": "stream",
     "text": [
      "3 5\n",
      "* * * * * \n",
      "* * * * * \n",
      "* * * * * \n"
     ]
    }
   ],
   "source": [
    "# 2. Rectangle Star Pattern\n",
    "'''\n",
    "Question:\n",
    "Write a Python program to print a rectangle pattern of stars with R rows and C columns.\n",
    "\n",
    "Input:\n",
    "R = 3, C = 5\n",
    "\n",
    "Expected Output:\n",
    "* * * * *\n",
    "* * * * *\n",
    "* * * * *\n",
    "'''\n",
    "r,c=map(int,input().split())\n",
    "print(r,c)\n",
    "for i in range(1,r+1):\n",
    "    print(\"* \"*c)"
   ]
  },
  {
   "cell_type": "code",
   "execution_count": null,
   "id": "629e3705",
   "metadata": {},
   "outputs": [
    {
     "name": "stdout",
     "output_type": "stream",
     "text": [
      "4\n",
      "* \n",
      "* * \n",
      "* * * \n",
      "* * * * \n"
     ]
    }
   ],
   "source": [
    "# 3. Left-Aligned Right Angle Triangle\n",
    "'''\n",
    "Question:\n",
    "Write a Python program to print a left-aligned right angle triangle of stars.\n",
    "\n",
    "Input:\n",
    "N = 4\n",
    "\n",
    "Expected Output:\n",
    "*\n",
    "* *\n",
    "* * *\n",
    "* * * *\n",
    "'''\n",
    "n=int(input())  #4\n",
    "print(n)\n",
    "for i in range(1,n+1):\n",
    "    print(i*\"* \")"
   ]
  },
  {
   "cell_type": "code",
   "execution_count": null,
   "id": "3f90eb81",
   "metadata": {},
   "outputs": [
    {
     "name": "stdout",
     "output_type": "stream",
     "text": [
      "4\n",
      "   *\n",
      "  **\n",
      " ***\n",
      "****\n"
     ]
    }
   ],
   "source": [
    "# 4. Right-Aligned Right Angle Triangle\n",
    "'''\n",
    "Question:\n",
    "Write a Python program to print a right-aligned right angle triangle of stars.\n",
    "\n",
    "Input:\n",
    "N = 4\n",
    "\n",
    "Expected Output:\n",
    "      *\n",
    "    * *\n",
    "  * * *\n",
    "* * * *\n",
    "'''\n",
    "n=int(input()) \n",
    "print(n)\n",
    "for i in range(1,n+1):\n",
    "    print((n-i)*\" \"+i*\"*\")"
   ]
  },
  {
   "cell_type": "code",
   "execution_count": null,
   "id": "e45de01a",
   "metadata": {},
   "outputs": [
    {
     "name": "stdout",
     "output_type": "stream",
     "text": [
      "4\n",
      "* * * * \n",
      "* * * \n",
      "* * \n",
      "* \n"
     ]
    }
   ],
   "source": [
    "# 5. Inverted Left-Aligned Right Angle Triangle\n",
    "'''\n",
    "Question:\n",
    "Write a Python program to print an inverted left-aligned right angle triangle of stars.\n",
    "\n",
    "Input:\n",
    "N = 4\n",
    "\n",
    "Expected Output:\n",
    "* * * *\n",
    "* * *\n",
    "* *\n",
    "*\n",
    "'''\n",
    "n=int(input())  #4\n",
    "print(n)\n",
    "for i in range(n):\n",
    "    print((n-i)*\"* \")"
   ]
  },
  {
   "cell_type": "code",
   "execution_count": null,
   "id": "50ba1e3f",
   "metadata": {},
   "outputs": [
    {
     "name": "stdout",
     "output_type": "stream",
     "text": [
      "4\n",
      "*****\n",
      " ****\n",
      "  ***\n",
      "   **\n",
      "    *\n"
     ]
    }
   ],
   "source": [
    "# 6. Inverted Right-Aligned Right Angle Triangle\n",
    "'''\n",
    "Question:\n",
    "Write a Python program to print an inverted right-aligned right angle triangle of stars.\n",
    "\n",
    "Input:\n",
    "N = 4\n",
    "\n",
    "Expected Output:\n",
    "* * * *\n",
    "  * * *\n",
    "    * *\n",
    "      *\n",
    "'''\n",
    "n=int(input())  #4\n",
    "print(n)\n",
    "for i in range(n,-1,-1):\n",
    "    print((n-i)*\" \"+(i+1)*\"*\")\n"
   ]
  },
  {
   "cell_type": "code",
   "execution_count": null,
   "id": "af1dd512",
   "metadata": {},
   "outputs": [
    {
     "name": "stdout",
     "output_type": "stream",
     "text": [
      "5\n",
      "    * \n",
      "   * * \n",
      "  * * * \n",
      " * * * * \n",
      "* * * * * \n",
      " * * * * \n",
      "  * * * \n",
      "   * * \n",
      "    * \n"
     ]
    }
   ],
   "source": [
    "# 7. Diamond Pattern\n",
    "'''\n",
    "Question:\n",
    "Write a Python program to print a diamond pattern of stars of height N (odd number).\n",
    "\n",
    "Input:\n",
    "N = 5\n",
    "\n",
    "Expected Output:\n",
    "    *\n",
    "  * * *\n",
    "* * * * *\n",
    "  * * *\n",
    "    *\n",
    "'''\n",
    "n=int(input())  \n",
    "print(n)\n",
    "for i in range(1,n+1):\n",
    "    print((n-i)*\" \"+i*\"* \")\n",
    "for i in range(n-1,0,-1):\n",
    "    print((n-i)*\" \"+i*\"* \")"
   ]
  },
  {
   "cell_type": "code",
   "execution_count": null,
   "id": "37c22f77",
   "metadata": {},
   "outputs": [
    {
     "name": "stdout",
     "output_type": "stream",
     "text": [
      "      * * * * * \n",
      "    * * * * * \n",
      "  * * * * * \n",
      "* * * * * \n"
     ]
    }
   ],
   "source": [
    "# 8. Parallelogram Pattern\n",
    "'''\n",
    "Question:\n",
    "Write a Python program to print a parallelogram star pattern of height N and width M.\n",
    "\n",
    "Input:\n",
    "N = 4, M = 5\n",
    "\n",
    "Expected Output:\n",
    "      * * * * *\n",
    "    * * * * *\n",
    "  * * * * *\n",
    "* * * * *\n",
    "'''\n",
    "\n",
    "n=int(input())\n",
    "m=int(input())\n",
    "for i in range(1,n+1):\n",
    "    print((n-i)*\"  \"+m*\"* \")"
   ]
  },
  {
   "cell_type": "code",
   "execution_count": null,
   "id": "8920a37b",
   "metadata": {},
   "outputs": [
    {
     "name": "stdout",
     "output_type": "stream",
     "text": [
      "5\n",
      "    * \n",
      "   * * \n",
      "  * * * \n",
      " * * * * \n",
      "* * * * * \n"
     ]
    }
   ],
   "source": [
    " # 9. Right Angle Triangle (Type 2)\n",
    "'''\n",
    "Question:\n",
    "Write a Python program to print a right-angle triangle of stars where each row starts with one space less.\n",
    "\n",
    "Input:\n",
    "N = 5\n",
    "\n",
    "Expected Output:\n",
    "    *\n",
    "   * *\n",
    "  * * *\n",
    " * * * *\n",
    "* * * * *\n",
    "'''\n",
    "n=int(input())  \n",
    "print(n)\n",
    "for i in range(1,n+1):\n",
    "    print((n-i)*\" \"+i*\"* \")"
   ]
  },
  {
   "cell_type": "code",
   "execution_count": null,
   "id": "d0826cc2",
   "metadata": {},
   "outputs": [
    {
     "name": "stdout",
     "output_type": "stream",
     "text": [
      "5\n",
      "* * * * * \n",
      " * * * * \n",
      "  * * * \n",
      "   * * \n",
      "    * \n"
     ]
    }
   ],
   "source": [
    "# 10. Reverse Right Angle Triangle (Type 2)\n",
    "'''\n",
    "Question:\n",
    "Write a Python program to print the reverse of the above triangle.\n",
    "\n",
    "Input:\n",
    "N = 5\n",
    "\n",
    "Expected Output:\n",
    "* * * * *\n",
    " * * * *\n",
    "  * * *\n",
    "   * *\n",
    "    *\n",
    "'''\n",
    "\n",
    "n=int(input())  \n",
    "print(n)\n",
    "for i in range(n,0,-1):\n",
    "    print((n-i)*\" \"+i*\"* \")"
   ]
  },
  {
   "cell_type": "code",
   "execution_count": null,
   "id": "260e3e82",
   "metadata": {},
   "outputs": [
    {
     "name": "stdout",
     "output_type": "stream",
     "text": [
      "4\n",
      "   *\n",
      "  **\n",
      " ***\n",
      "****\n",
      " ***\n",
      "  **\n",
      "   *\n"
     ]
    }
   ],
   "source": [
    "# 11. Left Pascal Triangle\n",
    "'''\n",
    "Question:\n",
    "Write a Python program to print a left Pascal triangle using stars.\n",
    "\n",
    "Input:\n",
    "N = 4\n",
    "\n",
    "Expected Output:\n",
    "      *\n",
    "    * *\n",
    "  * * *\n",
    "* * * *\n",
    "  * * *\n",
    "    * *\n",
    "      *\n",
    "'''\n",
    "n=int(input())  \n",
    "print(n)\n",
    "for i in range(1,n+1):\n",
    "    print((n-i)*\" \"+i*\"*\")\n",
    "for i in range(n-1,0,-1):\n",
    "    print((n-i)*\" \"+i*\"*\")"
   ]
  },
  {
   "cell_type": "code",
   "execution_count": null,
   "id": "c746dfa0",
   "metadata": {},
   "outputs": [
    {
     "name": "stdout",
     "output_type": "stream",
     "text": [
      "4\n",
      "* \n",
      "* * \n",
      "* * * \n",
      "* * * * \n",
      "* * * \n",
      "* * \n",
      "* \n"
     ]
    }
   ],
   "source": [
    "# 12. Right Pascal Triangle\n",
    "'''\n",
    "Question:\n",
    "Write a Python program to print a right Pascal triangle using stars.\n",
    "\n",
    "Input:\n",
    "N = 4\n",
    "\n",
    "Expected Output:\n",
    "*      \n",
    "* *    \n",
    "* * *  \n",
    "* * * *\n",
    "* * *  \n",
    "* *    \n",
    "*      \n",
    "'''\n",
    "n=int(input())  \n",
    "print(n)\n",
    "for i in range(1,n+1):\n",
    "    print(i*\"* \")\n",
    "for i in range(n-1,0,-1):\n",
    "    print(i*\"* \")"
   ]
  },
  {
   "cell_type": "code",
   "execution_count": null,
   "id": "186f8e8e",
   "metadata": {},
   "outputs": [
    {
     "name": "stdout",
     "output_type": "stream",
     "text": [
      "5\n",
      "* * * * * \n",
      " * * * * \n",
      "  * * * \n",
      "   * * \n",
      "    * \n",
      "   * * \n",
      "  * * * \n",
      " * * * * \n",
      "* * * * * \n"
     ]
    }
   ],
   "source": [
    "# 13. Sandglass Pattern\n",
    "'''\n",
    "Question:\n",
    "Write a Python program to print a sandglass star pattern.\n",
    "\n",
    "Input:\n",
    "N = 5\n",
    "\n",
    "Expected Output:\n",
    "* * * * *\n",
    " * * * *\n",
    "  * * *\n",
    "   * *\n",
    "    *\n",
    "   * *\n",
    "  * * *\n",
    " * * * *\n",
    "* * * * *\n",
    "'''\n",
    "n=int(input())  \n",
    "print(n)\n",
    "\n",
    "for i in range(n,0,-1):\n",
    "    print((n-i)*\" \"+i*\"* \")\n",
    "for i in range(2,n+1):\n",
    "    print((n-i)*\" \"+i*\"* \")"
   ]
  }
 ],
 "metadata": {
  "kernelspec": {
   "display_name": "base",
   "language": "python",
   "name": "python3"
  },
  "language_info": {
   "codemirror_mode": {
    "name": "ipython",
    "version": 3
   },
   "file_extension": ".py",
   "mimetype": "text/x-python",
   "name": "python",
   "nbconvert_exporter": "python",
   "pygments_lexer": "ipython3",
   "version": "3.11.5"
  }
 },
 "nbformat": 4,
 "nbformat_minor": 5
}
