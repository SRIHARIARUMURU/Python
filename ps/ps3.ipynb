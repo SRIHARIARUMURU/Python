{
 "cells": [
  {
   "cell_type": "code",
   "execution_count": 50,
   "id": "5ea42a35",
   "metadata": {},
   "outputs": [
    {
     "name": "stdout",
     "output_type": "stream",
     "text": [
      "5\n",
      "1 2 3 4 5 "
     ]
    }
   ],
   "source": [
    "# 1. Print Numbers from 1 to n\n",
    "n=int(input())\n",
    "print(n)\n",
    "i=1\n",
    "while i<=n:\n",
    "    print(i,end=' ')\n",
    "    i+=1"
   ]
  },
  {
   "cell_type": "code",
   "execution_count": 51,
   "id": "40fe8767",
   "metadata": {},
   "outputs": [
    {
     "name": "stdout",
     "output_type": "stream",
     "text": [
      "3 7\n",
      "3 4 5 6 7 "
     ]
    }
   ],
   "source": [
    "# 2. Print Numbers from m to n\n",
    "m,n=map(int,input().split())\n",
    "print(m,n)\n",
    "for i in range(m,n+1):\n",
    "    print(i,end=\" \")"
   ]
  },
  {
   "cell_type": "code",
   "execution_count": 52,
   "id": "26d1a80a",
   "metadata": {},
   "outputs": [
    {
     "name": "stdout",
     "output_type": "stream",
     "text": [
      "5\n",
      "5 4 3 2 1 "
     ]
    }
   ],
   "source": [
    "# 3. Print Numbers from n to 1 in Reverse\n",
    "n=int(input())\n",
    "print(n)\n",
    "i=1\n",
    "for i in range(n,0,-1):\n",
    "    print(i,end=' ')\n",
    "    i+=1"
   ]
  },
  {
   "cell_type": "code",
   "execution_count": 53,
   "id": "28dc8ee3",
   "metadata": {},
   "outputs": [
    {
     "name": "stdout",
     "output_type": "stream",
     "text": [
      "10 6\n",
      "10 9 8 7 6 "
     ]
    }
   ],
   "source": [
    "# 4. Print Numbers from n to m in Reverse\n",
    "m,n=map(int,input().split())\n",
    "print(m,n)\n",
    "for i in range(m,n-1,-1):\n",
    "    print(i,end=\" \")"
   ]
  },
  {
   "cell_type": "code",
   "execution_count": 54,
   "id": "d34f0a8f",
   "metadata": {},
   "outputs": [
    {
     "name": "stdout",
     "output_type": "stream",
     "text": [
      "5\n",
      "15\n"
     ]
    }
   ],
   "source": [
    "# 5. Sum of n Natural Numbers\n",
    "n=int(input())\n",
    "print(n)\n",
    "res=0\n",
    "for i in range(n+1):\n",
    "    res+=i\n",
    "print(res)"
   ]
  },
  {
   "cell_type": "code",
   "execution_count": 55,
   "id": "245a47d3",
   "metadata": {},
   "outputs": [
    {
     "name": "stdout",
     "output_type": "stream",
     "text": [
      "5\n",
      "120\n"
     ]
    }
   ],
   "source": [
    "# 6. Factorial of a Number\n",
    "n=int(input())\n",
    "print(n)\n",
    "fact=1\n",
    "while n>0:\n",
    "    fact*=n\n",
    "    n-=1\n",
    "print(fact)"
   ]
  },
  {
   "cell_type": "code",
   "execution_count": 56,
   "id": "54965ea1",
   "metadata": {},
   "outputs": [
    {
     "name": "stdout",
     "output_type": "stream",
     "text": [
      "3 6\n",
      "18\n"
     ]
    }
   ],
   "source": [
    "# 7. Sum of m to n Numbers\n",
    "m,n=map(int,input().split())\n",
    "print(m,n)\n",
    "res=0\n",
    "for i in range(m,n+1):\n",
    "    res+=i\n",
    "print(res)"
   ]
  },
  {
   "cell_type": "code",
   "execution_count": 57,
   "id": "2ba26b35",
   "metadata": {},
   "outputs": [
    {
     "name": "stdout",
     "output_type": "stream",
     "text": [
      "2 4\n",
      "24\n"
     ]
    }
   ],
   "source": [
    "# 8. Product of m to n Numbers\n",
    "m,n=map(int,input().split())\n",
    "print(m,n)\n",
    "res=1\n",
    "for i in range(m,n+1):\n",
    "    res*=i\n",
    "print(res)"
   ]
  },
  {
   "cell_type": "code",
   "execution_count": 58,
   "id": "f30b589a",
   "metadata": {},
   "outputs": [
    {
     "name": "stdout",
     "output_type": "stream",
     "text": [
      "6\n",
      "1 2 3 6 "
     ]
    }
   ],
   "source": [
    "# 9. Print Factors of a Number\n",
    "n=int(input())\n",
    "print(n)\n",
    "for i in range(1,n+1):\n",
    "    if n%i==0:\n",
    "        print(i,end=\" \")"
   ]
  },
  {
   "cell_type": "code",
   "execution_count": 59,
   "id": "b6dbcb81",
   "metadata": {},
   "outputs": [
    {
     "name": "stdout",
     "output_type": "stream",
     "text": [
      "7\n",
      "2\n"
     ]
    }
   ],
   "source": [
    "# 10. Count of Factors\n",
    "n=int(input())\n",
    "print(n)\n",
    "count=0\n",
    "for i in range(1,n+1):\n",
    "    if n%i==0:\n",
    "        count+=1\n",
    "print(count)"
   ]
  },
  {
   "cell_type": "code",
   "execution_count": 61,
   "id": "36ac8bc2",
   "metadata": {},
   "outputs": [
    {
     "name": "stdout",
     "output_type": "stream",
     "text": [
      "7\n",
      "prime\n"
     ]
    }
   ],
   "source": [
    "# 11. Prime Number Check\n",
    "n=int(input())\n",
    "print(n)\n",
    "if n<2:\n",
    "    print(\"Not a Prime\")\n",
    "else:\n",
    "    for i in range(2,n):\n",
    "        if n%i==0:\n",
    "            print(\"Not a prime\")\n",
    "            break\n",
    "    else:\n",
    "        print(\"prime\")"
   ]
  },
  {
   "cell_type": "code",
   "execution_count": null,
   "id": "d80c004f",
   "metadata": {},
   "outputs": [
    {
     "name": "stdout",
     "output_type": "stream",
     "text": [
      "4 6 8 10 "
     ]
    }
   ],
   "source": [
    "# 12. Even Numbers from m to n\n",
    "m,n=map(int,input().split())\n",
    "print(m,n)\n",
    "for i in range(m,n+1):\n",
    "    if 1&i==0:\n",
    "        print(i,end=\" \")"
   ]
  },
  {
   "cell_type": "code",
   "execution_count": null,
   "id": "004bded3",
   "metadata": {},
   "outputs": [
    {
     "name": "stdout",
     "output_type": "stream",
     "text": [
      "3 5 7 9 "
     ]
    }
   ],
   "source": [
    "# 13. Odd Numbers from m to n\n",
    "m,n=map(int,input().split())\n",
    "print(m,n)\n",
    "for i in range(m,n+1):\n",
    "    if 1&i!=0:\n",
    "        print(i,end=\" \")"
   ]
  },
  {
   "cell_type": "code",
   "execution_count": null,
   "id": "7299864c",
   "metadata": {},
   "outputs": [
    {
     "name": "stdout",
     "output_type": "stream",
     "text": [
      "Even = 2\n",
      "Odd = 3\n"
     ]
    }
   ],
   "source": [
    "# 14. Count of Even and Odd Numbers\n",
    "even=0\n",
    "odd=0\n",
    "m,n=map(int,input().split())\n",
    "print(m,3 10\n",
    "      n)\n",
    "for i in range(m,n+1):\n",
    "    if 1&i==0:\n",
    "        even+=1\n",
    "    else:\n",
    "        odd+=1\n",
    "print(f\"Even = {even}\\nOdd = {odd}\")"
   ]
  },
  {
   "cell_type": "code",
   "execution_count": 63,
   "id": "a721079d",
   "metadata": {},
   "outputs": [
    {
     "name": "stdout",
     "output_type": "stream",
     "text": [
      "hello\n",
      "olleh\n"
     ]
    }
   ],
   "source": [
    "# 15. Reverse a String\n",
    "s=input()\n",
    "print(s)\n",
    "print(s[::-1])"
   ]
  },
  {
   "cell_type": "code",
   "execution_count": 64,
   "id": "4146a9cf",
   "metadata": {},
   "outputs": [
    {
     "name": "stdout",
     "output_type": "stream",
     "text": [
      "madam\n",
      "Palindrome\n"
     ]
    }
   ],
   "source": [
    "# 16. Check for Palindrome String\n",
    "s=input()\n",
    "print(s)\n",
    "if s[::-1]==s:\n",
    "    print(\"Palindrome\")\n",
    "else:\n",
    "    print(\"Not a Palindrome\")"
   ]
  },
  {
   "cell_type": "code",
   "execution_count": 66,
   "id": "9d0c0571",
   "metadata": {},
   "outputs": [
    {
     "name": "stdout",
     "output_type": "stream",
     "text": [
      "123\n",
      "6\n"
     ]
    }
   ],
   "source": [
    "# 17. Sum of Digits\n",
    "n=int(input())\n",
    "print(n)\n",
    "add=0\n",
    "for i in str(n):\n",
    "    digit=n%10\n",
    "    add+=digit\n",
    "    n//=10\n",
    "print(add)"
   ]
  },
  {
   "cell_type": "code",
   "execution_count": 68,
   "id": "a23f7a8a",
   "metadata": {},
   "outputs": [
    {
     "name": "stdout",
     "output_type": "stream",
     "text": [
      "123\n",
      "6\n"
     ]
    }
   ],
   "source": [
    "# 18. Product of Digits\n",
    "n=int(input())\n",
    "print(n)\n",
    "product=1\n",
    "for i in str(n):\n",
    "    digit=n%10\n",
    "    product*=digit\n",
    "    n//=10\n",
    "print(product)"
   ]
  },
  {
   "cell_type": "code",
   "execution_count": 72,
   "id": "757f90ca",
   "metadata": {},
   "outputs": [
    {
     "name": "stdout",
     "output_type": "stream",
     "text": [
      "153\n",
      "Amstrong Number\n"
     ]
    }
   ],
   "source": [
    "# 19. Armstrong Number Check\n",
    "n=int(input())\n",
    "n1=n\n",
    "print(n)\n",
    "add=0\n",
    "for i in str(n):\n",
    "    digit=n%10\n",
    "    add+=digit**len(str(n1))\n",
    "    n//=10\n",
    "if add==n1:\n",
    "    print(\"Amstrong Number\")\n",
    "else:\n",
    "    print(\"Not an amstrong Number\")"
   ]
  },
  {
   "cell_type": "code",
   "execution_count": 73,
   "id": "de0d8fe4",
   "metadata": {},
   "outputs": [
    {
     "name": "stdout",
     "output_type": "stream",
     "text": [
      "123\n",
      "321\n"
     ]
    }
   ],
   "source": [
    "# 20. Reverse a Number\n",
    "n=int(input())\n",
    "print(n)\n",
    "rev=0\n",
    "for i in str(n):\n",
    "    digit=n%10\n",
    "    rev=rev*10+digit\n",
    "    n//=10\n",
    "print(rev)"
   ]
  },
  {
   "cell_type": "code",
   "execution_count": 74,
   "id": "d3c0f37d",
   "metadata": {},
   "outputs": [
    {
     "name": "stdout",
     "output_type": "stream",
     "text": [
      "121\n",
      "Palindrome\n"
     ]
    }
   ],
   "source": [
    "# 21. Palindrome Number Check\n",
    "n=int(input())\n",
    "n1=n\n",
    "print(n)\n",
    "rev=0\n",
    "for i in str(n):\n",
    "    digit=n%10\n",
    "    rev=rev*10+digit\n",
    "    n//=10\n",
    "if n1==rev:\n",
    "    print(\"Palindrome\")\n",
    "else:\n",
    "    print(\"Not a Palindrome\")"
   ]
  },
  {
   "cell_type": "code",
   "execution_count": 76,
   "id": "1b3cbae2",
   "metadata": {},
   "outputs": [
    {
     "name": "stdout",
     "output_type": "stream",
     "text": [
      "apple\n",
      "2\n"
     ]
    }
   ],
   "source": [
    "# 22. Count Vowels in String\n",
    "s=input()\n",
    "print(s)\n",
    "count=0\n",
    "for i in s:\n",
    "    if i in \"AEIOUaeiou\":\n",
    "        count+=1\n",
    "print(count)"
   ]
  },
  {
   "cell_type": "code",
   "execution_count": 77,
   "id": "bf62fd3d",
   "metadata": {},
   "outputs": [
    {
     "name": "stdout",
     "output_type": "stream",
     "text": [
      "apple\n",
      "3\n"
     ]
    }
   ],
   "source": [
    "# 23. Count Consonants in String\n",
    "s=input()\n",
    "print(s)\n",
    "count=0\n",
    "for i in s:\n",
    "    if i not in \"AEIOUaeiou\":\n",
    "        count+=1\n",
    "print(count)"
   ]
  },
  {
   "cell_type": "code",
   "execution_count": 78,
   "id": "5bccb587",
   "metadata": {},
   "outputs": [
    {
     "name": "stdout",
     "output_type": "stream",
     "text": [
      "apple\n",
      "Vowels = 2\n",
      "consonent = 3\n"
     ]
    }
   ],
   "source": [
    "# 24. Count Vowels and Consonants\n",
    "s=input()\n",
    "print(s)\n",
    "vowel=0\n",
    "consonent=0\n",
    "for i in s:\n",
    "    if i in \"AEIOUaeiou\":\n",
    "        vowel+=1\n",
    "    else:\n",
    "        consonent+=1\n",
    "print(f\"Vowels = {vowel}\\nconsonent = {consonent}\")"
   ]
  },
  {
   "cell_type": "code",
   "execution_count": 80,
   "id": "2c31031b",
   "metadata": {},
   "outputs": [
    {
     "name": "stdout",
     "output_type": "stream",
     "text": [
      "28\n",
      "Perfect Number\n"
     ]
    }
   ],
   "source": [
    "# 25. Perfect Number Check\n",
    "n=int(input())\n",
    "print(n)\n",
    "count=0\n",
    "for i in range(1,n):\n",
    "    if n%i==0:\n",
    "        count+=i\n",
    "if count==n:\n",
    "    print(\"Perfect Number\")\n",
    "else:\n",
    "    print(\"Not a Perfect Number\")"
   ]
  },
  {
   "cell_type": "code",
   "execution_count": 31,
   "id": "c69ae688",
   "metadata": {},
   "outputs": [
    {
     "name": "stdout",
     "output_type": "stream",
     "text": [
      "9\n",
      "Neon Number\n"
     ]
    }
   ],
   "source": [
    "# 26. Neon Number Check\n",
    "n=int(input())\n",
    "print(n)\n",
    "n1=str(n**2)\n",
    "neo=0\n",
    "for i in str(n1):\n",
    "    neo+=int(i)\n",
    "if n==neo:\n",
    "    print(\"Neon Number\")\n",
    "else:\n",
    "    print(\"Not a Neon Number\")"
   ]
  },
  {
   "cell_type": "code",
   "execution_count": 18,
   "id": "6543124b",
   "metadata": {},
   "outputs": [
    {
     "name": "stdout",
     "output_type": "stream",
     "text": [
      "145\n",
      "Strong Number\n"
     ]
    }
   ],
   "source": [
    "# 27. Strong Number Check\n",
    "def fact(n):\n",
    "    fact=1\n",
    "    while n>0:\n",
    "        fact*=n\n",
    "        n-=1\n",
    "    return fact \n",
    "n=int(input())\n",
    "print(n)\n",
    "n1=str(n)\n",
    "res=0\n",
    "for i in n1:\n",
    "    res+=fact(int(i))\n",
    "if n==res:\n",
    "    print(\"Strong Number\")\n",
    "else:\n",
    "    print(\"Not a Strong Number\")"
   ]
  },
  {
   "cell_type": "code",
   "execution_count": 21,
   "id": "43f3be0f",
   "metadata": {},
   "outputs": [
    {
     "name": "stdout",
     "output_type": "stream",
     "text": [
      "18\n",
      "Harshad  Number\n"
     ]
    }
   ],
   "source": [
    "# 28. Harshad Number Check\n",
    "n=int(input())\n",
    "print(n)\n",
    "res=0\n",
    "for i in str(n):\n",
    "    res+=int(i)\n",
    "if n%res==0:\n",
    "    print(\"Harshad  Number\")\n",
    "else:\n",
    "    print(\"Not a Harshad  Number\")"
   ]
  },
  {
   "cell_type": "code",
   "execution_count": 6,
   "id": "32390dab",
   "metadata": {},
   "outputs": [
    {
     "name": "stdout",
     "output_type": "stream",
     "text": [
      "5\n",
      "------------\n",
      "0 1 1 2 3 "
     ]
    }
   ],
   "source": [
    "# 29. Fibonacci Series\n",
    "n=int(input())\n",
    "print(f\"{n}\\n------------\")\n",
    "a=0\n",
    "b=1\n",
    "while a<n:\n",
    "    print(a,end=' ')\n",
    "    a,b=b,a+b"
   ]
  },
  {
   "cell_type": "code",
   "execution_count": null,
   "id": "43d2b5b9",
   "metadata": {},
   "outputs": [
    {
     "name": "stdout",
     "output_type": "stream",
     "text": [
      "1 9\n",
      "2 3 5 7 "
     ]
    }
   ],
   "source": [
    "# Prime Numbers from m to n\n",
    "def is_prime(n):\n",
    "    if n<2:\n",
    "        return False\n",
    "    else:\n",
    "        for i in range(2,n):\n",
    "            if n%i==0:\n",
    "                return False\n",
    "        else:   \n",
    "            return True\n",
    "\n",
    "m,n=map(int,input().split())\n",
    "print(m,n)\n",
    "for i in range(m,n+1):\n",
    "    if is_prime(i):\n",
    "        print(i,end=\" \")\n"
   ]
  }
 ],
 "metadata": {
  "kernelspec": {
   "display_name": "base",
   "language": "python",
   "name": "python3"
  },
  "language_info": {
   "codemirror_mode": {
    "name": "ipython",
    "version": 3
   },
   "file_extension": ".py",
   "mimetype": "text/x-python",
   "name": "python",
   "nbconvert_exporter": "python",
   "pygments_lexer": "ipython3",
   "version": "3.11.5"
  }
 },
 "nbformat": 4,
 "nbformat_minor": 5
}
