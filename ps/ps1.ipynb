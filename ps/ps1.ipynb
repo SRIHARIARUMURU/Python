{
 "cells": [
  {
   "cell_type": "code",
   "execution_count": null,
   "id": "62354642",
   "metadata": {},
   "outputs": [
    {
     "name": "stdout",
     "output_type": "stream",
     "text": [
      "5\n",
      "area_of_square = 25\n"
     ]
    }
   ],
   "source": [
    "# 1.area of square  side*side\n",
    "s=int(input())\n",
    "print(s)\n",
    "print(f\"area_of_square = {s*s}\")"
   ]
  },
  {
   "cell_type": "code",
   "execution_count": null,
   "id": "bb497711",
   "metadata": {},
   "outputs": [
    {
     "name": "stdout",
     "output_type": "stream",
     "text": [
      "6 4\n",
      "area of rectangle= 24\n"
     ]
    }
   ],
   "source": [
    "# 2.area of rectangle length * breadth\n",
    "l,b=map(int,input().split())\n",
    "print(l,b)\n",
    "print(f\"area of rectangle= {l*b}\") "
   ]
  },
  {
   "cell_type": "code",
   "execution_count": null,
   "id": "52b8aa5f",
   "metadata": {},
   "outputs": [
    {
     "name": "stdout",
     "output_type": "stream",
     "text": [
      "8 5\n",
      "area of triangle = 20.0\n"
     ]
    }
   ],
   "source": [
    "# 3.area of triangle  1/2 * length * breadth\n",
    "b,h=map(int,input().split())\n",
    "print(b,h)\n",
    "print(f\"area of triangle = {0.5*b*h}\")"
   ]
  },
  {
   "cell_type": "code",
   "execution_count": null,
   "id": "c749945c",
   "metadata": {},
   "outputs": [
    {
     "name": "stdout",
     "output_type": "stream",
     "text": [
      "6\n",
      "Perimeter of square = 24\n"
     ]
    }
   ],
   "source": [
    "# 4.perimeter of square 4*side\n",
    "s=int(input())\n",
    "print(s)\n",
    "print(f\"Perimeter of square = {4*s}\")"
   ]
  },
  {
   "cell_type": "code",
   "execution_count": 9,
   "id": "3822e696",
   "metadata": {},
   "outputs": [
    {
     "name": "stdout",
     "output_type": "stream",
     "text": [
      "5 3\n",
      "Perimeter of rectangle = 16\n"
     ]
    }
   ],
   "source": [
    "# 5.perimeter of rectangle 2*(l+b)\n",
    "l,b=map(int,input().split())\n",
    "print(l,b)\n",
    "print(f\"Perimeter of rectangle = {2*(l+b)}\")"
   ]
  },
  {
   "cell_type": "code",
   "execution_count": 8,
   "id": "91053ea5",
   "metadata": {},
   "outputs": [
    {
     "name": "stdout",
     "output_type": "stream",
     "text": [
      "5 6 7\n",
      "Perimeter of triangle = 18\n"
     ]
    }
   ],
   "source": [
    "# 6.perimeter of triangle s1+s2+s3\n",
    "s1,s2,s3=map(int,input().split())\n",
    "print(s1,s2,s3)\n",
    "print(f\"Perimeter of triangle = {s1+s2+s3}\")"
   ]
  },
  {
   "cell_type": "code",
   "execution_count": 13,
   "id": "790e9000",
   "metadata": {},
   "outputs": [
    {
     "name": "stdout",
     "output_type": "stream",
     "text": [
      "1000: 3\n",
      "500: 1\n",
      "Remaining: 200\n"
     ]
    }
   ],
   "source": [
    "# 7.. Break Amount into 1000s, 500s, and Remaining Change\n",
    "amount=3700\n",
    "count_1000=amount//1000\n",
    "amount%=1000\n",
    "count_500=amount//500\n",
    "amount%=500\n",
    "print(f\"1000: {count_1000}\\n500: {count_500}\\nRemaining: {amount}\")"
   ]
  },
  {
   "cell_type": "code",
   "execution_count": 15,
   "id": "94b68077",
   "metadata": {},
   "outputs": [
    {
     "name": "stdout",
     "output_type": "stream",
     "text": [
      "Hours: 1 - Minutes: 1 - Seconds: 12\n"
     ]
    }
   ],
   "source": [
    "# 8.Convert Seconds into Hours, Minutes, and Seconds\n",
    "s=3672\n",
    "hrs=s//(60**2)\n",
    "s%=60**2\n",
    "min=s//60\n",
    "s%=60\n",
    "print(f\"Hours: {hrs} - Minutes: {min} - Seconds: {s}\")"
   ]
  },
  {
   "cell_type": "code",
   "execution_count": 1,
   "id": "7f28c510",
   "metadata": {},
   "outputs": [
    {
     "name": "stdout",
     "output_type": "stream",
     "text": [
      "Total marks: 263\n",
      "Average marks: 87.66666666666667\n"
     ]
    }
   ],
   "source": [
    "# 9.Sum of Marks (Maths, Physics, Chemistry)\n",
    "s1,s2,s3=map(int,input().split())\n",
    "print(f\"Total marks: {s1+s2+s3}\\nAverage marks: {(s1+s2+s3)/3}\")"
   ]
  }
 ],
 "metadata": {
  "kernelspec": {
   "display_name": "base",
   "language": "python",
   "name": "python3"
  },
  "language_info": {
   "codemirror_mode": {
    "name": "ipython",
    "version": 3
   },
   "file_extension": ".py",
   "mimetype": "text/x-python",
   "name": "python",
   "nbconvert_exporter": "python",
   "pygments_lexer": "ipython3",
   "version": "3.11.5"
  }
 },
 "nbformat": 4,
 "nbformat_minor": 5
}
